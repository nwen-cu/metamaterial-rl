{
 "cells": [
  {
   "cell_type": "code",
   "execution_count": 1,
   "id": "07773388-996d-419f-a9d2-43dd91f6802e",
   "metadata": {},
   "outputs": [],
   "source": [
    "from typing import Union, Optional, Callable, Any\n",
    "from typing import Tuple, List, Set, Dict\n",
    "from typing import NamedTuple"
   ]
  },
  {
   "cell_type": "code",
   "execution_count": 2,
   "id": "75f68502-930a-46bc-a4f3-708ced9ddcb3",
   "metadata": {},
   "outputs": [],
   "source": [
    "from collections import defaultdict, deque"
   ]
  },
  {
   "cell_type": "code",
   "execution_count": 3,
   "id": "3874ecad-2369-408d-9d2d-88b92cb0cbfa",
   "metadata": {},
   "outputs": [],
   "source": [
    "import os\n",
    "import sys\n",
    "import time\n",
    "import datetime\n",
    "import random\n",
    "import math\n",
    "import itertools\n",
    "import uuid"
   ]
  },
  {
   "cell_type": "code",
   "execution_count": 4,
   "id": "efa66b8a-9874-44d3-882a-c94c5c26a599",
   "metadata": {},
   "outputs": [],
   "source": [
    "import multiprocess"
   ]
  },
  {
   "cell_type": "code",
   "execution_count": 5,
   "id": "14b0cce8-4366-411c-b1d2-2ec7239aa0c3",
   "metadata": {},
   "outputs": [],
   "source": [
    "import numpy as np\n",
    "import pandas as pd\n",
    "from PIL import Image, ImageChops"
   ]
  },
  {
   "cell_type": "code",
   "execution_count": 6,
   "id": "447e1e32-afda-4c52-9e9a-2354b7b67765",
   "metadata": {},
   "outputs": [],
   "source": [
    "import plotly.express as px\n",
    "import matplotlib.pyplot as plt"
   ]
  },
  {
   "cell_type": "code",
   "execution_count": null,
   "id": "7c9f9826-c2eb-4888-9884-d5658a9583eb",
   "metadata": {},
   "outputs": [],
   "source": []
  },
  {
   "cell_type": "code",
   "execution_count": 7,
   "id": "d2aacd73-9e70-45d1-9ab3-030d70bfb244",
   "metadata": {},
   "outputs": [],
   "source": [
    "import os\n",
    "import sys\n",
    "from contextlib import contextmanager\n",
    "\n",
    "@contextmanager\n",
    "def stdout_redirected(to=os.devnull):\n",
    "    '''\n",
    "    import os\n",
    "\n",
    "    with stdout_redirected(to=filename):\n",
    "        print(\"from Python\")\n",
    "        os.system(\"echo non-Python applications are also supported\")\n",
    "    '''\n",
    "    fd = sys.stdout.fileno()\n",
    "\n",
    "    ##### assert that Python and C stdio write using the same file descriptor\n",
    "    ####assert libc.fileno(ctypes.c_void_p.in_dll(libc, \"stdout\")) == fd == 1\n",
    "\n",
    "    def _redirect_stdout(to):\n",
    "        #sys.stdout.close() # + implicit flush()\n",
    "        os.dup2(to.fileno(), fd) # fd writes to 'to' file\n",
    "        sys.stdout = os.fdopen(fd, 'w') # Python writes to fd\n",
    "\n",
    "    with os.fdopen(os.dup(fd), 'w') as old_stdout:\n",
    "        with open(to, 'w') as file:\n",
    "            _redirect_stdout(to=file)\n",
    "        try:\n",
    "            yield # allow code to be run with the redirected stdout\n",
    "        finally:\n",
    "            _redirect_stdout(to=old_stdout) # restore stdout.\n",
    "                                            # buffering and flags such as\n",
    "                                            # CLOEXEC may be different"
   ]
  },
  {
   "cell_type": "code",
   "execution_count": 8,
   "id": "fd975bef-ed6b-4c52-9778-e41332996aad",
   "metadata": {},
   "outputs": [],
   "source": [
    "devnull = open(os.devnull, 'w')\n",
    "oldstdout_fno = os.dup(sys.stdout.fileno())\n",
    "os.dup2(devnull.fileno(), 1)\n",
    "import getfem as gf\n",
    "os.dup2(oldstdout_fno, 1)\n",
    "devnull.close()"
   ]
  },
  {
   "cell_type": "code",
   "execution_count": 9,
   "id": "fad6f677-08b0-4209-b645-007ca7ceff38",
   "metadata": {},
   "outputs": [],
   "source": [
    "import getfem as gf"
   ]
  },
  {
   "cell_type": "code",
   "execution_count": 10,
   "id": "7a24c453-a4b0-4347-b3a2-ac279671e460",
   "metadata": {},
   "outputs": [],
   "source": [
    "import pyvista as pv\n",
    "from pyvirtualdisplay.display import Display"
   ]
  },
  {
   "cell_type": "code",
   "execution_count": 11,
   "id": "dbef9937-9d9c-47bd-8288-205ff8957785",
   "metadata": {},
   "outputs": [
    {
     "name": "stdout",
     "output_type": "stream",
     "text": [
      "1.10.0\n"
     ]
    }
   ],
   "source": [
    "import torch\n",
    "from torch import nn\n",
    "\n",
    "from torch.nn.modules.loss import _Loss\n",
    "from torch.optim import Optimizer\n",
    "\n",
    "print(torch.__version__)"
   ]
  },
  {
   "cell_type": "code",
   "execution_count": 12,
   "id": "82477285-57ec-46b7-b9a4-0d88c73cfa14",
   "metadata": {},
   "outputs": [
    {
     "name": "stdout",
     "output_type": "stream",
     "text": [
      "Current computing device: cuda\n"
     ]
    }
   ],
   "source": [
    "cuda = torch.device('cuda') if torch.cuda.is_available() else torch.device('cpu')\n",
    "print('Current computing device:', cuda)"
   ]
  },
  {
   "cell_type": "code",
   "execution_count": 13,
   "id": "a5a11cab-6401-47a4-850a-42dd7f506e50",
   "metadata": {},
   "outputs": [],
   "source": [
    "#\n",
    "# Physical parameters\n",
    "#\n",
    "epsilon = .02       # Thickness of the plate (cm)\n",
    "E = 21E6           # Young Modulus (N/cm^2)\n",
    "nu = 0.3           # Poisson ratio\n",
    "clambda = E*nu/((1+nu)*(1-2*nu)) # First Lame coefficient (N/cm^2)\n",
    "cmu = E/(2*(1+nu))               # Second Lame coefficient (N/cm^2)\n",
    "clambdastar = 2*clambda*cmu/(clambda+2*cmu) # Lame coefficient for Plane stress (N/cm^2)\n",
    "F = 100E2          # Force density at the right boundary (N/cm^2)\n",
    "kappa = 4.         # Thermal conductivity (W/(cm K))\n",
    "D = 10.            # Heat transfer coefficient (W/(K cm^2))\n",
    "air_temp = 20.     # Temperature of the air in oC.\n",
    "alpha_th = 16.6E-6 # Thermal expansion coefficient (/K).\n",
    "T0 = 20.           # Reference temperature in oC.\n",
    "rho_0 = 1.754E-8   # Resistance temperature coefficient at T0 = 20oC\n",
    "alpha = 0.0039     # Second resistance temperature coefficient."
   ]
  },
  {
   "cell_type": "code",
   "execution_count": 14,
   "id": "b4e5a4b3-8c8a-4266-a55a-42b342c62dbe",
   "metadata": {},
   "outputs": [],
   "source": [
    "#\n",
    "# Numerical parameters\n",
    "#\n",
    "h = 2.                    # Approximate mesh size\n",
    "elements_degree = 2       # Degree of the finite element methods\n",
    "export_mesh = True        # Draw the mesh after mesh generation or not\n",
    "solve_in_two_steps = 1    # Solve the elasticity problem separately (1)\n",
    "                          # or in a coupled way (0) or both and compare (2)"
   ]
  },
  {
   "cell_type": "code",
   "execution_count": 15,
   "id": "c1e2fd47-6917-4eb0-b402-ae71161ca315",
   "metadata": {},
   "outputs": [],
   "source": [
    "# Data Classes\n",
    "State = torch.Tensor\n",
    "    \n",
    "Action = Tuple[Tuple[int, int], float] \n",
    "\n",
    "class Transition(NamedTuple):\n",
    "    state: State\n",
    "    action: Action\n",
    "    reward: float\n",
    "    next_state: State"
   ]
  },
  {
   "cell_type": "code",
   "execution_count": 16,
   "id": "46de84e9-6171-4680-8f86-3127e9b09636",
   "metadata": {},
   "outputs": [],
   "source": [
    "class GridHoleBoardEnv():\n",
    "    def __init__(self, \n",
    "                 size: Tuple[float, float], \n",
    "                 grid_size: Tuple[int, int],\n",
    "                 holes_disabled: Optional[Set[Tuple[int, int]]] = None) -> None:\n",
    "        self.size: Tuple[float, float] = size\n",
    "        self.grid_size: Tuple[int, int] = grid_size\n",
    "        self.cell_size: Tuple[float, float] = (size[0] / grid_size[0], size[1] / grid_size[1])\n",
    "        # (x, y) -> size\n",
    "        self.holes: torch.Tensor = torch.zeros(self.grid_size, device=cuda)\n",
    "            \n",
    "        # (x, y) -> (x_coord, y_coord)\n",
    "        self.holes_center: torch.Tensor = torch.zeros((*self.grid_size, 2))\n",
    "            \n",
    "        self.holes_disabled: Set[Tuple(int, int)] = holes_disabled if holes_disabled else {}\n",
    "            \n",
    "        self.action_space: List[Tuple[Tuple[int, int], float]] = list()\n",
    "            \n",
    "        for x in range(self.grid_size[0]):\n",
    "            for y in range(self.grid_size[1]):\n",
    "                self.holes_center[x, y, 0] = (x + 0.5) * self.cell_size[0]\n",
    "                self.holes_center[x, y, 1] = (y + 0.5) * self.cell_size[1]\n",
    "                if (x, y) not in self.holes_disabled:\n",
    "                    self.action_space.append(((x, y), 0.5))\n",
    "                    self.action_space.append(((x, y), -0.5))\n",
    "                    \n",
    "    def reset(self) -> None:\n",
    "        self.holes: torch.Tensor = torch.ones(self.grid_size, device=cuda)\n",
    "            \n",
    "    def random(self) -> None:\n",
    "        self.holes: torch.Tensor = torch.rand(self.grid_size, device=cuda) * 3\n",
    "    \n",
    "    def step(self, action: Action) -> None:\n",
    "        (x, y), size_change = action\n",
    "        \n",
    "        self.holes[x, y] += size_change\n",
    "        \n",
    "        self.holes[x, y] = torch.clamp(self.holes[x, y], 0., min(self.cell_size) / 2 - 1)\n",
    "        \n",
    "    def get_current_state(self) -> State:\n",
    "        return self.holes.clone()"
   ]
  },
  {
   "cell_type": "code",
   "execution_count": 17,
   "id": "6b96c263-8880-4861-a786-c0e594223727",
   "metadata": {},
   "outputs": [],
   "source": [
    "class GridHoleBoardThermalSimulator():\n",
    "    def __init__(self, element_diameter: float = 2) -> None:\n",
    "        self.element_diameter: float = element_diameter\n",
    "        self.mesh: gf.Mesh = None\n",
    "        \n",
    "    \n",
    "    def generate_fem_mesh(self, \n",
    "                          hole_board_env: GridHoleBoardEnv, \n",
    "                          state: Optional[torch.Tensor] = None, \n",
    "                          export_mesh: bool = False) -> gf.Mesh:\n",
    "        board = gf.MesherObject('rectangle', [0., 0.], list(hole_board_env.size))\n",
    "        holes: List[gf.MesherObject] = list()\n",
    "        \n",
    "        for x in range(hole_board_env.grid_size[0]):\n",
    "            for y in range(hole_board_env.grid_size[1]):\n",
    "                center = hole_board_env.holes_center[x, y].tolist()\n",
    "                if state:\n",
    "                    size = state[x, y].item()\n",
    "                else:\n",
    "                    size = hole_board_env.holes[x, y].item()\n",
    "\n",
    "                if size < 0.01 * self.element_diameter: continue\n",
    "                \n",
    "                holes.append(gf.MesherObject('ball', center, size))\n",
    "            \n",
    "        if holes:\n",
    "            holes_union = gf.MesherObject('union', *holes)\n",
    "            mesher = gf.MesherObject('set minus', board, holes_union)\n",
    "        else:\n",
    "            mesher = board\n",
    "        \n",
    "        print('Beginning mesh generation')\n",
    "        gf.util('trace level', 2)   # No trace for mesh generation\n",
    "        mesh = gf.Mesh('generate', mesher, self.element_diameter, 2)\n",
    "        \n",
    "        boundary: Dict[str, int] = dict()\n",
    "            \n",
    "        # Boundary of the holes\n",
    "        boundary['HOLE_BOUND'] = 1\n",
    "        mesh.set_region(boundary['HOLE_BOUND'], \n",
    "                        mesh.outer_faces_in_box([1., 1.], \n",
    "                                                [hole_board_env.size[0] - 1, hole_board_env.size[1] - 1]))\n",
    "        \n",
    "        boundary['LEFT_BOUND'] = 2\n",
    "        mesh.set_region(boundary['LEFT_BOUND'], mesh.outer_faces_with_direction([-1., 0.], 0.01))        \n",
    "        \n",
    "        boundary['RIGHT_BOUND'] = 3\n",
    "        mesh.set_region(boundary['RIGHT_BOUND'], mesh.outer_faces_with_direction([ 1., 0.], 0.01)) \n",
    "        \n",
    "        boundary['TOP_BOUND'] = 4\n",
    "        mesh.set_region(boundary['TOP_BOUND'], mesh.outer_faces_with_direction([0.,  1.], 0.01)) \n",
    "        \n",
    "        boundary['BOTTOM_BOUND'] = 5\n",
    "        mesh.set_region(boundary['BOTTOM_BOUND'], mesh.outer_faces_with_direction([0., -1.], 0.01)) \n",
    "        \n",
    "        mesh.region_subtract( boundary['RIGHT_BOUND'], boundary['HOLE_BOUND'])\n",
    "        mesh.region_subtract(  boundary['LEFT_BOUND'], boundary['HOLE_BOUND'])\n",
    "        mesh.region_subtract(   boundary['TOP_BOUND'], boundary['HOLE_BOUND'])\n",
    "        mesh.region_subtract(boundary['BOTTOM_BOUND'], boundary['HOLE_BOUND'])\n",
    "                \n",
    "        region_id = 7\n",
    "        for x in range(hole_board_env.grid_size[0]):\n",
    "            for y in range(hole_board_env.grid_size[1]):\n",
    "                center = hole_board_env.holes_center[x, y].tolist()\n",
    "                if state:\n",
    "                    size = state[x, y].item()\n",
    "                else:\n",
    "                    size = hole_board_env.holes[x, y].item()\n",
    "                bound_key = f'HOLE{x}_{y}_BOUND'\n",
    "                boundary[bound_key] = region_id\n",
    "                mesh.set_region(boundary[bound_key], \n",
    "                                mesh.outer_faces_in_ball(center, size + 0.01 * self.element_diameter))\n",
    "                if region_id == 7:\n",
    "                    boundary['HOLE_UNION_BOUND'] = 6\n",
    "                    mesh.set_region(boundary['HOLE_UNION_BOUND'], \n",
    "                                mesh.outer_faces_in_ball(center, size + 0.01 * self.element_diameter))\n",
    "                else:\n",
    "                    mesh.region_merge(boundary['HOLE_UNION_BOUND'], boundary[bound_key])\n",
    "                region_id += 1\n",
    "            \n",
    "        np.testing.assert_array_equal(mesh.region(boundary['HOLE_BOUND']), \n",
    "                                      mesh.region(boundary['HOLE_UNION_BOUND']))\n",
    "        \n",
    "        self.mesh = mesh\n",
    "        \n",
    "        if (export_mesh):\n",
    "            m = mesh.export_to_vtk('temp.vtk');\n",
    "            print('\\nMesh generation completed.');\n",
    "                        \n",
    "        return mesh, boundary\n",
    "        \n",
    "    \n",
    "    def run(self) -> Any:\n",
    "        # Load the T1, T2 temperature\n",
    "        # Set T1 to left bound, T2 to right\n",
    "        # Run fem for self.mesh\n",
    "        # Save the result to temp.vtk\n",
    "        ...\n",
    "    \n",
    "    def render_image(self, save_file: Optional[str] = None) -> Any:\n",
    "        display = Display(visible=0, size=(1280, 1024))\n",
    "        display.start()\n",
    "        p = pv.Plotter()\n",
    "        m = pv.read(\"temp.vtk\")\n",
    "        p.add_mesh(m, show_edges=True)\n",
    "#         if p.scalar_bars:\n",
    "#             for sb in list(p.scalar_bars.keys()):\n",
    "#                 p.remove_scalar_bar(sb)\n",
    "        p.camera_position = 'xy'\n",
    "        img_arr = p.screenshot(save_file, transparent_background=True)\n",
    "        display.stop()\n",
    "        return img_arr"
   ]
  },
  {
   "cell_type": "code",
   "execution_count": 18,
   "id": "60bf8023-1b55-4268-9f3b-27dc6a1186fa",
   "metadata": {},
   "outputs": [],
   "source": [
    "def run_fem(mesh, boundary):\n",
    "    #\n",
    "    # Definition of finite elements methods and integration method\n",
    "    #\n",
    "\n",
    "    mfu = gf.MeshFem(mesh, 2)  # Finite element for the elastic displacement\n",
    "    mfu.set_classical_fem(elements_degree)\n",
    "    mft = gf.MeshFem(mesh, 1)  # Finite element for temperature and electrical field\n",
    "    mft.set_classical_fem(elements_degree)\n",
    "    mfvm = gf.MeshFem(mesh, 1) # Finite element for Von Mises stress interpolation\n",
    "    mfvm.set_classical_discontinuous_fem(elements_degree)\n",
    "    mim = gf.MeshIm(mesh, elements_degree*2)   # Integration method\n",
    "\n",
    "    md=gf.Model('real');\n",
    "    md.add_fem_variable('u', mfu)       # Displacement of the structure\n",
    "    md.add_fem_variable('theta', mft)   # Temperature\n",
    "    md.add_fem_variable('V', mft)       # Electric potential\n",
    "\n",
    "    # Membrane elastic deformation\n",
    "    md.add_initialized_data('cmu', [cmu])\n",
    "    md.add_initialized_data('clambdastar', [clambdastar])\n",
    "    md.add_isotropic_linearized_elasticity_brick(mim, 'u', 'clambdastar', 'cmu')\n",
    "\n",
    "    md.add_Dirichlet_condition_with_multipliers(mim, 'u', elements_degree-1, boundary['LEFT_BOUND'])\n",
    "    md.add_initialized_data('Fdata', [F*epsilon, 0])\n",
    "    md.add_source_term_brick(mim, 'u', 'Fdata', boundary['RIGHT_BOUND'])\n",
    "\n",
    "    # Electrical field\n",
    "    sigmaeps = '(eps/(rho_0*(1+alpha*(theta-T0))))'\n",
    "    md.add_initialized_data('eps', [epsilon])\n",
    "    md.add_initialized_data('rho_0', [rho_0])\n",
    "    md.add_initialized_data('alpha', [alpha])\n",
    "    md.add_initialized_data('T0', [T0])\n",
    "    md.add_nonlinear_term(mim, sigmaeps+'*(Grad_V.Grad_Test_V)')\n",
    "    md.add_Dirichlet_condition_with_multipliers(mim, 'V', elements_degree-1, boundary['RIGHT_BOUND'])\n",
    "    md.add_initialized_data('DdataV', [2.])\n",
    "    md.add_Dirichlet_condition_with_multipliers(mim, 'V', elements_degree-1, boundary['LEFT_BOUND'], 'DdataV')\n",
    "\n",
    "    # Thermal problem\n",
    "    md.add_initialized_data('kaeps', [kappa*epsilon])\n",
    "    md.add_generic_elliptic_brick(mim, 'theta', 'kaeps')\n",
    "    md.add_initialized_data('D2', [D*2])\n",
    "    md.add_initialized_data('D2airt', [air_temp*D*2])\n",
    "    md.add_mass_brick(mim, 'theta', 'D2')\n",
    "    md.add_source_term_brick(mim, 'theta', 'D2airt')\n",
    "    md.add_initialized_data('Deps', [D/epsilon])\n",
    "    md.add_initialized_data('Depsairt', [air_temp*D/epsilon])\n",
    "    md.add_Fourier_Robin_brick(mim, 'theta', 'Deps', boundary['TOP_BOUND'])\n",
    "    md.add_source_term_brick(mim, 'theta', 'Depsairt', boundary['TOP_BOUND'])\n",
    "    md.add_Fourier_Robin_brick(mim, 'theta', 'Deps', boundary['BOTTOM_BOUND'])\n",
    "    md.add_source_term_brick(mim, 'theta', 'Depsairt', boundary['BOTTOM_BOUND'])\n",
    "\n",
    "    # Joule heating term\n",
    "    md.add_nonlinear_term(mim, '-'+sigmaeps+'*Norm_sqr(Grad_V)*Test_theta')\n",
    "\n",
    "    # Thermal expansion term\n",
    "    md.add_initialized_data('beta', [alpha_th*E/(1-2*nu)])\n",
    "    md.add_linear_term(mim, 'beta*(T0-theta)*Trace(Grad_Test_u)')\n",
    "\n",
    "    #\n",
    "    # Model solve\n",
    "    #\n",
    "\n",
    "    md.disable_variable('u')\n",
    "    md.solve('max_res', 1E-9, 'max_iter', 100)\n",
    "\n",
    "    #\n",
    "    # Solution export\n",
    "    #  \n",
    "    U = md.variable('u')\n",
    "    V = md.variable('V')\n",
    "    THETA = md.variable('theta')\n",
    "    VM = md.compute_isotropic_linearized_Von_Mises_or_Tresca('u', 'clambdastar', 'cmu', mfvm)\n",
    "    CO = np.reshape(md.interpolation('-'+sigmaeps+'*Grad_V', mfvm), (2, mfvm.nbdof()), 'F')\n",
    "\n",
    "#     mfvm.export_to_vtk('displacement_with_von_mises.vtk', mfvm,  VM, 'Von Mises Stresses', mfu, U, 'Displacements')\n",
    "#     print('You can view solutions with for instance:\\nmayavi2 -d displacement_with_von_mises.vtk -f WarpVector -m Surface')\n",
    "    filename = f'temp/{uuid.uuid4()}.vtk'\n",
    "    mft.export_to_vtk(filename, mft, THETA, 'Temperature')\n",
    "    return filename\n",
    "#     print('mayavi2 -d temperature.vtk -f WarpScalar -m Surface')\n",
    "#     mft.export_to_vtk('electric_potential.vtk', mft, V, 'Electric potential')\n",
    "#     print('mayavi2 -d electric_potential.vtk -f WarpScalar -m Surface')\n"
   ]
  },
  {
   "cell_type": "code",
   "execution_count": 19,
   "id": "b79ff686-b4e9-4637-8b7c-1135b639f62e",
   "metadata": {},
   "outputs": [],
   "source": [
    "multiprocess.set_start_method('spawn')"
   ]
  },
  {
   "cell_type": "code",
   "execution_count": 20,
   "id": "2b4575e9-9177-459a-b601-a31ffe50c48c",
   "metadata": {},
   "outputs": [],
   "source": [
    "def render_image(filename):\n",
    "    import pyvista as pv\n",
    "    from pyvirtualdisplay.display import Display\n",
    "    display = Display(visible=0, size=(1280, 1024))\n",
    "    display.start()\n",
    "    p = pv.Plotter()\n",
    "    m = pv.read(filename)\n",
    "    p.enable_3_lights()\n",
    "    p.add_mesh(m, line_width=5, cmap='Greys_r', clim=[20, 60]) #\n",
    "    if p.scalar_bars:\n",
    "        for sb in list(p.scalar_bars.keys()):\n",
    "            p.remove_scalar_bar(sb)\n",
    "    p.view_xy()\n",
    "#     p.show(window_size=[512, 384], jupyter_backend='panel', cpos=\"xy\")\n",
    "    img = p.screenshot(filename=None, transparent_background=True, window_size=[512, 384])\n",
    "    display.stop()\n",
    "    return img"
   ]
  },
  {
   "cell_type": "code",
   "execution_count": 21,
   "id": "f032364a-53df-4574-bee1-9021e56f05cd",
   "metadata": {},
   "outputs": [],
   "source": [
    "# pool = multiprocess.Pool(32)\n",
    "# result = pool.map(render_image, ['feme.vtk']*100)"
   ]
  },
  {
   "cell_type": "code",
   "execution_count": 22,
   "id": "c25b62b1-ef3d-4518-80f5-46162322cbad",
   "metadata": {},
   "outputs": [],
   "source": [
    "q = multiprocess.Queue()"
   ]
  },
  {
   "cell_type": "code",
   "execution_count": 23,
   "id": "dee00252-19fc-48f6-b0ee-ffb5df9af705",
   "metadata": {},
   "outputs": [
    {
     "data": {
      "text/plain": [
       "['_maxsize',\n",
       " '_reader',\n",
       " '_writer',\n",
       " '_rlock',\n",
       " '_opid',\n",
       " '_wlock',\n",
       " '_sem',\n",
       " '_ignore_epipe',\n",
       " '_notempty',\n",
       " '_buffer',\n",
       " '_thread',\n",
       " '_jointhread',\n",
       " '_joincancelled',\n",
       " '_closed',\n",
       " '_close',\n",
       " '_send_bytes',\n",
       " '_recv_bytes',\n",
       " '_poll',\n",
       " '__module__',\n",
       " '__init__',\n",
       " '__getstate__',\n",
       " '__setstate__',\n",
       " '_after_fork',\n",
       " 'put',\n",
       " 'get',\n",
       " 'qsize',\n",
       " 'empty',\n",
       " 'full',\n",
       " 'get_nowait',\n",
       " 'put_nowait',\n",
       " 'close',\n",
       " 'join_thread',\n",
       " 'cancel_join_thread',\n",
       " '_start_thread',\n",
       " '_finalize_join',\n",
       " '_finalize_close',\n",
       " '_feed',\n",
       " '_on_queue_feeder_error',\n",
       " '__dict__',\n",
       " '__weakref__',\n",
       " '__doc__',\n",
       " '__repr__',\n",
       " '__hash__',\n",
       " '__str__',\n",
       " '__getattribute__',\n",
       " '__setattr__',\n",
       " '__delattr__',\n",
       " '__lt__',\n",
       " '__le__',\n",
       " '__eq__',\n",
       " '__ne__',\n",
       " '__gt__',\n",
       " '__ge__',\n",
       " '__new__',\n",
       " '__reduce_ex__',\n",
       " '__reduce__',\n",
       " '__subclasshook__',\n",
       " '__init_subclass__',\n",
       " '__format__',\n",
       " '__sizeof__',\n",
       " '__dir__',\n",
       " '__class__']"
      ]
     },
     "execution_count": 23,
     "metadata": {},
     "output_type": "execute_result"
    }
   ],
   "source": [
    "q.__dir__()"
   ]
  },
  {
   "cell_type": "code",
   "execution_count": 24,
   "id": "382f0e96-fb7e-47ca-a327-4d77debfbd70",
   "metadata": {},
   "outputs": [
    {
     "data": {
      "image/png": "[encoded data removed]",
      "text/plain": [
       "<PIL.Image.Image image mode=RGBA size=296x222 at 0x152173849190>"
      ]
     },
     "execution_count": 24,
     "metadata": {},
     "output_type": "execute_result"
    }
   ],
   "source": [
    "filename = 'temp.vtk'\n",
    "import pyvista as pv\n",
    "from pyvirtualdisplay.display import Display\n",
    "with Display(visible=0, size=(1280, 1024)) as display:\n",
    "    p = pv.Plotter(off_screen=True, lighting='three lights')\n",
    "    p.enable_3_lights()\n",
    "    if p.scalar_bars:\n",
    "        for sb in list(p.scalar_bars.keys()):\n",
    "            p.remove_scalar_bar(sb)\n",
    "\n",
    "\n",
    "\n",
    "    m = pv.read(filename)\n",
    "\n",
    "    a = p.add_mesh(m, line_width=5, cmap='Greys_r', clim=[20, 60], show_scalar_bar=False)\n",
    "    p.view_xy()\n",
    "\n",
    "    img_arr = p.screenshot(filename=f'temp.png', transparent_background=True, window_size=[512, 384])\n",
    "\n",
    "    #p.remove_actor(a, render=False)\n",
    "\n",
    "    img = Image.fromarray(img_arr)\n",
    "    bg = Image.new(img.mode, img.size, img.getpixel((0,0)))\n",
    "    diff = ImageChops.difference(img, bg)\n",
    "    diff = ImageChops.add(diff, diff, 2.0, -100)\n",
    "    bbox = diff.getbbox()\n",
    "    if bbox:\n",
    "        img = img.crop(bbox)\n",
    "    img_tensor = torch.tensor(np.array(img))\n",
    "img"
   ]
  },
  {
   "cell_type": "code",
   "execution_count": 25,
   "id": "cce00fa3-14f4-4928-a580-601c48ec31ca",
   "metadata": {},
   "outputs": [
    {
     "data": {
      "text/plain": [
       "torch.device"
      ]
     },
     "execution_count": 25,
     "metadata": {},
     "output_type": "execute_result"
    }
   ],
   "source": [
    "type(torch.device('cuda'))"
   ]
  },
  {
   "cell_type": "code",
   "execution_count": null,
   "id": "73f3fff9-849c-459f-819b-d20bc9a20247",
   "metadata": {},
   "outputs": [],
   "source": []
  },
  {
   "cell_type": "code",
   "execution_count": null,
   "id": "3acbc2b4-6d59-4709-a8a6-7f658c46a713",
   "metadata": {},
   "outputs": [],
   "source": []
  },
  {
   "cell_type": "code",
   "execution_count": 26,
   "id": "5c539448-237c-43c4-a894-7277ae5a5519",
   "metadata": {},
   "outputs": [],
   "source": [
    "def trim_image(img: Image):\n",
    "    bg = Image.new(img.mode, img.size, img.getpixel((0,0)))\n",
    "    diff = ImageChops.difference(img, bg)\n",
    "    diff = ImageChops.add(diff, diff, 2.0, -100)\n",
    "    bbox = diff.getbbox()\n",
    "    if bbox:\n",
    "        return img.crop(bbox)"
   ]
  },
  {
   "cell_type": "code",
   "execution_count": 27,
   "id": "293af748-afc2-4f9b-8dfe-196ffa490cd2",
   "metadata": {},
   "outputs": [
    {
     "name": "stdout",
     "output_type": "stream",
     "text": [
      "Beginning mesh generation\n"
     ]
    },
    {
     "name": "stderr",
     "output_type": "stream",
     "text": [
      "Trace 2 in getfem_models.cc, line 4386: Mass term assembly for Dirichlet condition\n",
      "Trace 2 in getfem_models.cc, line 4386: Mass term assembly for Dirichlet condition\n",
      "Trace 2 in getfem_models.cc, line 4386: Mass term assembly for Dirichlet condition\n",
      "Trace 2 in getfem_models.cc, line 4423: Source term assembly for Dirichlet condition\n",
      "Trace 2 in getfem_models.cc, line 4386: Mass term assembly for Dirichlet condition\n",
      "Trace 2 in getfem_models.cc, line 4386: Mass term assembly for Dirichlet condition\n",
      "Trace 2 in getfem_models.cc, line 4423: Source term assembly for Dirichlet condition\n",
      "Trace 2 in getfem_models.cc, line 3463: Generic elliptic: generic matrix assembly\n",
      "Trace 2 in getfem_models.cc, line 3463: Mass matrix: generic matrix assembly\n",
      "Trace 2 in getfem_models.cc, line 3299: Generic source term assembly\n",
      "Trace 2 in getfem_models.cc, line 3306: Source term: generic source term assembly\n",
      "Trace 2 in getfem_models.cc, line 3463: Fourier-Robin: generic matrix assembly\n",
      "Trace 2 in getfem_models.cc, line 3299: Generic source term assembly\n",
      "Trace 2 in getfem_models.cc, line 3306: Source term: generic source term assembly\n",
      "Trace 2 in getfem_models.cc, line 3463: Fourier-Robin: generic matrix assembly\n",
      "Trace 2 in getfem_models.cc, line 3299: Generic source term assembly\n",
      "Trace 2 in getfem_models.cc, line 3306: Source term: generic source term assembly\n",
      "Trace 2 in getfem_models.cc, line 3463: Generic linear assembly brick: generic matrix assembly\n",
      "Trace 2 in getfem_models.cc, line 2641: Global generic assembly RHS\n",
      "Trace 2 in getfem_models.cc, line 2643: Global generic assembly tangent term\n",
      "Trace 2 in getfem_models.cc, line 2641: Global generic assembly RHS\n",
      "Trace 2 in getfem_models.cc, line 2643: Global generic assembly tangent term\n",
      "Trace 2 in getfem_models.cc, line 2641: Global generic assembly RHS\n",
      "Trace 2 in getfem_models.cc, line 2643: Global generic assembly tangent term\n",
      "Trace 2 in getfem_models.cc, line 2641: Global generic assembly RHS\n",
      "Trace 2 in getfem_models.cc, line 2643: Global generic assembly tangent term\n",
      "Trace 2 in getfem_models.cc, line 2641: Global generic assembly RHS\n",
      "Trace 2 in getfem_models.cc, line 2643: Global generic assembly tangent term\n",
      "Trace 2 in getfem_models.cc, line 2641: Global generic assembly RHS\n"
     ]
    },
    {
     "data": {
      "image/png": "[encoded data removed]",
      "text/plain": [
       "<PIL.Image.Image image mode=RGBA size=296x222 at 0x152173917970>"
      ]
     },
     "execution_count": 27,
     "metadata": {},
     "output_type": "execute_result"
    }
   ],
   "source": [
    "env = GridHoleBoardEnv(size=(80, 60), grid_size=(4, 3))\n",
    "env.random()\n",
    "\n",
    "fem = GridHoleBoardThermalSimulator(element_diameter=2)\n",
    "mesh, boundary = fem.generate_fem_mesh(env, export_mesh=False)\n",
    "result = run_fem(mesh, boundary)\n",
    "img = trim_image(Image.fromarray(render_image(result)))\n",
    "img"
   ]
  },
  {
   "cell_type": "code",
   "execution_count": 28,
   "id": "af25d030-f270-438c-bf3f-613d53932acd",
   "metadata": {},
   "outputs": [
    {
     "data": {
      "text/html": [
       "<table><tr><th>Header</th><th>Data Arrays</th></tr><tr><td>\n",
       "<table>\n",
       "<tr><th>UnstructuredGrid</th><th>Information</th></tr>\n",
       "<tr><td>N Cells</td><td>2583</td></tr>\n",
       "<tr><td>N Points</td><td>5362</td></tr>\n",
       "<tr><td>X Bounds</td><td>0.000e+00, 8.000e+01</td></tr>\n",
       "<tr><td>Y Bounds</td><td>0.000e+00, 6.000e+01</td></tr>\n",
       "<tr><td>Z Bounds</td><td>0.000e+00, 0.000e+00</td></tr>\n",
       "<tr><td>N Arrays</td><td>1</td></tr>\n",
       "</table>\n",
       "\n",
       "</td><td>\n",
       "<table>\n",
       "<tr><th>Name</th><th>Field</th><th>Type</th><th>N Comp</th><th>Min</th><th>Max</th></tr>\n",
       "<tr><td><b>Temperature</b></td><td>Points</td><td>float32</td><td>1</td><td>1.823e+01</td><td>1.428e+02</td></tr>\n",
       "</table>\n",
       "\n",
       "</td></tr> </table>"
      ],
      "text/plain": [
       "UnstructuredGrid (0x15215058c0a0)\n",
       "  N Cells:\t2583\n",
       "  N Points:\t5362\n",
       "  X Bounds:\t0.000e+00, 8.000e+01\n",
       "  Y Bounds:\t0.000e+00, 6.000e+01\n",
       "  Z Bounds:\t0.000e+00, 0.000e+00\n",
       "  N Arrays:\t1"
      ]
     },
     "execution_count": 28,
     "metadata": {},
     "output_type": "execute_result"
    }
   ],
   "source": [
    "pv.read(result)"
   ]
  },
  {
   "cell_type": "code",
   "execution_count": 29,
   "id": "4d558c07-d261-4436-9c8f-11e748637ef0",
   "metadata": {},
   "outputs": [
    {
     "data": {
      "text/plain": [
       "torch.Size([222, 296, 4])"
      ]
     },
     "execution_count": 29,
     "metadata": {},
     "output_type": "execute_result"
    }
   ],
   "source": [
    "result = torch.tensor(np.array(img))\n",
    "result.size()"
   ]
  },
  {
   "cell_type": "code",
   "execution_count": 30,
   "id": "d8023cc1-cd87-40cc-9f8c-602e1105ee5c",
   "metadata": {},
   "outputs": [
    {
     "data": {
      "text/plain": [
       "tensor([[[ 81,  81,  81, 255],\n",
       "         [ 81,  81,  81, 255],\n",
       "         [ 74,  74,  74, 255],\n",
       "         ...,\n",
       "         [ 64,  64,  64, 255],\n",
       "         [ 73,  73,  73, 255],\n",
       "         [ 73,  73,  73, 255]],\n",
       "\n",
       "        [[171, 171, 171, 255],\n",
       "         [164, 164, 164, 255],\n",
       "         [143, 143, 143, 255],\n",
       "         ...,\n",
       "         [126, 126, 126, 255],\n",
       "         [147, 147, 147, 255],\n",
       "         [152, 152, 152, 255]],\n",
       "\n",
       "        [[237, 237, 237, 255],\n",
       "         [226, 226, 226, 255],\n",
       "         [216, 216, 216, 255],\n",
       "         ...,\n",
       "         [192, 192, 192, 255],\n",
       "         [207, 207, 207, 255],\n",
       "         [220, 220, 220, 255]],\n",
       "\n",
       "        ...,\n",
       "\n",
       "        [[234, 234, 234, 255],\n",
       "         [221, 221, 221, 255],\n",
       "         [208, 208, 208, 255],\n",
       "         ...,\n",
       "         [196, 196, 196, 255],\n",
       "         [211, 211, 211, 255],\n",
       "         [224, 224, 224, 255]],\n",
       "\n",
       "        [[169, 169, 169, 255],\n",
       "         [163, 163, 163, 255],\n",
       "         [140, 140, 140, 255],\n",
       "         ...,\n",
       "         [130, 130, 130, 255],\n",
       "         [151, 151, 151, 255],\n",
       "         [157, 157, 157, 255]],\n",
       "\n",
       "        [[ 81,  81,  81, 255],\n",
       "         [ 81,  81,  81, 255],\n",
       "         [ 71,  71,  71, 255],\n",
       "         ...,\n",
       "         [ 66,  66,  66, 255],\n",
       "         [ 74,  74,  74, 255],\n",
       "         [ 74,  74,  74, 255]]], dtype=torch.uint8)"
      ]
     },
     "execution_count": 30,
     "metadata": {},
     "output_type": "execute_result"
    }
   ],
   "source": [
    "result"
   ]
  },
  {
   "cell_type": "code",
   "execution_count": 31,
   "id": "3a0b9f2b-16ed-407c-a62e-8ae86be6db39",
   "metadata": {},
   "outputs": [],
   "source": [
    "from torchvision.transforms import PILToTensor"
   ]
  },
  {
   "cell_type": "code",
   "execution_count": 32,
   "id": "296d64b4-0945-4a7c-a596-07354bc255ed",
   "metadata": {},
   "outputs": [
    {
     "data": {
      "text/plain": [
       "torch.Size([4, 222, 296])"
      ]
     },
     "execution_count": 32,
     "metadata": {},
     "output_type": "execute_result"
    }
   ],
   "source": [
    "ttresult = PILToTensor()(img)\n",
    "ttresult.size()"
   ]
  },
  {
   "cell_type": "code",
   "execution_count": 33,
   "id": "8395b601-135a-41ee-abc9-a2332d1ff96e",
   "metadata": {},
   "outputs": [
    {
     "data": {
      "text/plain": [
       "tensor([[ 81,  81,  74,  ...,  64,  73,  73],\n",
       "        [171, 164, 143,  ..., 126, 147, 152],\n",
       "        [237, 226, 216,  ..., 192, 207, 220],\n",
       "        ...,\n",
       "        [234, 221, 208,  ..., 196, 211, 224],\n",
       "        [169, 163, 140,  ..., 130, 151, 157],\n",
       "        [ 81,  81,  71,  ...,  66,  74,  74]], dtype=torch.uint8)"
      ]
     },
     "execution_count": 33,
     "metadata": {},
     "output_type": "execute_result"
    }
   ],
   "source": [
    "ttresult[0]"
   ]
  },
  {
   "cell_type": "code",
   "execution_count": 34,
   "id": "68f68d2e-195d-461e-8fb5-6601a1fe8cb2",
   "metadata": {},
   "outputs": [
    {
     "ename": "NameError",
     "evalue": "name 'compare_spot' is not defined",
     "output_type": "error",
     "traceback": [
      "\u001b[0;31m---------------------------------------------------------------------------\u001b[0m",
      "\u001b[0;31mNameError\u001b[0m                                 Traceback (most recent call last)",
      "\u001b[0;32m/local_scratch/pbs.4436784.pbs02/ipykernel_2446929/2290376323.py\u001b[0m in \u001b[0;36m<module>\u001b[0;34m\u001b[0m\n\u001b[1;32m      1\u001b[0m \u001b[0mtorch\u001b[0m\u001b[0;34m.\u001b[0m\u001b[0mBoolTensor\u001b[0m\u001b[0;34m(\u001b[0m\u001b[0;34m*\u001b[0m\u001b[0;34m(\u001b[0m\u001b[0mttresult\u001b[0m\u001b[0;34m[\u001b[0m\u001b[0;36m0\u001b[0m\u001b[0;34m]\u001b[0m\u001b[0;34m.\u001b[0m\u001b[0msize\u001b[0m\u001b[0;34m(\u001b[0m\u001b[0;34m)\u001b[0m\u001b[0;34m)\u001b[0m\u001b[0;34m)\u001b[0m\u001b[0;34m\u001b[0m\u001b[0;34m\u001b[0m\u001b[0m\n\u001b[0;32m----> 2\u001b[0;31m \u001b[0;32mfor\u001b[0m \u001b[0mspot\u001b[0m \u001b[0;32min\u001b[0m \u001b[0mcompare_spot\u001b[0m\u001b[0;34m:\u001b[0m\u001b[0;34m\u001b[0m\u001b[0;34m\u001b[0m\u001b[0m\n\u001b[0m\u001b[1;32m      3\u001b[0m     \u001b[0mcompare_mask\u001b[0m\u001b[0;34m[\u001b[0m\u001b[0mspot\u001b[0m\u001b[0;34m]\u001b[0m \u001b[0;34m=\u001b[0m \u001b[0;32mTrue\u001b[0m\u001b[0;34m\u001b[0m\u001b[0;34m\u001b[0m\u001b[0m\n",
      "\u001b[0;31mNameError\u001b[0m: name 'compare_spot' is not defined"
     ]
    }
   ],
   "source": [
    "torch.BoolTensor(*(ttresult[0].size()))\n",
    "for spot in compare_spot:\n",
    "    compare_mask[spot] = True"
   ]
  },
  {
   "cell_type": "code",
   "execution_count": null,
   "id": "c8952467-5f1e-47ec-bc64-5a958416cf98",
   "metadata": {},
   "outputs": [],
   "source": [
    "target_img = Image.open('target.png')\n",
    "target_img"
   ]
  },
  {
   "cell_type": "code",
   "execution_count": null,
   "id": "9dfbbe6e-f88b-42c2-bc30-21bb4de7b2d8",
   "metadata": {},
   "outputs": [],
   "source": []
  },
  {
   "cell_type": "code",
   "execution_count": null,
   "id": "ab866216-1aac-4fd3-a654-6979218bafc8",
   "metadata": {},
   "outputs": [],
   "source": []
  },
  {
   "cell_type": "code",
   "execution_count": null,
   "id": "d04422ee-0a27-4be1-8308-a4d0e714f7d1",
   "metadata": {},
   "outputs": [],
   "source": [
    "result = ToTensor()(img)[0]\n",
    "result.size()"
   ]
  },
  {
   "cell_type": "code",
   "execution_count": null,
   "id": "3cbfa7f9-8e63-4243-8254-b4a71ea8659a",
   "metadata": {},
   "outputs": [],
   "source": [
    "target = ToTensor()(target_img)[0]"
   ]
  },
  {
   "cell_type": "code",
   "execution_count": null,
   "id": "d80499b5-a669-4ad2-ac7c-ddd3c4297d57",
   "metadata": {},
   "outputs": [],
   "source": [
    "target.size()"
   ]
  },
  {
   "cell_type": "code",
   "execution_count": null,
   "id": "ce53a2ce-3e5c-4aa1-af6d-0bb6bbbb956e",
   "metadata": {},
   "outputs": [],
   "source": [
    "compare_spot = [(73, 36),\n",
    "               (147, 36),\n",
    "               (73, 110),\n",
    "               (147, 110),\n",
    "               (73, 184),\n",
    "               (147, 184),\n",
    "               (73, 258),\n",
    "               (147, 258)]\n",
    "compare_mask = torch.BoolTensor(*target.size()).fill_(False)\n",
    "for spot in compare_spot:\n",
    "    compare_mask[spot] = True\n",
    "\n",
    "pool_radius = 2\n"
   ]
  },
  {
   "cell_type": "code",
   "execution_count": null,
   "id": "934f4eac-db3a-4e52-ba35-0b70c3a2bf9d",
   "metadata": {},
   "outputs": [],
   "source": [
    "compare_mask.size()"
   ]
  },
  {
   "cell_type": "code",
   "execution_count": null,
   "id": "ae5d2043-dc30-4650-acff-12f61d96dc64",
   "metadata": {},
   "outputs": [],
   "source": [
    "r = result[compare_mask]\n",
    "r"
   ]
  },
  {
   "cell_type": "code",
   "execution_count": null,
   "id": "d6d202a1-69d7-4377-81bb-070d910ff9bc",
   "metadata": {},
   "outputs": [],
   "source": [
    "t = target[compare_mask].reshape((8, 4))[:, 1].to(torch.float)\n",
    "t"
   ]
  },
  {
   "cell_type": "code",
   "execution_count": null,
   "id": "b2eaaa1a-74c8-42a4-88c2-34352bd17ee0",
   "metadata": {},
   "outputs": [],
   "source": [
    "import matplotlib.cm as cm\n",
    "g = cm.get_cmap('Greys_r')\n",
    "g(254)"
   ]
  },
  {
   "cell_type": "code",
   "execution_count": null,
   "id": "bb9e55ba-4bce-40a8-94a4-fda31a913a5a",
   "metadata": {},
   "outputs": [],
   "source": [
    "r - t"
   ]
  },
  {
   "cell_type": "code",
   "execution_count": null,
   "id": "dcafdd01-c70c-4937-bdc6-0b2222d54344",
   "metadata": {},
   "outputs": [],
   "source": [
    "t"
   ]
  },
  {
   "cell_type": "code",
   "execution_count": null,
   "id": "67905e0a-0bb7-4b1d-a6d7-555ae76693b3",
   "metadata": {},
   "outputs": [],
   "source": [
    "setattr(type(t), 'mp_manager', 123)"
   ]
  },
  {
   "cell_type": "code",
   "execution_count": null,
   "id": "611da518-0584-4c15-936c-591f1751421d",
   "metadata": {},
   "outputs": [],
   "source": [
    "getattr(type(t), 'mp_manager')"
   ]
  },
  {
   "cell_type": "code",
   "execution_count": null,
   "id": "8fe54547-29fb-4621-9c62-9a427abddb4c",
   "metadata": {},
   "outputs": [],
   "source": []
  }
 ],
 "metadata": {
  "kernelspec": {
   "display_name": "Py3.8 MetaMaterial-RL",
   "language": "python",
   "name": "metamtl-rl"
  },
  "language_info": {
   "codemirror_mode": {
    "name": "ipython",
    "version": 3
   },
   "file_extension": ".py",
   "mimetype": "text/x-python",
   "name": "python",
   "nbconvert_exporter": "python",
   "pygments_lexer": "ipython3",
   "version": "3.8.12"
  }
 },
 "nbformat": 4,
 "nbformat_minor": 5
}
