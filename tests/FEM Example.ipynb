{
 "cells": [
  {
   "cell_type": "code",
   "execution_count": 1,
   "id": "9283406c-c271-4d24-bfdf-3bbdfacc4acc",
   "metadata": {},
   "outputs": [
    {
     "name": "stdout",
     "output_type": "stream",
     "text": [
      "initializing ...\n",
      "numthread = 1\n"
     ]
    }
   ],
   "source": [
    "import numpy as np\n",
    "\n",
    "import getfem as gf"
   ]
  },
  {
   "cell_type": "code",
   "execution_count": 17,
   "id": "c3b73e19-dad0-4f0e-a1c2-f96566eb0599",
   "metadata": {},
   "outputs": [],
   "source": [
    "import pyvista as pv\n",
    "from pyvirtualdisplay import Display\n",
    "\n",
    "def render(edge = True):\n",
    "    display = Display(visible=0, size=(1280, 1024))\n",
    "    display.start()\n",
    "    p = pv.Plotter()\n",
    "    m = pv.read(\"feme.vtk\")\n",
    "    p.add_mesh(m, show_edges=edge, line_width=5)\n",
    "    pts = m.points\n",
    "    p.add_point_labels(pts, pts[:, 0].tolist(), point_size=10, font_size=10)\n",
    "    p.show(window_size=[512, 384], jupyter_backend='panel', cpos=\"xy\")\n",
    "    display.stop()"
   ]
  },
  {
   "cell_type": "code",
   "execution_count": 18,
   "id": "6a807bc3-7e25-417c-a3dc-5f4cb6ad1319",
   "metadata": {},
   "outputs": [
    {
     "data": {
      "text/plain": []
     },
     "execution_count": 18,
     "metadata": {},
     "output_type": "execute_result"
    },
    {
     "name": "stdout",
     "output_type": "stream",
     "text": [
      "message from gf_mesher_object_get follow:\n",
      "gfMesherObject object\n",
      "\n"
     ]
    }
   ],
   "source": [
    "center = [0.0, 0.0]\n",
    "radius = 1.0\n",
    "mo = gf.MesherObject(\"ball\", center, radius)\n",
    "mo"
   ]
  },
  {
   "cell_type": "code",
   "execution_count": 22,
   "id": "090ffc90-bfcb-4d50-b377-5a9f640c78a2",
   "metadata": {},
   "outputs": [
    {
     "name": "stdout",
     "output_type": "stream",
     "text": [
      "effective bounding box : [-0.998954, -1] : [0.998954, 0.950032]\n",
      "Iter 0 NEW DELAUNAY, running on 360 points\n",
      "number of elements after selection = 672\n",
      "Iter 5 NEW DELAUNAY, running on 360 points\n",
      "number of elements after selection = 668\n",
      "Iter 10 NEW DELAUNAY, running on 360 points\n",
      "number of elements after selection = 668\n",
      "Iter 15 NEW DELAUNAY, running on 360 points\n",
      "number of elements after selection = 668\n",
      "Iter 20 NEW DELAUNAY, running on 360 points\n",
      "number of elements after selection = 666\n",
      "Iter 25 NEW DELAUNAY, running on 360 points\n",
      "number of elements after selection = 666\n",
      "Iter 31 NEW DELAUNAY, running on 360 points\n",
      "number of elements after selection = 664\n",
      "Iter 38 NEW DELAUNAY, running on 360 points\n",
      "number of elements after selection = 664\n",
      "Iter 44 NEW DELAUNAY, running on 360 points\n",
      "number of elements after selection = 660\n",
      "Iter 52 NEW DELAUNAY, running on 360 points\n",
      "number of elements after selection = 658\n",
      "Iter 58 NEW DELAUNAY, running on 360 points\n",
      "number of elements after selection = 658\n",
      "Iter 63 NEW DELAUNAY, running on 360 points\n",
      "number of elements after selection = 656\n",
      "Iter 70 NEW DELAUNAY, running on 360 points\n",
      "number of elements after selection = 656\n",
      "Iter 81 NEW DELAUNAY, running on 360 points\n",
      "number of elements after selection = 656\n",
      "Iter 95 NEW DELAUNAY, running on 360 points\n",
      "number of elements after selection = 656\n",
      "Iter 155 NEW DELAUNAY, running on 360 points\n",
      "number of elements after selection = 656\n",
      "Iter 203 NEW DELAUNAY, running on 360 points\n",
      "number of elements after selection = 656\n",
      "Iter 278 NEW DELAUNAY, running on 360 points\n",
      "number of elements after selection = 656\n",
      "Iter 355 NEW DELAUNAY, running on 360 points\n",
      "number of elements after selection = 656\n",
      "Iter 458 NEW DELAUNAY, running on 360 points\n",
      "number of elements after selection = 656\n",
      "Quality post-optimization\n",
      "Initial quality: 1.02576, best element: 1 worst element: 1.2037\n",
      "Final quality: 1.01761, best element: 1.00001 worst element: 1.20208\n"
     ]
    },
    {
     "data": {},
     "metadata": {},
     "output_type": "display_data"
    },
    {
     "data": {
      "text/html": [
       "<div id='1022'>\n",
       "\n",
       "\n",
       "\n",
       "\n",
       "\n",
       "  <div class=\"bk-root\" id=\"d8c3832f-c29c-4435-8ada-d6794271af2b\" data-root-id=\"1022\"></div>\n",
       "</div>\n",
       "<script type=\"application/javascript\">(function(root) {\n",
       "  function embed_document(root) {\n",
       "    var docs_json = {\"f2061bd9-997a-4080-9402-931435b9b37c\":{\"defs\":[{\"extends\":null,\"module\":null,\"name\":\"ReactiveHTML1\",\"overrides\":[],\"properties\":[]},{\"extends\":null,\"module\":null,\"name\":\"FlexBox1\",\"overrides\":[],\"properties\":[{\"default\":\"flex-start\",\"kind\":null,\"name\":\"align_content\"},{\"default\":\"flex-start\",\"kind\":null,\"name\":\"align_items\"},{\"default\":\"row\",\"kind\":null,\"name\":\"flex_direction\"},{\"default\":\"wrap\",\"kind\":null,\"name\":\"flex_wrap\"},{\"default\":\"flex-start\",\"kind\":null,\"name\":\"justify_content\"}]},{\"extends\":null,\"module\":null,\"name\":\"TemplateActions1\",\"overrides\":[],\"properties\":[{\"default\":0,\"kind\":null,\"name\":\"open_modal\"},{\"default\":0,\"kind\":null,\"name\":\"close_modal\"}]},{\"extends\":null,\"module\":null,\"name\":\"MaterialTemplateActions1\",\"overrides\":[],\"properties\":[{\"default\":0,\"kind\":null,\"name\":\"open_modal\"},{\"default\":0,\"kind\":null,\"name\":\"close_modal\"}]}],\"roots\":{\"references\":[{\"attributes\":{\"arrays\":{\"14c2ef5c23893d2a40d78809f15030fe\":\"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\",\"27e3dad01bda39e7e8d10ac73301e0f2\":\"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\",\"2ebda7d3c6c3627ba233a85b7027cd58\":\"UEsDBBQAAAAIAFGZJlSBkDoDkwEAAAAEAAAlAAAAZGF0YS8yZWJkYTdkM2M2YzM2MjdiYTIzM2E4NWI3MDI3Y2Q1OHXTb0SdYRgH4E5/VllpSibJJBlJTERGJEZEjIgYETEiYmxEjIjYh4gYETEiYiJiIjISmUgmySRNaqo5Z53O2TXd077M6/r2vs9z37+fN5uTk83+lSCXPAoopJgSyiinkipqqKWeBppoppU2Ouikmx766GeQIUZ4wxjjTDLFDLPMs8ASy6yyxgabbLPDHvsccsQJp5xzwRVJUlyT5obMrUz2zg1pfpHkJ5f84IzvHPONA76yyxe2+Mw6n1jhI4t8YI73TPOOCd4yyiuGeckAL+jlOV08o52ntPCERh5TxyOqeUgFDyjlPkXcI588Evz/ScRb+fFVUZxSGqdWxC3VcWtdTNEYU7XElO0xdVds0RtbDcSWw7H1aKQwEalMR0pzkdpipLgSqa5HyluR+m60cBCtHEdLZ9HaZbSYilbT0fI/rWeyt25Ic02KJFdccM4pJxxxyD577LDNJhusscoySywwzywzTDHJOGO8ZoQhBumnjx666aSDNlpppokG6qmlhioqKaeMEooppIA8cknc/e5//AZQSwECFAMUAAAACABRmSZUgZA6A5MBAAAABAAAJQAAAAAAAAAAAAAAgAEAAAAAZGF0YS8yZWJkYTdkM2M2YzM2MjdiYTIzM2E4NWI3MDI3Y2Q1OFBLBQYAAAAAAQABAFMAAADWAQAAAAA=\",\"87c4b934ba4b6ae8a1e4de3d55d52397\":\"UEsDBBQAAAAIAFGZJlSG/hhGwyQAAHRAAAAlAAAAZGF0YS84N2M0YjkzNGJhNGI2YWU4YTFlNGRlM2Q1NWQ1MjM5N02beVxP2RvHK6lsJZTQphJKZE+655QkUpRIJZEtJUSpYWQn/CxjyDCWSpaUkDVxz2GQLUKFMo1d1hI1g8TvOI9npv56v87r+d7u937Pc57tc2PWu3ODXh24hvg7es+Zbwu3kDz9lBf3GWkq+X37HrzjtjaSuxS4cavxxpKnzPfjZh1aSu5zpQdfbdJJ8qKj/fnVVl0lz43uyd8m9ZF8uas916ttJrkopR/f8WdTyTv72/AXwVqSM7J68AQXTcnHLdx4S3MNyQ8vmPKni/UlN8mx5g2s2kq2HmbEH6QD6w8bwrekNpL823RLXnob7uGiZ2eu2ddGsl5lZz7pWA/JZWVteZkK65MODudO3b6x79xSCeVDrb5KjjcJ5IZucE2frpb8dbYnPBMfSz5xQH/Jy3Ts+OcwKjk0ox8/tP6V/OwIJ3u+PP+NZN3ePXi/J0WS64aYcb/St5LHBhrzW1/vSD4yyIY3rCqW7BlkwNd3rpT8wsuYr9RqIK/fPViPd8wAtivS50s7G0iO3OjJJ+18Ke0tdIfxNI1CyW2sAnj8hhfwvcxdeUUVrL/pUcMaHYLft2iuJt/Spbnk/A+6vDqzneSP3o3438P7Su77QZMv+tZZ8lofAz7tC/zWnmWt+FTDnpLT1Fa8ahE8h+juk/hMQ/i/U2+O4SH9bsN33BrBjWbfkpw4sAmviBgk7XPLjPm828MkG7s04+VLR0k2tbDnxUOYtL/kaMZTR3PJ3RvZ8NmH90kOzBnE3avOSPYucOLrHquSN0RQ/uTRXslhp7pzuyFgH7GmhjVPuSd58Ho9Hl1wV3LPXzR5t8/wzJtMM+D3HsL/+idVk8dnn5Wcm6DH//ojXfIcd2Oe3g+4sFkpW7dVW95zu7AaVtoeeFxKORu6G56t+fVytvnlO2nf76E/Dz4O9zx7gzf/tAfu0/9UEG8eCbxkfxhvWXFa8sU+5SxHC57/sCclbF8Z/HY7nUtYeEBvyR3Lr7HR3cHm8EbGBjU1g9/oVQ3r5g8+eM43n726DfeTfvUpC9BxldxJ1eDmDdwkZwe/Yx4nvCSfPKbFjc184TcaO4UHnUqT92OpFcN36aVKXr19Bp837xQ82ypNrm4IkfbLt75hJToT4ZnMq2Dr/wqQXLC7O+83fra0d0x04t/0fpGscdeOe0YDv2xnzP2qwWZtCzPukwTrt7wN+FLzDZJDHlpzjwywyaT+PKM/2FxtPYhvjAdukOfNV7SNhXvrTfl4JUZyp7albOaJ/bAHCsuZq/052AOx+ezPXOCRDqXsQLcSyeQGY0M48I3VNWyfC3y20Yx81mNuleR3h8uZ0RO4t5OeNSzOAv7vNbGvfCJg/fE4Pf50FdyDx/w0NlGvoXwmTS8y9vEm7Jla3Ww2srGh5AEdspnuC7j+T68n8i6hCZKn3A7lG9f8KlkNDORBZ36SnB83jf95fz08t5mcuQfBb2c8Kp8V3x0g2eLZXXYh0Qf2A2Fs9yTYP05B2azFc7B5MiCNPZoN616vD7ON9Ifvq0kseQRwX6eVLKQH7LHqyWnMzwKYlCaxcWZw/6u07zD9w0Gw37Ti+YSEFfLektvO5B4ukZLzhszjoW1HSzaZdZadPhQq7de43WVHBk2VvHv2OdZLZ7pkh1wn/vd1d2n/vwLKj/Q3gvPBaxA3zRwoeXGWHT+VCja9Tlhz5yetJD/4ozuPMwB7/Zem/OJrsJk+SZOH/wGf/WqjxwMng02MpQEv6gLrW98a8SE2sD737HDOZraWHJ49jl9NayP5eP8A3unBIMnRN8J47aKhklu9LmHtjsB+8B6Zz8K7wG8XvY4xPnCO5IwLjB03zIDrmGczK+M/JHeZmcZqo2D9xtfDLCsRPvu8KInFRoFN9LI0ts2oVHKq80r2dhpwzP0kFkTeS45cUcLmWxlLNgwvZ58sPeC7N85nO48C93xRzV6dh+9oTeawop/gs0/pSpbSAfZqQ91g9tcA4Nz+c9gOZ/itN9dF8VbjnKR9sG0WCw0PlOtGIWks2QfOdtuy39m8OeMlP26xgeWOgTNhx+BEVuvmLfmsRxKbUQrn0rOOB9lddYrkFu7BzNAI9mSfHivZJ3dg28hYtiIT7M8GzWEnrWF/tjUKZiMp7Mm8U9bMxxt48kPCkjzhnqO+EnbIEeyPfprBY2L04CwasIA7rahQv2Pmuvn8Y2hHuf5h/Trm+nAO+MKJTazMbprkDy7p7O/Ls8C/arx531cj5WdHTRjEXeOuSl6iS3mV72jJObFOfMf+a5KftenOD5wMktxsqh3v4Afr7v4BfPRfNySXi1i/zDNf8q1lRvzYyjFwzR2mPPwi2I8Zbs0dU4Il97TR5O042G9//py5zr8uuWBQNTMIHyvZtEiXP4oPkaz9IJwP1+4mufflibxs0kXJhpHB3P0fN/hfzWO4o3aa5M6D01jXHNi3ky4eZgnNYM8/1lzJdtjHSTZbmMTeLIL10V92MZc7sPcSc5LY5HOwh8PcGAuZD+tX7VYy7f2wzxu1n8MWpMPevpUfxPSfwbrXi1g2ow4+e7Q6iFXtgH1uE2vNagqA56UQtqQUPrtJJexeBuzhjL3X2P538BxSww6zqbvh2b7OU9kRp3GSy3RK2KPhoZIDJ+mxvwNhn9wxK1VTJsOe/7jamtGRwCvd9Njv1+H6HY2XM4OdYXLdd2co2503AfLP3+LY8GWjIQ4+SGCz/aMk9146gK0phPW2U23ZnIew/zPmBzOnDcCbR7my859hbw9uZ8OiCOz5L8/vq3nhwLvu6LHGwbCH8x0aMzMbiOMTdu5Wh0fB+vrMYPVeNOz//ZNK1Y2hwAWn0lSXaT98IXYhZ78tl9897E0Mv5JafuY7q58W8tdzJkiOuOfMrh79WdqHnPZmfZWZks97RLHk1nMlX/+kcLcZlsp3jov34KWVt05/55JVfXlGh2eSf2o+lDvNbi9trDsG8m5xVpLbrxvBrW9ekTYtG4zn3x5dzv3OKzKtuEeEubTZP8KRn59mIfn44858S7+30t7exJSfSqiWXDVTnzupnyW3GKPLp5SYSnvvBkY8INVMssI1+Ih2mvJ7HfC7x+7ltYN17+dshmsDue7d9Bo78URH8oulH5iFL1xnb0kkvzhspby343UT+JV5NnJ9cNF0PmGhrWSt8jhecH6Mi7z+lUT2kynEi8dbYlmnS+AX3xyC2LEJsG67MYjFzAXfWWllzYZcAh7YibCvrTwlZ8UTFmSzEXJFpyQW0qhA/l7DYhPZ0vzx4O87drFtWsA+TWJZcRLYPGMlqrZ9JtQgGnpspCdcxyrAmjXSg/VrnfXY/DrwnZjVaSp9Dnu7fUWQSjTvSz5QWaL+/gJ8rTY4TW1vfF7ygsub2D87m8hndch0F9Otayufw/WqQ2x0vJ5cd+irssoweM53zILV9VENf+zP0jP2s2Ef7insu29BDKy3ryg5Y1YN93BmqwFLJ5BL3D1mz86KGkPuz81V6v3tkyU/vdWG+adHQ+zQn6iuMoO40/fkXjX9D/CLQvsH6rcFkP+YrM9We5QF/fCpMerQxN4/PvvkjMNjsK/U+H3fzb29/73Pov+BT2mcnbwPfUr4l/Ifl7rgd/nOaJ/pG8fX71gjv7v+9QV8eu1FyRsvLeRKZWfJTr8XqiN9Zkv7xbWN2YbUBMlHdhxXr9ctkKyb3Y0vMtUh3zmyuA83dDooPzuoa2d++0SW5CVZA7nxMFi3WKXwpR3B3ilsKF/RA9jhgh83vAk2M0On8NceXyRfGTCOLz67V3Lhg0DO7LSk/Zg2kfzGH/vk+tmyZtz49gH47PhWXN3WUNp8Xt6O6/eBezitZ8Ut/oT1+OEa3CsV7I9GPWP7QoBzE9+zqkiwsb2tw0cv/WEfcZUljQObAYvPsAfTYX3BsrtsahTwx2GHWHsHsGFJs/kBy0eSD93VZR4DwF8y25SoA1Twr8gyK1a7HrjNEl32h3IT4ma8FdPQmiA567bCej0Bf6k9FMjcwsMkj19Uor6vBH8MjQ9St5vEgz++2qVWRsL/8lLS1P1jwKdmNQ5kTUfD/q9unsgaZQCvmBvDKl41lb7w3FVhL0cZSH7GglTtvpkM93x7K/AprbCXe7XdM3/835Iz+8M3oo0L2mgsar4PfVP4qfIfl7ig7+gEb2LeCjyrsb+tYI0XwDP0XZPKauYAb94+m11veeCHb5YqGO/EOaDgOSB8VkGfFbFDwdjx3V/SDoz54Y+zVO+ocMgPpzuln+kf8WMP91YvmsaC7yy6tQ99U/ip8h8/cUG/+854TRHvFIx3Iq4pGNeEzyros8LHFfRxEeMUjHEiPhKMjyIPJJgHivhOML53TonmP1XYyOfw9NE8XntqqORuXRP4ufWtJXd6sihd3Li012k7Nv2vHfBd1l3rrU7jC+HsqnPn46/0lvZrO/ThoQy45e8uvP/4yZK3RXTi4R97SXa0as+HF02U3P6vrtzj90mSh59ry3VywOZT9hi+dd00yVtW+fP1D50k69h688j4qZJ76YXxS/fAvmLINO61e4zkiQObceVXWA/opMPZSvhf7nta8hUHgXtGfWN354JN8eor7Nw24IhNd1jaFbAxXPeUef0O6/+bXcUc98P6hmMHWcF1WE/mG9mzYuCH5SmMO8B36cBOs+xasHf8JVCNPwi+9vjwLvXhVPBBx1/unbFcBZzZJkidcB38tNmLxL1Lylr/u/8NfgZfm7rtnuoSCNcJ/3hXTS9tI/ftpX66LHtYc+lTrpa71OR9hpJHNLBipSbggxqLju1F/xXXdEGfEn6t1F/H/+XnP5rFLgEfcTjnwlJNwUdexrdnf62Adf1cHbayLlOuC19W0JdFfFQwPor4q2D8FWeFgmeFiKcKxlORxxLMY0UsJhiLRZ5JMM9MXRbA/lkIz/ZgySym+Q2eucfX/mxaA9hvJkYr2P0AsBH5KsF8VdQ+BGsfUccRrONEnkwwTxYxUcGYKHxZQV8WcVbBOCt8WUFfFrFJwdgk4peC8Uv4hYJ+IfJbgvmtiL8Kxl8R0wnGdJG7EsxdRa5LMNcVdR/Buk/UawTrNZEbE8yNRa1HsNbr67SSYF9C1KcE61NRGxKsDY07/MRvnvxZPp/T7lN5ceZyyQnFsTz0lyTJtb068oO+qyTneTrwXidTJL9914vvPwrrZLgzPzA3VfLJAE9u47JL8uSPbrx93GrJgcv8eI7mGsna79vw+b3gsyXnWvBbC+CaBdqWXGsbsMmcpnxLe7AZej6En7yyTvKOorHcKn+f5GajIrjrwZ2SM5JEzqy9B76LyJvi9sN1qn2+MsUbrtN/6DvWrgjWb898wuJCYN2nOpeVDoH7H3PhMgv4DdZbV2SxsYeBLyQXs8/6YFNXEM3Y37CetXY5W5gF63nOG1m3x7Be55rCsn5ORX9X0N9FhrIXWfi7C/r7d99f1bDFGVxHXtzAeO/RTPDr8I+jVYfzwCLmKhhzRXxXML6Lc0PBc0OcLQqeLX/np6rZ38A3G7mPVnVXgc9mDr6rfkgEbuR+90z1B7ARuTfB3FvkEgRzCZEDKJgDiPyZYP5c1zxVvWYKfhe36I76y2HwuxYhOuxkO1if8diSDdwC66I+JVifitqWYG0r8nCCebjI8wnm+anOKwn2c0TNS7DmtSZzCPZnRL1MsF7OOdeQJdjA3uvtbsmOvoPf4vXE/my0Cax7HhrF2hTAOilNItiv85ifRrAn+ZSuJNjzibmfRLCPJGpbgrWtyMMJ5uGiHiRYD4o8nGAeLmpGgjWjqHkJ1rwivyWY39pGxhLs4Yj6l2D9u2NwIsG+kKijCdbRTwakEexP9umxkmAv6KxHEsHe0Vo1iWCvslY3m2BPtXpyGsFe5eGNjGCf3Ov1YYJ9zspZk/hFn1Py+bgZTOMRBVclF/pGczLnsOSr1U58T8INyWc7uPKnITmSB5v35NN/Pwm+2cyCu6wCG2fNLnzWUuAcO1vulAI2f5SbcN1lwBPPe/PcFLhO1K8e/OdzYG/gOIL7NSyAOK4VyE9NPS3Z7o42bxIA61r5TfiMV3Cdy7VfWEsjuM6rKkO+uxKuk54cyse+ypf8ruwSq7kMNpsuFbHmg29KnrrqMTNaB+vV/SpZswK4frfdyWyT7i3YM95Z7GQneD4VW35lq4OBH/XOZbf3wXW8749kPmvA/rXeclY1BNi/diZ7vh3sXdc7s0XsB1vuUjBei5iuYEwXvq+g74tcnWCuLmI9wVgv8gEF8wGR2xPM7YW/K+jv4lTYgyz83QX9XZwPCp4PIv8nmP+LeoFgvSDqdIJ1uqjHCdbjcYsC1MicSf+eIXtswN+3me/bM/Dsv+suuC5qfII1/mPNlQR7ZY+3xBLsCXi9iCXY44rLTFHb9AaffXug+IxOP+RR6itDiDXRB4vVYZrAiTlJBHtrV+1WEuyndZmZRrCH/LwoiWDf+Lh5NsE+c/SyNII9ZHKDEZx3DOiQTXAG4Tu6IXv/DH6vu3eK1O734TcNSbNg/CjwvjvJ6tq/waawWSnBuVjTi4zgjOOcbz7BOVSjGfkEZygf1q8j2F9t9yCBYK/svEcUwf6SbdnvBHvIHY2XE+y5rT2xiWA/9nGLDQR7y2tncoJzEKegbIIzDqOQNIJ96WDbLIL96p3OJQRnaucIIzgfMR6VT3CG0rH8GsFZ27iUcoIzvmFPSgjO5t70qCE4Y73Yp5zg/M5vwmR+esQTiJUpgfyQ6TPwEcNxXL9XreRfFwzlX81h/d1DwjvdfyrZ6PpAnukENl30e/ADlbC+tqM9PxIG636f+/KuPsDb23bg8TVgk+NqwvWuwDUvxRjyIr06OKN8zLl77y+SP9k04dHdnkteVOnHQ/rAdbjlF+bjUC553MFHzHcvsF1SBftF+5vkruO0+RGdr3D+dL/Eqr1eSDZOOcBOZADXbTvF3thq0O+80aSI9doPn21p/Ct70Pql5I+Jy5jRJrD5bJjMFo8F3lkzg7kEg03Z637sTCrwjC/mbPN9sOmmM5IVnwR+e1Sbdb0CNiJXJ5iri7ivYNwXeTvBvF3U4wTrcVG/E6zfRe1AsHYQ+T/B/H9YbCLBnlvtoUCCvQKfJrEEe26i3idY74uzQsGzQuQMSr2cQamXMxDMGQ5cSSTYMzRbmETq9dIJ9tL9nZII9gDF+eBS73xQ8HwQmfgeZHGeKHieRK9jBGdPnQenEezn3/h6mOCMadLFwwR7+9+vf75BLsSme5P3bK+59e+5hOt374xUp7yA9U5tSwnOWDMuMIKzrZ6x+QRnrN4j8wnOwsyvlxOcj0esqSE4ox/pUEpwDju4sJzgrNY9PFnNqoTfN7Sy8MyTL8j+qpGWptwDgz4WqsUVsB+6B+tR1E60C6shOKMvmqtJUf/Q8xdNihqAZx0PEpw9fXBJJzjf2T37HMFZpMmsswTnlcu3viE4716lfYfg3HON212Cc8x28yoIzsGzg98RnLNbPLtLcCabfvUpwbm856sagrP7j96NaD09BkU9RidVg+Ls3nqYEUU9jF2RPkV9SP4HXYq6jrU+BhT1G/b7fbmBbyv5fD50DuQrOjSSbHnai/f4W0+y1kdH/uRn4PjLffjbQS0l511VeOosWL+V484XXIN1tybmPCcIrvlnhB33vwnr4Vtt+JCGcP1lvDU3nAkcM9CQm20zknziY2Med7ix5D0J2nzxn8aSnS/Xskndmki+Yf6IbUsHnp1eyCputJb8l18FOzkKuO+uPPb2M9h4ztvJ6iJNJI81PMVqTIGtmhxgNYObwvddvIGtWgh8T7sfCyoEdm/mz0yvgf1W/Rls6yFYj9VYxpptg/VaRZu9/gzr+t9uq25t20iePMicHXoPNuN+3qna6zeT7Oc/mmA/YfP22QR7bmN/W0GwLydqeYK1vKj3Cdb7oo4gWEeI2p9g7a8TvIlgf6+6eSLBfuMh010E+/ALLm8i2J9/nacSnHlt37GL4LwgNewwwbnY9apDBPv2oqYgWFOIOoJgHSHqC4L1hchDFMxDIleUEJw1Z+y9RnDuFubGCM77pjfOJzh3FueGgueGyB8UzB9EjqFgjiFyD4K5h2F4OcH5davXJQRn6yc9awjqLt4dLieoxxBngoJngjgrXPCsEGeIgmeIqM73oE1ugh5Fnc+N1TUE9R7/pGpS1AJdE2cF6joGr9ejqCPyDDKgqN0aG2hMUd/VZJoBRU3R93voZQ77oZf52t3+zm3w3s7guv63EaqXHay/8DKmqAHb2d+Gol6ubogZRS3ZwwumFDVyJ49pUdTtRFRpUtTkGLs0o6itShzYhKL+yqerJUVtW5raiqKOK7fMmKIuy7OsFUWt12/TLSnq68rK2lLU0b33saSoi3vfvgdF3eDlrvYUtX9Ncqwp6vcuenamqM2LWD6Yu3SwkN+3o09/vjXcHPzxFuUeKzvDmbDTkX88ZSq5MNaOaznYSg6w7s13l3aU3NjVho91N5OcImqrEbZWkr+eb8lfv+8mOcLUgv9jYA9nl2VTfiLcWrLrg7dsTCzYFAQ15GlHgT2m17IZncCm5PxDticV+LNFIVug4Qj5jHYeu+RgI/nY+ByWsgbWF0zPZAU//1g/v4N5b/2xfvMXNm/lj3XbpeyfPbAekBXFVufAevgAJxb+BXhNvBk74tBd8rzHfqz4Jdiv/rkB+2zdQXJko51qdjDw2o63z+RGIo9QLbfBZ2dq3lYjJgEPWHyG4GzFd00qwVnAx2GHCM5WNhw7SLDH+7A8hWBfN5lvJNjvNTFaQbDfmLV2OcG+UF1BNMF+UZ7zRoI9Is9Dowj2Hw743SM4e42PuEpw7uPQVyU4K/Rueo3gHHb78+eknp6BoJ6hTKeE4Oxe8X5OcIYr6k2C9aaoSQnWpKL2JFh7ivqFYP3S00aTonai54tqgnqYrzZ6FHVB0ydpUtQLiVyU1MtFCeaiIv8kmH+KPETBPCTG0oCipujxOD2KerCX7Ywpat5ueRtQ1LmJmKJgTBFngoJngogpCsYUEYMIxqDujWwoaiPnuBtT1ChecjSjqJ9c28KMoqZuhJM9radTpahTPTLIhqIe1dTCnqIOU+wrF9xXYr8p/+23EQruMVE9pCGHZvSjqInNyOpB6+l7Kep7i1L6UdQD61V2pqjRXaZjR1FbOze6J0UtcZ8rPSjqjbsUuNF6mmSKmmT9YUMo6oGP3nOmqG2OWe9OUfM8/ZQXRZ3zoqP9KeqWj1rb826f4P433rbnIRcVyaRtH173tqfkIdcsuM2ffSTXuDfh8bbO4KdHP7Fu5f0kvzmvxRsED5RsnmDC/07xkbzO0phXXSGSl6c04/PrBkueFWTFUys9JI+6UshODhsqeWjRQ7YqDO5B2yiPHXgLvDn9DRtb5AnPfMk2lqwF1wmu2s+SPV2AR65nQ0cCZ+w5yTLTh0hOzfJl1S/AfuqbxezKHODlCdNY3CWw39yiL/NvAv/r68lb6kIjL8kXOzdgW1Jh/fHkHarvPeCbF0xZv4Vw/fsVD61Hrvf68Vk/NXKE17/nkrMRQXZBzk18T3AWvGDZXYJz3qNRzwjOi4tXXyE4nzJc95TgTCpi0x2Cs6oO7DTBeZNPdS7B/nadawrBvnTriiyC/e0xFy4T7HtXbPmVYC+r2+5kgv2u13rLCfaviHcWwd5X/HANinPtF0s/ENSHtBijS1FzonANijqTW8uMKGq3TIt0KeqvykWujvquqpn6FLUrop4lWM+K+pdg/StqZII1sqidCdbOvU5YU9Q6bn1rRFGvqP/SlKLWcckOU4qaMZHfEsxvRd5LMO8VuS7BXFfksQTz2ILd3Slqdxdn2VHUWIY8tKaoxdW4a0dRxytiE8HYJGIZqRfLCMYyEY8UjEeOiU4U9cBhp7pT1GxviKAUtdzeBU4UNd4WusMoat1bmrtS1LdHbvSkqIcPzBlEUR8u9i3BfSv2s4L7WexhBfew2KsK7tV4k0CK+v+WSijF9wImHRxO8X2BNlYBFDX27V9ocEeHsfKz61825VNyR0nWvaPJt573lZyf/4p9UEZC7G5ykE3dECI5+tVZ1vydP/hX3m7WwGuE5Gk3XrN9/SfCObCkiIXrBEt261/MjNlUyVPSzjG+b4LkK3/+xjQ+wT1ob1nHtmfDNXUPLmZbx4/78VtHsjwbuIdOT83Y3qnw2WeD+7Lr6XDPLcc3YC1ogGTTFF+W/HS85PF5O1QD89GSE/cXnvkcjOyvJttOgu9147a6y3Mi2rigjfis8t9n/RW0F382yDPHt6KoJ7G9rUNRE3K2rBlFzUnPqG8EZ9YTBzaj9WbcFGfc/5tdRXBOXe3zldSbhZF6szCCs7ALycUE51zvyi4R7I1PXfWYYD9806Uign3yR71zCfa6jVMOkHo9LoI9rs+GyQT7V5e7XyLYE1uRaUVRz/Z5eTuKmhnvBkYU9Wn2JqYU9WzHH3emqHMbM9yaos7zWZvutJ52lKJ2VNSnBOtTUdsSrG1FLUywFhb1L8H698Ef3Snqov9XQClqqnNinSjqVB1ynSjqrkWOSjBHFbkrwdxV5KUE81KR3xLMbyN6U4ra+6utB9F6+nyK+vxLXoMo6rdFHCEYR0QMIhiDRMwiGLNEnCIYp/o99Kf4PoX/qSCK71DM3uBN8d2KTOpP8R2BqTfHUHwnJbr7JIrvqhzZGkHx/ZQl+8Movn8hfIGgLwgfIegjwncI+o7Y8wru+fLHe9noZ+GSbY/9wiq9IyQPzE1mHv1iJLfLy2XFY2ZIjvoUxU7eiwL/3RzAin3ngf8eXc7MzOMlz1WcmRoC9jrPtNnLhGjJg26mqM9DZsEeu3ZX7bJxgeTn8e2ZRf58yQkhQ21EhvOvz/q2nP2vbyIXmgSqp3cvxOsoeB1xfQWvL/4vwf8r7BW0d9/TkqKeZPi5thS1K45W7SnqW07rWVHUg+lmd6OoYdsW0YmiHmZQ184UNWwl51pQnI+bzGlKcSau/b4NxRn66ZiG9N95d79KgrOqy7VfCM6/7O5o03ozMoozMrukCoK963EHHxHsaXPLLwR73RtNigj2qGenFxLsNfXdlUewv3TD/BHBftRYw1ME+0vXPykUdbD7RzhS1KyWrOpLUQcbWdyHon5v1IRBFLXiFjXeFDXkS3QpRd14XLwHRT2tqDdJvXqT1Ks3Sb16k2C9GZ49juJ7CnPPDqf4/sLx/gEU31lw9w+gqDkXeSPBvFHklgRzS5ErEswVRZ5JMM+ccjuU4jspP72eSPFdFTUwkOL7KdE3wii+EyFiEMEYJGITwdgkYg3BWCPiF8H4ZakVQ/Gdo9yxUyi+i7R6+wyK7x/lx02j+P6L2P8E97/wHYK+I/yLoH8JvyPod2s79KH19FoU9Vrt/+pKUZf19l0vitqPPE8HipqQ2l4dKWpFCrQtKWo5LFYpFLWXS7IGUtRkOoUNpajD3FPnTlEz9ke5CcVZcI6dLcUZcUYzC4pz5FdVhhTnuZdiDCnOcbqO06Y4f/lk04TiHCfH1YTi3GdPgjbFnupffhUE+6XOl2sJ9ldPfGxMsQf72aKQYH+j5PxDgn0P1wdvCfZJPKbXEuyNOFzwo6gp/an5UFpP403rabwparwNI4Mpvl+g/SCc4jsILRuMp6j97n15IsX3EUTtQ7D2ETURwZpI1EoEayVR4xCscTQGLKD4HseS5jEU3184+mkGxXc9NtdFUXxvJbntTFrvvSSK7yVlrptP8R0QkZsRzM1EzkYwZxO5HMFcTuRgBHOwdK14iu89iVhA6sUCgrFAnPMEz3kROwjGDh1bb4oavy2r/Clq/z5lj6GoCTwZ4Enr6Y5oPd0RRd0RGe5MUad0tdqJom5hsHlPilqFsx1cKWoYnDW7UNQqFD4IpKgBnhk6haJOuJdeGEXN4ZUB4yhqhre37UBx5ri2oz3FuWSGjznFOWMX/R4UZ5fhW20ozgXcmphTnB0s461pvRkBxRlBQVBDin25W5ZNKfbuvp5vSbG/lyL8CPt+oh4n9epxivW4qJ0J1s6ifqdYv+8tiaSo7R9cNJ2inv943QSKOv8xbSIpaqHD3sRQfFciKnYhxXco1E8LKb43oVUeR/FdAJHDk3o5PKmXwxPM4UWNQLBGEDUFxZpC1AIEawFRU1CsKUQuQTCXSCiOpahhO+0+laK2zbjDTxQ1bxVDplHUiD59NI+i3rXZqAiKurIdRWMp6s2Gng+hqEPLSBL++0Nv1jklmqJuNkArkKIuxcBxBEW9ysTz3rSepoWipuXdQ0Jxrv3rgqEU591G1wdSnHH7fe5LcZbNkmZT1Hhn+sbRelp6ilr6bl0TKOp1tT46Upxb5V1VKM6q4i/3oTjD+jPCjuJ8qjDWjmI/ubGrDcUe8p6djhR7zhGmFhT7xket7Wm9HhHFHtGQaxYU+0Kzgqwo9nPME0xovf4Prdf/odj/ETUjxZpx46WFFN8LqJw1iaIeqdA3mqIGyc1gGkVtUnpyKEVtz2vDcRS1BHUpgRQ1Bn4TJlPUHiyq9KM437c87UVx3me/35fiTPBWjjvFud6HzoEU54P3blGKPfkA694Ue+8dffpT7NtHLB9MsZ9P2vah2Df7P1BLAQIUAxQAAAAIAFGZJlSG/hhGwyQAAHRAAAAlAAAAAAAAAAAAAACAAQAAAABkYXRhLzg3YzRiOTM0YmE0YjZhZThhMWU0ZGUzZDU1ZDUyMzk3UEsFBgAAAAABAAEAUwAAAAYlAAAAAA==\",\"b61b5796999a2a466d8b1445c3f9cab9\":\"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\"},\"axes\":{\"id\":\"1021\"},\"height\":384,\"margin\":[5,5,5,5],\"scene\":{\"calls\":[[\"addRenderer\",[\"instance:${18c4e5fe-b5ba-4c22-ae07-8e96f2daec0500005588af765be0}\"]],[\"addRenderer\",[\"instance:${18c4e5fe-b5ba-4c22-ae07-8e96f2daec0500005588af745e70}\"]]],\"dependencies\":[{\"calls\":[[\"setActiveCamera\",[\"instance:${00005588ada15d20}\"]],[\"addViewProp\",[\"instance:${18c4e5fe-b5ba-4c22-ae07-8e96f2daec0500005588b0397ea0}\"]],[\"addViewProp\",[\"instance:${18c4e5fe-b5ba-4c22-ae07-8e96f2daec0500005588b01a5240}\"]]],\"dependencies\":[{\"id\":\"00005588ada15d20\",\"parent\":\"18c4e5fe-b5ba-4c22-ae07-8e96f2daec0500005588af765be0\",\"properties\":{\"clippingRange\":[5.117859875585826,5.912538126800225],\"focalPoint\":[0.0,0.0,0.0],\"position\":[0.0,0.0,5.4638405841759505],\"viewUp\":[0.0,1.0,0.0]},\"type\":\"vtkOpenGLCamera\"},{\"calls\":[[\"setMapper\",[\"instance:${18c4e5fe-b5ba-4c22-ae07-8e96f2daec0500005588b01a5a40}\"]],[\"setProperty\",[\"instance:${18c4e5fe-b5ba-4c22-ae07-8e96f2daec0500005588b020fd80}\"]]],\"dependencies\":[{\"calls\":[[\"setInputData\",[\"instance:${18c4e5fe-b5ba-4c22-ae07-8e96f2daec0500005588b01a5a40-dataset-0}\",0]],[\"setLookupTable\",[\"instance:${18c4e5fe-b5ba-4c22-ae07-8e96f2daec0500005588b0168cc0}\"]]],\"dependencies\":[{\"id\":\"18c4e5fe-b5ba-4c22-ae07-8e96f2daec0500005588b01a5a40-dataset-0\",\"parent\":\"18c4e5fe-b5ba-4c22-ae07-8e96f2daec0500005588b01a5a40\",\"properties\":{\"fields\":[],\"points\":{\"dataType\":\"Float32Array\",\"hash\":\"87c4b934ba4b6ae8a1e4de3d55d52397\",\"name\":\"Points\",\"numberOfComponents\":3,\"ranges\":[{\"component\":null,\"max\":0.999904453754425,\"min\":-0.999904453754425},{\"component\":null,\"max\":1.0,\"min\":-1.0},{\"component\":null,\"max\":0.0,\"min\":0.0},{\"component\":null,\"max\":1.0000000250107577,\"min\":0.027897863901407274}],\"size\":4125,\"vtkClass\":\"vtkPoints\"},\"polys\":{\"dataType\":\"Uint32Array\",\"hash\":\"b61b5796999a2a466d8b1445c3f9cab9\",\"name\":null,\"numberOfComponents\":1,\"ranges\":[{\"component\":null,\"max\":1374.0,\"min\":0.0}],\"size\":10496,\"vtkClass\":\"vtkCellArray\"}},\"type\":\"vtkPolyData\"},{\"arrays\":[{\"dataType\":\"Uint8Array\",\"hash\":\"2ebda7d3c6c3627ba233a85b7027cd58\",\"name\":null,\"numberOfComponents\":4,\"ranges\":[{\"component\":null,\"max\":255.0,\"min\":0.0},{\"component\":null,\"max\":255.0,\"min\":0.0},{\"component\":null,\"max\":255.0,\"min\":0.0},{\"component\":null,\"max\":255.0,\"min\":255.0},{\"component\":null,\"max\":441.0963613542964,\"min\":360.62445840513925}],\"registration\":\"setTable\",\"size\":1024,\"vtkClass\":\"vtkDataArray\"}],\"id\":\"18c4e5fe-b5ba-4c22-ae07-8e96f2daec0500005588b0168cc0\",\"parent\":\"18c4e5fe-b5ba-4c22-ae07-8e96f2daec0500005588b01a5a40\",\"properties\":{\"aboveRangeColor\":[1.0,1.0,1.0,1.0],\"alpha\":1.0,\"belowRangeColor\":[0.0,0.0,0.0,1.0],\"hueRange\":[0.5,0],\"indexedLookup\":0,\"nanColor\":[0.5,0.0,0.0,1.0],\"numberOfColors\":256,\"range\":[0.0,1.0],\"saturationRange\":[1.0,1.0],\"useAboveRangeColor\":false,\"useBelowRangeColor\":false,\"valueRange\":[0.0,1.0],\"vectorComponent\":0,\"vectorMode\":1,\"vectorSize\":-1},\"type\":\"vtkLookupTable\"}],\"id\":\"18c4e5fe-b5ba-4c22-ae07-8e96f2daec0500005588b01a5a40\",\"parent\":\"18c4e5fe-b5ba-4c22-ae07-8e96f2daec0500005588b0397ea0\",\"properties\":{\"arrayAccessMode\":1,\"colorByArrayName\":null,\"colorMode\":0,\"interpolateScalarsBeforeMapping\":1,\"renderTime\":0.0,\"resolveCoincidentTopology\":0,\"scalarMode\":5,\"scalarRange\":[0.0,1.0],\"scalarVisibility\":1,\"useLookupTableScalarRange\":0},\"type\":\"vtkDataSetMapper\"},{\"id\":\"18c4e5fe-b5ba-4c22-ae07-8e96f2daec0500005588b020fd80\",\"parent\":\"18c4e5fe-b5ba-4c22-ae07-8e96f2daec0500005588b0397ea0\",\"properties\":{\"ambient\":0.0,\"ambientColor\":[1.0,1.0,1.0],\"backfaceCulling\":0,\"color\":[1.0,1.0,1.0],\"diffuse\":1.0,\"diffuseColor\":[1.0,1.0,1.0],\"edgeColor\":[0.0,0.0,0.0],\"edgeVisibility\":1,\"frontfaceCulling\":0,\"interpolation\":0,\"lighting\":1,\"lineWidth\":5.0,\"opacity\":1.0,\"pointSize\":5.0,\"representation\":2,\"specular\":0.0,\"specularColor\":[1.0,1.0,1.0],\"specularPower\":100.0},\"type\":\"vtkOpenGLProperty\"}],\"id\":\"18c4e5fe-b5ba-4c22-ae07-8e96f2daec0500005588b0397ea0\",\"parent\":\"18c4e5fe-b5ba-4c22-ae07-8e96f2daec0500005588af765be0\",\"properties\":{\"dragable\":1,\"forceOpaque\":false,\"forceTranslucent\":false,\"orientation\":[0.0,-0.0,0.0],\"origin\":[0.0,0.0,0.0],\"pickable\":1,\"position\":[0.0,0.0,0.0],\"scale\":[1.0,1.0,1.0],\"useBounds\":true,\"visibility\":1},\"type\":\"vtkOpenGLActor\"},{\"calls\":[[\"setMapper\",[\"instance:${18c4e5fe-b5ba-4c22-ae07-8e96f2daec0500005588b04853b0}\"]],[\"setProperty\",[\"instance:${18c4e5fe-b5ba-4c22-ae07-8e96f2daec0500005588b04c4550}\"]]],\"dependencies\":[{\"calls\":[[\"setInputData\",[\"instance:${18c4e5fe-b5ba-4c22-ae07-8e96f2daec0500005588b04853b0-dataset-0}\",0]],[\"setLookupTable\",[\"instance:${18c4e5fe-b5ba-4c22-ae07-8e96f2daec0500005588af738880}\"]]],\"dependencies\":[{\"id\":\"18c4e5fe-b5ba-4c22-ae07-8e96f2daec0500005588b04853b0-dataset-0\",\"parent\":\"18c4e5fe-b5ba-4c22-ae07-8e96f2daec0500005588b04853b0\",\"properties\":{\"fields\":[],\"points\":{\"dataType\":\"Float32Array\",\"hash\":\"27e3dad01bda39e7e8d10ac73301e0f2\",\"name\":\"Points\",\"numberOfComponents\":3,\"ranges\":[{\"component\":null,\"max\":0.999904453754425,\"min\":-0.999904453754425},{\"component\":null,\"max\":1.0,\"min\":-1.0},{\"component\":null,\"max\":0.0,\"min\":0.0},{\"component\":null,\"max\":1.0000000250107577,\"min\":0.027897863901407274}],\"size\":4125,\"vtkClass\":\"vtkPoints\"},\"verts\":{\"dataType\":\"Uint32Array\",\"hash\":\"14c2ef5c23893d2a40d78809f15030fe\",\"name\":null,\"numberOfComponents\":1,\"ranges\":[{\"component\":null,\"max\":1374.0,\"min\":0.0}],\"size\":2750,\"vtkClass\":\"vtkCellArray\"}},\"type\":\"vtkPolyData\"},{\"arrays\":[{\"dataType\":\"Uint8Array\",\"hash\":\"2ebda7d3c6c3627ba233a85b7027cd58\",\"name\":null,\"numberOfComponents\":4,\"ranges\":[{\"component\":null,\"max\":255.0,\"min\":0.0},{\"component\":null,\"max\":255.0,\"min\":0.0},{\"component\":null,\"max\":255.0,\"min\":0.0},{\"component\":null,\"max\":255.0,\"min\":255.0},{\"component\":null,\"max\":441.0963613542964,\"min\":360.62445840513925}],\"registration\":\"setTable\",\"size\":1024,\"vtkClass\":\"vtkDataArray\"}],\"id\":\"18c4e5fe-b5ba-4c22-ae07-8e96f2daec0500005588af738880\",\"parent\":\"18c4e5fe-b5ba-4c22-ae07-8e96f2daec0500005588b04853b0\",\"properties\":{\"aboveRangeColor\":[1.0,1.0,1.0,1.0],\"alpha\":1.0,\"belowRangeColor\":[0.0,0.0,0.0,1.0],\"hueRange\":[0.5,0],\"indexedLookup\":0,\"nanColor\":[0.5,0.0,0.0,1.0],\"numberOfColors\":256,\"range\":[0.0,1.0],\"saturationRange\":[1.0,1.0],\"useAboveRangeColor\":false,\"useBelowRangeColor\":false,\"valueRange\":[0.0,1.0],\"vectorComponent\":0,\"vectorMode\":1,\"vectorSize\":-1},\"type\":\"vtkLookupTable\"}],\"id\":\"18c4e5fe-b5ba-4c22-ae07-8e96f2daec0500005588b04853b0\",\"parent\":\"18c4e5fe-b5ba-4c22-ae07-8e96f2daec0500005588b01a5240\",\"properties\":{\"arrayAccessMode\":1,\"colorByArrayName\":null,\"colorMode\":0,\"interpolateScalarsBeforeMapping\":1,\"renderTime\":0.0,\"resolveCoincidentTopology\":0,\"scalarMode\":5,\"scalarRange\":[0.0,1.0],\"scalarVisibility\":1,\"useLookupTableScalarRange\":0},\"type\":\"vtkDataSetMapper\"},{\"id\":\"18c4e5fe-b5ba-4c22-ae07-8e96f2daec0500005588b04c4550\",\"parent\":\"18c4e5fe-b5ba-4c22-ae07-8e96f2daec0500005588b01a5240\",\"properties\":{\"ambient\":0.0,\"ambientColor\":[1.0,1.0,1.0],\"backfaceCulling\":0,\"color\":[1.0,1.0,1.0],\"diffuse\":1.0,\"diffuseColor\":[1.0,1.0,1.0],\"edgeColor\":[0.0,0.0,0.0],\"edgeVisibility\":0,\"frontfaceCulling\":0,\"interpolation\":0,\"lighting\":1,\"lineWidth\":1.0,\"opacity\":1.0,\"pointSize\":10.0,\"representation\":2,\"specular\":0.0,\"specularColor\":[1.0,1.0,1.0],\"specularPower\":100.0},\"type\":\"vtkOpenGLProperty\"}],\"id\":\"18c4e5fe-b5ba-4c22-ae07-8e96f2daec0500005588b01a5240\",\"parent\":\"18c4e5fe-b5ba-4c22-ae07-8e96f2daec0500005588af765be0\",\"properties\":{\"dragable\":1,\"forceOpaque\":false,\"forceTranslucent\":false,\"orientation\":[0.0,-0.0,0.0],\"origin\":[0.0,0.0,0.0],\"pickable\":0,\"position\":[0.0,0.0,0.0],\"scale\":[1.0,1.0,1.0],\"useBounds\":true,\"visibility\":1},\"type\":\"vtkOpenGLActor\"}],\"id\":\"18c4e5fe-b5ba-4c22-ae07-8e96f2daec0500005588af765be0\",\"parent\":\"18c4e5fe-b5ba-4c22-ae07-8e96f2daec0500005588af4f7ad0\",\"properties\":{\"background\":[0.3,0.3,0.3],\"background2\":[0.2,0.2,0.2],\"clippingRangeExpansion\":0.5,\"interactive\":1,\"layer\":0,\"lightFollowCamera\":1,\"maximumNumberOfPeels\":4,\"nearClippingPlaneTolerance\":0.001,\"occlusionRatio\":0.0,\"preserveColorBuffer\":0,\"preserveDepthBuffer\":0,\"twoSidedLighting\":1,\"useDepthPeeling\":0,\"useShadows\":0,\"viewport\":[0.0,0.0,1.0,1.0]},\"type\":\"vtkOpenGLRenderer\"},{\"calls\":[[\"setActiveCamera\",[\"instance:${00005588b04652d0}\"]]],\"dependencies\":[{\"id\":\"00005588b04652d0\",\"parent\":\"18c4e5fe-b5ba-4c22-ae07-8e96f2daec0500005588af745e70\",\"properties\":{\"clippingRange\":[0.01,1000.01],\"focalPoint\":[0.0,0.0,0.0],\"position\":[0.0,0.0,1.0],\"viewUp\":[0.0,1.0,0.0]},\"type\":\"vtkOpenGLCamera\"}],\"id\":\"18c4e5fe-b5ba-4c22-ae07-8e96f2daec0500005588af745e70\",\"parent\":\"18c4e5fe-b5ba-4c22-ae07-8e96f2daec0500005588af4f7ad0\",\"properties\":{\"background\":[0.3,0.3,0.3],\"background2\":[0.2,0.2,0.2],\"clippingRangeExpansion\":0.5,\"interactive\":0,\"layer\":1,\"lightFollowCamera\":1,\"maximumNumberOfPeels\":4,\"nearClippingPlaneTolerance\":0.0,\"occlusionRatio\":0.0,\"preserveColorBuffer\":1,\"preserveDepthBuffer\":0,\"twoSidedLighting\":1,\"useDepthPeeling\":0,\"useShadows\":0,\"viewport\":[0.0,0.0,1.0,1.0]},\"type\":\"vtkOpenGLRenderer\"}],\"id\":\"18c4e5fe-b5ba-4c22-ae07-8e96f2daec0500005588af4f7ad0\",\"mtime\":153019,\"parent\":\"18c4e5fe-b5ba-4c22-ae07-8e96f2daec050x0\",\"properties\":{\"numberOfLayers\":2},\"type\":\"vtkXOpenGLRenderWindow\"},\"sizing_mode\":\"stretch_width\",\"width\":512},\"id\":\"1022\",\"type\":\"panel.models.vtk.VTKSynchronizedPlot\"},{\"attributes\":{},\"id\":\"1021\",\"type\":\"panel.models.vtk.VTKAxes\"},{\"attributes\":{\"client_comm_id\":\"2a70ea2fcb454fd0af407eedacc21b2f\",\"comm_id\":\"a1e979215537469d86728e0fd86763e3\",\"plot_id\":\"1022\"},\"id\":\"1023\",\"type\":\"panel.models.comm_manager.CommManager\"}],\"root_ids\":[\"1022\",\"1023\"]},\"title\":\"Bokeh Application\",\"version\":\"2.4.1\"}};\n",
       "    var render_items = [{\"docid\":\"f2061bd9-997a-4080-9402-931435b9b37c\",\"root_ids\":[\"1022\"],\"roots\":{\"1022\":\"d8c3832f-c29c-4435-8ada-d6794271af2b\"}}];\n",
       "    root.Bokeh.embed.embed_items_notebook(docs_json, render_items);\n",
       "  }\n",
       "  if (root.Bokeh !== undefined && root.Bokeh.Panel !== undefined && ( root['vtk'] !== undefined)) {\n",
       "    embed_document(root);\n",
       "  } else {\n",
       "    var attempts = 0;\n",
       "    var timer = setInterval(function(root) {\n",
       "      if (root.Bokeh !== undefined && root.Bokeh.Panel !== undefined && (root['vtk'] !== undefined)) {\n",
       "        clearInterval(timer);\n",
       "        embed_document(root);\n",
       "      } else if (document.readyState == \"complete\") {\n",
       "        attempts++;\n",
       "        if (attempts > 200) {\n",
       "          clearInterval(timer);\n",
       "          console.log(\"Bokeh: ERROR: Unable to run BokehJS code because BokehJS library is missing\");\n",
       "        }\n",
       "      }\n",
       "    }, 25, root)\n",
       "  }\n",
       "})(window);</script>"
      ]
     },
     "metadata": {},
     "output_type": "display_data"
    }
   ],
   "source": [
    "h = 0.1\n",
    "K = 2\n",
    "mesh = gf.Mesh(\"generate\", mo, h, K)\n",
    "mesh.export_to_vtk(\"feme.vtk\")\n",
    "render()"
   ]
  },
  {
   "cell_type": "code",
   "execution_count": 34,
   "id": "b11b8739-1a16-458f-9dc4-fc1937a1f0dc",
   "metadata": {},
   "outputs": [],
   "source": [
    "outer_faces = mesh.outer_faces()\n",
    "OUTER_BOUND = 1\n",
    "mesh.set_region(OUTER_BOUND, outer_faces)"
   ]
  },
  {
   "cell_type": "code",
   "execution_count": 35,
   "id": "1ea65a58-9711-4b49-96d6-c62f1e502665",
   "metadata": {},
   "outputs": [
    {
     "data": {
      "text/plain": []
     },
     "execution_count": 35,
     "metadata": {},
     "output_type": "execute_result"
    },
    {
     "name": "stdout",
     "output_type": "stream",
     "text": [
      "message from gf_mesh_fem_get follow:\n",
      "gfMeshFem object in dimension 2 with 1375 points, 656 elements and 1375 degrees of freedom\n",
      "\n"
     ]
    }
   ],
   "source": [
    "mf = gf.MeshFem(mesh, 1)\n",
    "elements_degree = 2\n",
    "mf.set_classical_fem(elements_degree)\n",
    "mf"
   ]
  },
  {
   "cell_type": "code",
   "execution_count": 36,
   "id": "997b504f-53e4-4948-a490-a076b1d50422",
   "metadata": {},
   "outputs": [
    {
     "data": {
      "text/plain": []
     },
     "execution_count": 36,
     "metadata": {},
     "output_type": "execute_result"
    },
    {
     "name": "stdout",
     "output_type": "stream",
     "text": [
      "message from gf_mesh_im_get follow:\n",
      "gfMeshIm object in dimension 2 with 1375 points and 656 elements\n",
      "\n"
     ]
    }
   ],
   "source": [
    "mim = gf.MeshIm(mesh, pow(elements_degree, 2))\n",
    "mim"
   ]
  },
  {
   "cell_type": "code",
   "execution_count": 37,
   "id": "865fb6cc-351d-4995-a5b2-866cffbe7eaf",
   "metadata": {},
   "outputs": [
    {
     "data": {
      "text/plain": []
     },
     "execution_count": 37,
     "metadata": {},
     "output_type": "execute_result"
    },
    {
     "name": "stdout",
     "output_type": "stream",
     "text": [
      "message from gf_model_get follow:\n",
      "Real gfModel object with 0 degrees of freedom\n",
      "\n"
     ]
    }
   ],
   "source": [
    "md = gf.Model(\"real\")\n",
    "md"
   ]
  },
  {
   "cell_type": "code",
   "execution_count": 38,
   "id": "33d0149a-c722-45d0-a5d9-74f9724eb260",
   "metadata": {},
   "outputs": [
    {
     "data": {
      "text/plain": [
       "array([0., 0.])"
      ]
     },
     "execution_count": 38,
     "metadata": {},
     "output_type": "execute_result"
    }
   ],
   "source": [
    "md.add_fem_variable(\"u\", mfu)\n",
    "md.variable('u')"
   ]
  },
  {
   "cell_type": "code",
   "execution_count": 39,
   "id": "2c557fce-02ac-4970-8223-12542372dd0c",
   "metadata": {},
   "outputs": [
    {
     "data": {
      "text/plain": [
       "0"
      ]
     },
     "execution_count": 39,
     "metadata": {},
     "output_type": "execute_result"
    }
   ],
   "source": [
    "md.add_Laplacian_brick(mim, \"u\")"
   ]
  },
  {
   "cell_type": "code",
   "execution_count": 40,
   "id": "a752bee3-951a-48dc-9924-1c5ee4ec1e68",
   "metadata": {},
   "outputs": [],
   "source": [
    "F = 1.0\n",
    "md.add_fem_data(\"F\", mfu)\n"
   ]
  },
  {
   "cell_type": "code",
   "execution_count": 41,
   "id": "1b2bd665-001d-437d-ad5d-f7abc07d3d10",
   "metadata": {},
   "outputs": [],
   "source": [
    "md.set_variable(\"F\", np.repeat(F, mfu.nbdof()))\n"
   ]
  },
  {
   "cell_type": "code",
   "execution_count": 42,
   "id": "dd5ed8c5-b623-48c2-8716-b21e5780d70f",
   "metadata": {},
   "outputs": [
    {
     "data": {
      "text/plain": [
       "1"
      ]
     },
     "execution_count": 42,
     "metadata": {},
     "output_type": "execute_result"
    }
   ],
   "source": [
    "md.add_source_term_brick(mim, \"u\", \"F\")"
   ]
  },
  {
   "cell_type": "code",
   "execution_count": 43,
   "id": "5b936370-bf64-49e8-bd9d-7eefbedfa0a9",
   "metadata": {},
   "outputs": [
    {
     "data": {
      "text/plain": [
       "2"
      ]
     },
     "execution_count": 43,
     "metadata": {},
     "output_type": "execute_result"
    }
   ],
   "source": [
    "md.add_Dirichlet_condition_with_multipliers(mim, \"u\", elements_degree - 1, OUTER_BOUND)"
   ]
  },
  {
   "cell_type": "code",
   "execution_count": 44,
   "id": "955e84d3-d472-479e-8b1f-7c6c65a1dab8",
   "metadata": {},
   "outputs": [
    {
     "name": "stderr",
     "output_type": "stream",
     "text": [
      "Trace 2 in getfem_models.cc, line 4386: Mass term assembly for Dirichlet condition\n",
      "logic_error exception caught\n"
     ]
    },
    {
     "ename": "RuntimeError",
     "evalue": "(Getfem::InterfaceError) -- Error in getfem_generic_assembly_compile_and_exec.cc, line 6109 void getfem::ga_compile_node(getfem::pga_tree_node, getfem::ga_workspace&, getfem::ga_instruction_set&, getfem::ga_instruction_set::region_mim_instructions&, const getfem::mesh&, bool, getfem::ga_if_hierarchy&): \nThe finite element of variable u1u1 and the applied integration method have to be defined on the same mesh",
     "output_type": "error",
     "traceback": [
      "\u001b[0;31m---------------------------------------------------------------------------\u001b[0m",
      "\u001b[0;31mRuntimeError\u001b[0m                              Traceback (most recent call last)",
      "\u001b[0;32m/local_scratch/pbs.4326547.pbs02/ipykernel_4129454/638073769.py\u001b[0m in \u001b[0;36m<module>\u001b[0;34m\u001b[0m\n\u001b[0;32m----> 1\u001b[0;31m \u001b[0mmd\u001b[0m\u001b[0;34m.\u001b[0m\u001b[0msolve\u001b[0m\u001b[0;34m(\u001b[0m\u001b[0;34m)\u001b[0m\u001b[0;34m\u001b[0m\u001b[0;34m\u001b[0m\u001b[0m\n\u001b[0m",
      "\u001b[0;32m~/.conda/envs/metamtl-rl/lib/python3.8/site-packages/getfem/getfem.py\u001b[0m in \u001b[0;36msolve\u001b[0;34m(self, *args)\u001b[0m\n\u001b[1;32m   2951\u001b[0m       disabled variables are then considered as data) for instance to\n\u001b[1;32m   2952\u001b[0m       replace the global Newton strategy with a fixed point one.\"\"\"\n\u001b[0;32m-> 2953\u001b[0;31m     \u001b[0;32mreturn\u001b[0m \u001b[0mself\u001b[0m\u001b[0;34m.\u001b[0m\u001b[0mget\u001b[0m\u001b[0;34m(\u001b[0m\u001b[0;34m\"solve\"\u001b[0m\u001b[0;34m,\u001b[0m \u001b[0;34m*\u001b[0m\u001b[0margs\u001b[0m\u001b[0;34m)\u001b[0m\u001b[0;34m\u001b[0m\u001b[0;34m\u001b[0m\u001b[0m\n\u001b[0m\u001b[1;32m   2954\u001b[0m \u001b[0;34m\u001b[0m\u001b[0m\n\u001b[1;32m   2955\u001b[0m \u001b[0;34m\u001b[0m\u001b[0m\n",
      "\u001b[0;32m~/.conda/envs/metamtl-rl/lib/python3.8/site-packages/getfem/getfem.py\u001b[0m in \u001b[0;36mget\u001b[0;34m(self, *args)\u001b[0m\n\u001b[1;32m   2773\u001b[0m     \u001b[0mgeneric_destructor\u001b[0m\u001b[0;34m(\u001b[0m\u001b[0mself\u001b[0m\u001b[0;34m,\u001b[0m \u001b[0mdestructible\u001b[0m\u001b[0;34m=\u001b[0m\u001b[0;32mTrue\u001b[0m\u001b[0;34m)\u001b[0m\u001b[0;34m\u001b[0m\u001b[0;34m\u001b[0m\u001b[0m\n\u001b[1;32m   2774\u001b[0m   \u001b[0;32mdef\u001b[0m \u001b[0mget\u001b[0m\u001b[0;34m(\u001b[0m\u001b[0mself\u001b[0m\u001b[0;34m,\u001b[0m \u001b[0;34m*\u001b[0m\u001b[0margs\u001b[0m\u001b[0;34m)\u001b[0m\u001b[0;34m:\u001b[0m\u001b[0;34m\u001b[0m\u001b[0;34m\u001b[0m\u001b[0m\n\u001b[0;32m-> 2775\u001b[0;31m     \u001b[0;32mreturn\u001b[0m \u001b[0mgetfem\u001b[0m\u001b[0;34m(\u001b[0m\u001b[0;34m'model_get'\u001b[0m\u001b[0;34m,\u001b[0m\u001b[0mself\u001b[0m\u001b[0;34m.\u001b[0m\u001b[0mid\u001b[0m\u001b[0;34m,\u001b[0m \u001b[0;34m*\u001b[0m\u001b[0margs\u001b[0m\u001b[0;34m)\u001b[0m\u001b[0;34m\u001b[0m\u001b[0;34m\u001b[0m\u001b[0m\n\u001b[0m\u001b[1;32m   2776\u001b[0m   \u001b[0;32mdef\u001b[0m \u001b[0m__repr__\u001b[0m\u001b[0;34m(\u001b[0m\u001b[0mself\u001b[0m\u001b[0;34m)\u001b[0m\u001b[0;34m:\u001b[0m\u001b[0;34m\u001b[0m\u001b[0;34m\u001b[0m\u001b[0m\n\u001b[1;32m   2777\u001b[0m     \u001b[0mgetfem\u001b[0m\u001b[0;34m(\u001b[0m\u001b[0;34m'model_get'\u001b[0m\u001b[0;34m,\u001b[0m\u001b[0mself\u001b[0m\u001b[0;34m.\u001b[0m\u001b[0mid\u001b[0m\u001b[0;34m,\u001b[0m \u001b[0;34m'display'\u001b[0m\u001b[0;34m)\u001b[0m\u001b[0;34m\u001b[0m\u001b[0;34m\u001b[0m\u001b[0m\n",
      "\u001b[0;31mRuntimeError\u001b[0m: (Getfem::InterfaceError) -- Error in getfem_generic_assembly_compile_and_exec.cc, line 6109 void getfem::ga_compile_node(getfem::pga_tree_node, getfem::ga_workspace&, getfem::ga_instruction_set&, getfem::ga_instruction_set::region_mim_instructions&, const getfem::mesh&, bool, getfem::ga_if_hierarchy&): \nThe finite element of variable u1u1 and the applied integration method have to be defined on the same mesh"
     ]
    }
   ],
   "source": [
    "md.solve()"
   ]
  },
  {
   "cell_type": "code",
   "execution_count": null,
   "id": "af1eafae-1df7-4853-8499-dfb63ba692d2",
   "metadata": {},
   "outputs": [],
   "source": []
  }
 ],
 "metadata": {
  "kernelspec": {
   "display_name": "Py3.8 MetaMaterial-RL",
   "language": "python",
   "name": "metamtl-rl"
  },
  "language_info": {
   "codemirror_mode": {
    "name": "ipython",
    "version": 3
   },
   "file_extension": ".py",
   "mimetype": "text/x-python",
   "name": "python",
   "nbconvert_exporter": "python",
   "pygments_lexer": "ipython3",
   "version": "3.8.12"
  }
 },
 "nbformat": 4,
 "nbformat_minor": 5
}
