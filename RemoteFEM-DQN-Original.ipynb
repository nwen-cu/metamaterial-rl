{
 "cells": [
  {
   "cell_type": "markdown",
   "metadata": {},
   "source": [
    "# Reinforcement Learning- and FEM-based Inverse Design"
   ]
  },
  {
   "cell_type": "markdown",
   "metadata": {
    "tags": []
   },
   "source": [
    "## Experiment Logger"
   ]
  },
  {
   "cell_type": "code",
   "execution_count": 1,
   "metadata": {},
   "outputs": [],
   "source": [
    "import os\n",
    "import neptune.new as neptune\n",
    "from neptune.new.types import File\n",
    "from neptune.new.utils import stringify_unsupported\n",
    "\n",
    "os.environ['NEPTUNE_PROJECT']=\"pil-clemson/metamtl-rl\"\n",
    "os.environ['NEPTUNE_NOTEBOOK_ID']=\"45d03d69-6ac7-41ca-8af8-80caaa73aad5\"\n",
    "os.environ['NEPTUNE_NOTEBOOK_PATH']=\"metamaterial-rl/RemoteFEM-DQN.ipynb\"\n",
    "\n",
    "exp = None"
   ]
  },
  {
   "cell_type": "code",
   "execution_count": 2,
   "metadata": {},
   "outputs": [],
   "source": [
    "experiment_repeat = 2"
   ]
  },
  {
   "cell_type": "markdown",
   "metadata": {
    "tags": []
   },
   "source": [
    "## Import"
   ]
  },
  {
   "cell_type": "code",
   "execution_count": 4,
   "metadata": {},
   "outputs": [],
   "source": [
    "from __future__ import annotations\n",
    "from typing import Union, Optional, Callable, Any\n",
    "from typing import Tuple, List, Set, Dict\n",
    "from typing import NamedTuple\n",
    "from typing import Generator"
   ]
  },
  {
   "cell_type": "code",
   "execution_count": 5,
   "metadata": {},
   "outputs": [],
   "source": [
    "from collections import defaultdict, deque\n",
    "from types import SimpleNamespace\n",
    "import queue\n",
    "from queue import PriorityQueue\n",
    "from enum import Enum"
   ]
  },
  {
   "cell_type": "code",
   "execution_count": 6,
   "metadata": {},
   "outputs": [],
   "source": [
    "from dataclasses import dataclass, field"
   ]
  },
  {
   "cell_type": "code",
   "execution_count": 7,
   "metadata": {},
   "outputs": [],
   "source": [
    "import traceback\n",
    "import tracemalloc"
   ]
  },
  {
   "cell_type": "code",
   "execution_count": 8,
   "metadata": {},
   "outputs": [],
   "source": [
    "import ipywidgets as widgets\n",
    "from IPython.display import clear_output"
   ]
  },
  {
   "cell_type": "code",
   "execution_count": 9,
   "metadata": {},
   "outputs": [],
   "source": [
    "import os\n",
    "import sys\n",
    "import copy\n",
    "import time\n",
    "from datetime import datetime, timedelta\n",
    "from pprint import pformat, pprint\n",
    "import multiprocessing\n",
    "import random\n",
    "import math\n",
    "import itertools\n",
    "import uuid"
   ]
  },
  {
   "cell_type": "code",
   "execution_count": 10,
   "metadata": {},
   "outputs": [],
   "source": [
    "from tqdm.notebook import trange, tqdm"
   ]
  },
  {
   "cell_type": "code",
   "execution_count": 11,
   "metadata": {},
   "outputs": [],
   "source": [
    "import matplotlib.pyplot as plt"
   ]
  },
  {
   "cell_type": "code",
   "execution_count": 12,
   "metadata": {},
   "outputs": [],
   "source": [
    "import plotly.express as px"
   ]
  },
  {
   "cell_type": "code",
   "execution_count": 13,
   "metadata": {},
   "outputs": [
    {
     "name": "stdout",
     "output_type": "stream",
     "text": [
      "PyTorch version: 1.13.0\n"
     ]
    }
   ],
   "source": [
    "import torch\n",
    "from torch import nn\n",
    "\n",
    "from torch import Tensor, BoolTensor\n",
    "\n",
    "from torch.nn.modules.loss import _Loss\n",
    "from torch.optim import Optimizer\n",
    "\n",
    "from torchvision.transforms import PILToTensor\n",
    "\n",
    "print('PyTorch version:', torch.__version__)"
   ]
  },
  {
   "cell_type": "code",
   "execution_count": 14,
   "metadata": {},
   "outputs": [],
   "source": [
    "import torchinfo"
   ]
  },
  {
   "cell_type": "code",
   "execution_count": 15,
   "metadata": {},
   "outputs": [],
   "source": [
    "import numpy as np"
   ]
  },
  {
   "cell_type": "code",
   "execution_count": 16,
   "metadata": {},
   "outputs": [],
   "source": [
    "from skimage.measure import block_reduce"
   ]
  },
  {
   "cell_type": "code",
   "execution_count": 17,
   "metadata": {},
   "outputs": [],
   "source": [
    "from SimHubClient import SimHubClient"
   ]
  },
  {
   "cell_type": "markdown",
   "metadata": {},
   "source": [
    "## Computing Devices"
   ]
  },
  {
   "cell_type": "code",
   "execution_count": 18,
   "metadata": {},
   "outputs": [
    {
     "name": "stdout",
     "output_type": "stream",
     "text": [
      "CPU Cores: 56\n"
     ]
    }
   ],
   "source": [
    "print('CPU Cores:', multiprocessing.cpu_count())"
   ]
  },
  {
   "cell_type": "code",
   "execution_count": 19,
   "metadata": {},
   "outputs": [
    {
     "name": "stdout",
     "output_type": "stream",
     "text": [
      "Memory size: 376 GiB\n"
     ]
    }
   ],
   "source": [
    "# Getting all memory using os.popen()\n",
    "mem_bytes = os.sysconf('SC_PAGE_SIZE') * os.sysconf('SC_PHYS_PAGES')  # e.g. 4015976448\n",
    "mem_gib = mem_bytes/(1024.**3)\n",
    "print('Memory size:', int(mem_gib), 'GiB')"
   ]
  },
  {
   "cell_type": "code",
   "execution_count": 20,
   "metadata": {},
   "outputs": [
    {
     "name": "stdout",
     "output_type": "stream",
     "text": [
      "GPUs: ['Tesla V100S-PCIE-32GB', 'Tesla V100S-PCIE-32GB']\n"
     ]
    }
   ],
   "source": [
    "available_gpus = [torch.cuda.get_device_name(i) for i in range(torch.cuda.device_count())]\n",
    "print('GPUs:', available_gpus)"
   ]
  },
  {
   "cell_type": "code",
   "execution_count": 21,
   "metadata": {},
   "outputs": [
    {
     "name": "stdout",
     "output_type": "stream",
     "text": [
      "Current computing device: cpu\n"
     ]
    }
   ],
   "source": [
    "cuda = torch.device('cpu') if torch.cuda.is_available() else torch.device('cpu')\n",
    "print('Current computing device:', cuda)"
   ]
  },
  {
   "cell_type": "markdown",
   "metadata": {
    "tags": []
   },
   "source": [
    "## DEBUG FLAG"
   ]
  },
  {
   "cell_type": "code",
   "execution_count": 22,
   "metadata": {},
   "outputs": [],
   "source": [
    "DEBUG = False"
   ]
  },
  {
   "cell_type": "code",
   "execution_count": 23,
   "metadata": {},
   "outputs": [],
   "source": [
    "class DEBUG:\n",
    "    result_generation=True\n",
    "    result_visualization=False\n",
    "    \n",
    "    transition_log=True\n",
    "    transition_log_buffer=''\n",
    "    transition_log_buffer_gen=''\n",
    "\n",
    "    action_log=False\n",
    "    prediction_log=False\n",
    "    state_log=True\n",
    "    epsilon_log=True\n",
    "    reward_log=True\n",
    "    state_visualization=False\n",
    "    state_target_diff_visualization=False\n",
    "    \n",
    "    visualization_sampling_rate=.000\n",
    "    \n",
    "    optimizer_sample_log=False\n",
    "    \n",
    "    start_from_goal=False\n",
    "    \n",
    "    trace_memory=False\n",
    "    \n",
    "    in_generation_mode=False"
   ]
  },
  {
   "cell_type": "code",
   "execution_count": 24,
   "metadata": {},
   "outputs": [],
   "source": [
    "if DEBUG.trace_memory:\n",
    "    os.environ['PYTHONTRACEMALLOC'] = '3'\n",
    "    tracemalloc.start()"
   ]
  },
  {
   "cell_type": "markdown",
   "metadata": {
    "tags": []
   },
   "source": [
    "## Helper Functions"
   ]
  },
  {
   "cell_type": "code",
   "execution_count": 25,
   "metadata": {},
   "outputs": [],
   "source": [
    "clip = lambda x, l, u: l if x < l else u if x > u else x"
   ]
  },
  {
   "cell_type": "markdown",
   "metadata": {},
   "source": [
    "## Hyperparameters"
   ]
  },
  {
   "cell_type": "code",
   "execution_count": 26,
   "metadata": {},
   "outputs": [],
   "source": [
    "environment_configuration = {\n",
    "    'grid_size': (4, 4),\n",
    "    'initial_state': 'RANDOM',\n",
    "    \n",
    "    'result_size': (40, 40),\n",
    "    'result_range': (293.15, 353.15),\n",
    "}\n",
    "\n",
    "hyperparameters = {\n",
    "    'target_update_interval': 1000,\n",
    "    'optimization_iterations': 1,\n",
    "    'experience_replay_capacity': 10000,\n",
    "    'replay_batch_size': 32,\n",
    "    'lr': .001,\n",
    "    'discount_factor': .9,\n",
    "    'epsilon_initial': 1.,\n",
    "    'epsilon_minimal': .1,\n",
    "    'epsilon_halflife': 2000,\n",
    "    'epsilon_boost_preterminal': .3,\n",
    "\n",
    "    'max_episode': 1000,\n",
    "    'max_step_per_episode': 1000,\n",
    "    \n",
    "    'goal_reward':10000.,\n",
    "    'terminal_error_threshold': 0.01,\n",
    "    \n",
    "    'reward_error_func': 'SegMSE-2(0-1)',\n",
    "    'reward_state_normalization': '0-1',\n",
    "    'reward_bias': 5,\n",
    "    'reward_func': 'Log2'\n",
    "    \n",
    "}    \n",
    "\n",
    "\n"
   ]
  },
  {
   "cell_type": "markdown",
   "metadata": {
    "tags": []
   },
   "source": [
    "## Reinforcement Learning Environment"
   ]
  },
  {
   "cell_type": "markdown",
   "metadata": {},
   "source": [
    "## Interfaces and Dataclasses"
   ]
  },
  {
   "cell_type": "code",
   "execution_count": 27,
   "metadata": {},
   "outputs": [],
   "source": [
    "class State(dict):\n",
    "    def __init__(self) -> None:\n",
    "        super().__init__()\n",
    "        \n",
    "    def step(self, action: 'Action') -> 'State': \n",
    "        return action(copy.deepcopy(self))\n",
    "\n",
    "    def to_tensor(self) -> Tensor: raise NotImplementedError"
   ]
  },
  {
   "cell_type": "code",
   "execution_count": 28,
   "metadata": {},
   "outputs": [],
   "source": [
    "class Action:\n",
    "    def __init__(self, name: str, action: Callable[[State], State]) -> None:\n",
    "        self.name = name\n",
    "        self.action = action\n",
    "        \n",
    "    def __repr__(self) -> str:\n",
    "        return self.name\n",
    "        \n",
    "    def __call__(self, state: State) -> State:\n",
    "        return self.action(state)\n",
    "# Action = Callable[[State], State]"
   ]
  },
  {
   "cell_type": "code",
   "execution_count": 29,
   "metadata": {},
   "outputs": [],
   "source": [
    "class Environment:    \n",
    "    def __init__(self) -> None:\n",
    "        self._state: State = None\n",
    "        self._action_space: List[Action] = list()\n",
    "        self._valid_actions: BoolTensor = None\n",
    "\n",
    "    def __repr__(self) -> str:\n",
    "        return f'''{self.__class__.__name__}(\n",
    "    Action space size: {self.action_count()}\n",
    "    Current state: {self.state}\n",
    ")'''\n",
    "        \n",
    "    @property\n",
    "    def state(self) -> State: return self._state\n",
    "    \n",
    "    @property\n",
    "    def action_space(self) -> List[Action]: return self._action_space        \n",
    "\n",
    "    def action_count(self) -> int: return len(self._action_space)        \n",
    "    \n",
    "    def reset(self) -> None: raise NotImplementedError\n",
    "        \n",
    "    def step(self, action_index: int) -> None: raise NotImplementedError\n"
   ]
  },
  {
   "cell_type": "code",
   "execution_count": 30,
   "metadata": {},
   "outputs": [],
   "source": [
    "class ReplayTransition(NamedTuple):\n",
    "    state: State\n",
    "    action_index: int\n",
    "    reward: float\n",
    "    next_state: State\n",
    "    note: str"
   ]
  },
  {
   "cell_type": "code",
   "execution_count": 31,
   "metadata": {},
   "outputs": [],
   "source": [
    "@dataclass\n",
    "class SimulationTransition:\n",
    "    # From stepping\n",
    "    episode: int\n",
    "    step: int\n",
    "    \n",
    "    state: State\n",
    "    action_index: int\n",
    "    next_state: State\n",
    "    \n",
    "    \n",
    "    action_name: str = None\n",
    "    action_type: str = None\n",
    "    \n",
    "    # From FEM simulator\n",
    "    state_id: str = None\n",
    "    next_state_id: str = None\n",
    "    \n",
    "    state_sim: Dict[str, Any] = None\n",
    "    next_state_sim: Dict[str, Any] = None\n",
    "    \n",
    "    # From reward function\n",
    "    state_error: float = None\n",
    "    is_state_terminal: bool = None\n",
    "    \n",
    "    next_state_error: float = None\n",
    "    is_next_state_terminal: bool = None\n",
    "    \n",
    "    reward: float = None    \n",
    "    \n",
    "    def __repr__(self) -> str:\n",
    "        return f'[{self.episode}-{self.step}] ' +\\\n",
    "                f'{self.state}({self.state_error}, {self.is_state_terminal})' +\\\n",
    "                f' =={self.action_name}({self.action_type})==> ' +\\\n",
    "                f'{self.next_state}({self.state_error}, {self.is_state_terminal})' +\\\n",
    "                f'  R:{self.reward} {\"Loop!\" if self.state_id == self.next_state_id else \"\"}'"
   ]
  },
  {
   "cell_type": "code",
   "execution_count": 32,
   "metadata": {},
   "outputs": [],
   "source": [
    "RewardFunc = Callable[[SimulationTransition], SimulationTransition]"
   ]
  },
  {
   "cell_type": "markdown",
   "metadata": {},
   "source": [
    "## State and Environment"
   ]
  },
  {
   "cell_type": "code",
   "execution_count": 33,
   "metadata": {},
   "outputs": [],
   "source": [
    "class TurnableGridState(State):\n",
    "    def __init__(self) -> None:\n",
    "        super().__init__()\n",
    "        if environment_configuration['initial_state'] == 'RANDOM':\n",
    "            self['angle_matrix'] = np.random.choice([-80, -45, -10, 10, 45, 80], environment_configuration['grid_size'])\n",
    "        else:\n",
    "            self['angle_matrix'] = np.zeros(environment_configuration['grid_size']) + 10\n",
    "        \n",
    "        if DEBUG.start_from_goal:\n",
    "            self['angle_matrix'] = np.array([[45, -45], [-45, 45]])\n",
    "    \n",
    "    def to_tensor(self) -> torch.Tensor:\n",
    "        return torch.tensor(self['angle_matrix'].flatten()).float()"
   ]
  },
  {
   "cell_type": "code",
   "execution_count": 34,
   "metadata": {},
   "outputs": [],
   "source": [
    "class TurnableGridEnvironment(Environment):    \n",
    "    def __init__(self) -> None:\n",
    "        super().__init__()\n",
    "        \n",
    "        self.grid_size = environment_configuration['grid_size']\n",
    "        \n",
    "        self.angle_range = [-80, 80]\n",
    "        self.angle_modifiers = [-1, 1]\n",
    "\n",
    "        self.reset()\n",
    "        \n",
    "        def angle_matrix_action(i, j, mod):\n",
    "            def action(state):\n",
    "                old_value = state['angle_matrix'][i, j]\n",
    "                # Jump between -10, 10\n",
    "                if old_value * mod == -10:\n",
    "                    modifier = mod * 20\n",
    "                else:\n",
    "                    modifier = mod * 35\n",
    "                    \n",
    "                # Jump between -80, 80\n",
    "                if old_value * mod == 80:\n",
    "                    modifier = mod * -160\n",
    "                    \n",
    "                state['angle_matrix'][i, j] = old_value + modifier\n",
    "                \n",
    "                if DEBUG.action_log:\n",
    "                    exp['action_log'].append(f'{old_value}, {modifier}({mod}), {state[\"angle_matrix\"][i, j]}')\n",
    "                return state\n",
    "            return Action(f'({i}, {j})->{mod}', action)\n",
    "        \n",
    "        for i in range(self.grid_size[0]):\n",
    "            for j in range(self.grid_size[1]):\n",
    "                for mod in self.angle_modifiers:\n",
    "                    self._action_space.append(angle_matrix_action(i, j, mod))\n",
    "\n",
    "                    \n",
    "    def reset(self) -> None: \n",
    "        self._state = TurnableGridState()\n",
    "                \n",
    "        \n",
    "    def step(self, action_index: int) -> None: \n",
    "        action = self._action_space[action_index]\n",
    "        self._state = self._state.step(action)"
   ]
  },
  {
   "cell_type": "code",
   "execution_count": null,
   "metadata": {},
   "outputs": [],
   "source": []
  },
  {
   "cell_type": "markdown",
   "metadata": {
    "tags": []
   },
   "source": [
    "## Visualization Functions"
   ]
  },
  {
   "cell_type": "code",
   "execution_count": 34,
   "metadata": {},
   "outputs": [],
   "source": [
    "def log_vis_sim(sim_arr, field, append=False, step=None, desc=None):\n",
    "    rang = environment_configuration['result_range']\n",
    "    size = environment_configuration['result_size']\n",
    "    arr = np.clip((sim_arr.reshape(size) - rang[0]) / (rang[1] - rang[0]), 0, 1)\n",
    "    if append:\n",
    "        exp[field].append(File.as_image(arr), step=step, description=desc)\n",
    "    else:\n",
    "        exp[field].upload(File.as_image(arr))"
   ]
  },
  {
   "cell_type": "raw",
   "metadata": {},
   "source": [
    "def log_vis_sim(sim_arr, field, append=False, step=None, desc=None):\n",
    "    file_name = 'generated_images/' + field.replace('/', '-') + (f'/{step}' if step else '') + '.png'\n",
    "    \n",
    "    plt.imshow(sim_arr.reshape(environment_configuration['result_size']))\n",
    "    plt.savefig(file_name)\n",
    "    \n",
    "    fig = plt.figure()\n",
    "    fig.clear()\n",
    "    plt.close(fig)\n",
    "    \n",
    "    if append:\n",
    "        exp[field].append(File(file_name), step=step, description=desc)\n",
    "    else:\n",
    "        exp[field].upload(File(file_name))"
   ]
  },
  {
   "cell_type": "code",
   "execution_count": 35,
   "metadata": {},
   "outputs": [],
   "source": [
    "def log_vis_sim(sim_arr, field, append=False, step=None, desc=None, vrange=(0, 1)):\n",
    "    plt.imshow(sim_arr.reshape(environment_configuration['result_size']), \n",
    "               vmin=vrange[0], vmax=vrange[1], cmap='coolwarm')\n",
    "    fig = plt.gcf()\n",
    "    \n",
    "    if append:\n",
    "        exp[field].append(fig, step=step, description=desc, wait=True)\n",
    "    else:\n",
    "        exp[field].upload(fig, wait=True)\n",
    "        \n",
    "    fig.clear()\n",
    "    plt.close(fig)\n",
    "    \n"
   ]
  },
  {
   "cell_type": "markdown",
   "metadata": {},
   "source": [
    "## DQN"
   ]
  },
  {
   "cell_type": "markdown",
   "metadata": {},
   "source": [
    "### FEM-based Reward & Terminal Function"
   ]
  },
  {
   "cell_type": "code",
   "execution_count": 37,
   "metadata": {},
   "outputs": [],
   "source": [
    "class FEMReward():\n",
    "    def __init__(self,\n",
    "                 target: Tensor,\n",
    "                 hyperparameters: Dict[str, Any]) -> None:\n",
    "\n",
    "        \n",
    "        # self.target = target\n",
    "        # exp['target_value'] = target\n",
    "        \n",
    "        if hyperparameters['reward_state_normalization'] == '0-1':\n",
    "            self.normalize_func = lambda x: (x - 293.15) / 60\n",
    "        else:\n",
    "            raise NotImplementedError\n",
    "\n",
    "        if hyperparameters['reward_error_func'] == 'RMSE':\n",
    "            mseloss = nn.MSELoss(reduction='mean')\n",
    "            self.error_func = lambda a, b: torch.sqrt(mseloss(a, b))\n",
    "        elif hyperparameters['reward_error_func'] == 'SegMSE-2(0-1)':          \n",
    "            def error_func(norm_val, norm_target):                \n",
    "                size = environment_configuration['result_size']\n",
    "                powr = 3\n",
    "                pool_size = (5, 5)\n",
    "                pool_func = np.max\n",
    "                threshold = 0.0003\n",
    "                aggr = lambda x: np.sum(x) / x.size\n",
    "                \n",
    "                diff = np.abs(norm_val - norm_target).reshape(size)\n",
    "                diff **= powr\n",
    "                diff = block_reduce(diff, pool_size, func=pool_func)  \n",
    "\n",
    "                mask1 = diff >= threshold \n",
    "                mask2 = diff < threshold\n",
    "                diff[mask1] = 1\n",
    "                diff[mask2] = 0\n",
    "\n",
    "                return aggr(diff)\n",
    "            \n",
    "            self.error_func = error_func\n",
    "            \n",
    "        else:\n",
    "            raise NotImplementedError\n",
    "            \n",
    "        self.reward_bias = hyperparameters['reward_bias']\n",
    "        \n",
    "        if hyperparameters['reward_func'] == 'Linear':\n",
    "            self.reward_func = lambda err: -err + self.reward_bias\n",
    "        elif hyperparameters['reward_func'] == 'Log2':\n",
    "            self.reward_func = lambda err: min(-math.log10(err * 2), 1)\n",
    "        else:\n",
    "            raise NotImplementedError\n",
    "            \n",
    "        self.target = self.normalize_func(target)\n",
    "\n",
    "        self.goal_reward = hyperparameters['goal_reward']\n",
    "        self.terminal_error_threshold = hyperparameters['terminal_error_threshold']\n",
    "\n",
    "    def __call__(self, transition: SimulationTransition) -> SimulationTransition:\n",
    "        \"\"\"\n",
    "        Calculate reward value for a transition, and determine if a terminal state is reached\n",
    "\n",
    "        Parameters\n",
    "        ----------\n",
    "        transition : SimulationTransition\n",
    "            A transition with completed simulation data\n",
    "\n",
    "        Returns\n",
    "        -------\n",
    "        float | None\n",
    "            Reward value, None if the next_state is terminal\n",
    "        bool\n",
    "            The next_state is terminal\n",
    "\n",
    "        Raises\n",
    "        ------\n",
    "        TODO\n",
    "        \"\"\"\n",
    "        \n",
    "        if transition.state_sim and transition.state_sim['status'] == 'done':\n",
    "            state_result = torch.tensor(transition.state_sim['output']['temperature_distribution'][2])\n",
    "            state_result = self.normalize_func(state_result)\n",
    "            transition.state_error = float(self.error_func(state_result, self.target))\n",
    "            transition.is_state_terminal = transition.state_error <= self.terminal_error_threshold\n",
    "\n",
    "        \n",
    "        if transition.next_state_sim and transition.next_state_sim['status'] == 'done':\n",
    "            next_state_result = torch.tensor(transition.next_state_sim['output']['temperature_distribution'][2])\n",
    "            next_state_result = self.normalize_func(next_state_result)\n",
    "            transition.next_state_error = float(self.error_func(next_state_result, self.target))\n",
    "            transition.is_next_state_terminal = transition.next_state_error <= self.terminal_error_threshold\n",
    "        \n",
    "        # # Reward decreasing error from state to next state\n",
    "        # transition.reward += transition.state_error - transition.next_state_error\n",
    "        \n",
    "        # Reward based on state_error\n",
    "        transition.reward = self.reward_func(transition.state_error) \n",
    "        # if transition.state_error < 1:\n",
    "        #     transition.reward = -1\n",
    "        # else:\n",
    "        #     transition.reward = -10\n",
    "\n",
    "        # Reward extra if next state is final\n",
    "        if transition.is_state_terminal:\n",
    "            transition.reward = self.goal_reward\n",
    "            \n",
    "        if transition.state_sim and transition.state_sim['status'] == 'done':\n",
    "            \n",
    "            if DEBUG.state_log:\n",
    "                if not DEBUG.in_generation_mode:\n",
    "                    exp['state_values'].append(transition.state_error)\n",
    "                else:\n",
    "                    exp['state_values_gen'].append(transition.state_error)\n",
    "                    \n",
    "            if not DEBUG.in_generation_mode:\n",
    "                if DEBUG.state_visualization or DEBUG.state_target_diff_visualization:\n",
    "                    debug_sampling = (random.random() <= DEBUG.visualization_sampling_rate)\n",
    "\n",
    "                if DEBUG.state_visualization and debug_sampling:\n",
    "                    log_vis_sim(state_result, 'state_visualization', vrange=(293.15, 353.15),\n",
    "                                append=True, desc=f'E{transition.episode}'\n",
    "                                + f' S{transition.step}'\n",
    "                                + f' E {transition.state_error}' \n",
    "                                + f' R {transition.reward}' \n",
    "                                + f' {transition.state}')\n",
    "\n",
    "                if DEBUG.state_target_diff_visualization and debug_sampling:\n",
    "                    log_vis_sim((state_result - 293.15) / 60 - self.target, 'state_target_diff', \n",
    "                                vrange=(0, 1),\n",
    "                                append=True, desc=f'E{transition.episode}'\n",
    "                                + f' S{transition.step}'\n",
    "                                + f' E {transition.state_error}' \n",
    "                                + f' R {transition.reward}' \n",
    "                                + f' {transition.state}')\n",
    "            \n",
    "                    \n",
    "        if DEBUG.reward_log and not DEBUG.in_generation_mode:\n",
    "            exp['reward'].append(transition.reward)\n",
    "        \n",
    "        return transition"
   ]
  },
  {
   "cell_type": "markdown",
   "metadata": {},
   "source": [
    "### Network Definition"
   ]
  },
  {
   "cell_type": "code",
   "execution_count": 38,
   "metadata": {
    "tags": []
   },
   "outputs": [],
   "source": [
    "# Network Container\n",
    "class Model():\n",
    "    def __init__(self, network: nn.Module, loss_func: _Loss, optimizer: Optimizer):\n",
    "        self.network = network\n",
    "        self.loss_func = loss_func\n",
    "        self.optimizer = optimizer\n",
    "\n",
    "    def __call__(self, network_input: Tensor) -> Tensor:\n",
    "        return self.network(network_input)"
   ]
  },
  {
   "cell_type": "code",
   "execution_count": 39,
   "metadata": {},
   "outputs": [],
   "source": [
    "def QNet(state_size: int = 16, action_number: int = 32, target_network: bool = False):\n",
    "    net = nn.Sequential(\n",
    "        nn.Linear(state_size, 128, device=cuda),\n",
    "        nn.ReLU(),\n",
    "        nn.Linear(128, 256, device=cuda),\n",
    "        nn.ReLU(),\n",
    "        nn.Linear(256, action_number, device=cuda),\n",
    "    )\n",
    "    if target_network:\n",
    "        return Model(network=net, loss_func=None, optimizer=None)\n",
    "    else:\n",
    "        # exp['Network'] = str(torchinfo.summary(net, input_size=(32, state_size), \n",
    "        #                                        device=cuda, verbose=0))\n",
    "        return Model(network=net, loss_func=nn.HuberLoss(), optimizer=torch.optim.Adam(net.parameters(), 0.001))"
   ]
  },
  {
   "cell_type": "markdown",
   "metadata": {},
   "source": [
    "### Replay Memory Class"
   ]
  },
  {
   "cell_type": "code",
   "execution_count": 40,
   "metadata": {},
   "outputs": [],
   "source": [
    "class ReplayMemory():\n",
    "    def __init__(self, capacity):\n",
    "        self.memory: deque = deque([], maxlen=capacity)\n",
    "\n",
    "    def push(self, *args):\n",
    "        self.memory.append(ReplayTransition(*args))\n",
    "\n",
    "    def sample(self, batch_size):\n",
    "        return random.sample(self.memory, batch_size)\n",
    "\n",
    "    def __len__(self):\n",
    "        return len(self.memory)"
   ]
  },
  {
   "cell_type": "markdown",
   "metadata": {
    "toc-hr-collapsed": true
   },
   "source": [
    "### Agent Class"
   ]
  },
  {
   "cell_type": "code",
   "execution_count": 41,
   "metadata": {},
   "outputs": [],
   "source": [
    "class Agent():\n",
    "    def __init__(self, environment: Environment, simulator: SimHubClient, reward_func: RewardFunc, \n",
    "                 policy_network: nn.Module, target_network: nn.Module, hyperparameters: Dict[str, Any]) -> None:\n",
    "        self.environment: Environment = environment\n",
    "        self.fem_simulator: SimHubClient = simulator\n",
    "        self.fem_reward_func: RewardFunc = reward_func\n",
    "        \n",
    "        self.policy_network: Model = policy_network\n",
    "        self.target_network: Model = target_network  \n",
    "        \n",
    "        self.target_update_interval: int = hyperparameters['target_update_interval']\n",
    "\n",
    "        self.optimization_iterations: int = hyperparameters['optimization_iterations']\n",
    "        self.max_step_per_episode: int = hyperparameters['max_step_per_episode']\n",
    "        self.experience_replay: ReplayMemory = ReplayMemory(hyperparameters['experience_replay_capacity'])\n",
    "        self.replay_batch_size: int = hyperparameters['replay_batch_size']\n",
    "\n",
    "        self.discount_factor: float = hyperparameters['discount_factor']\n",
    "        self.epsilon_initial: float = hyperparameters['epsilon_initial']\n",
    "        self.epsilon_minimal: float = hyperparameters['epsilon_minimal']\n",
    "        self.epsilon_halflife: float = hyperparameters['epsilon_halflife']\n",
    "        \n",
    "        self.epsilon_boost_preterminal: float = hyperparameters['epsilon_boost_preterminal']\n",
    "        \n",
    "        \n",
    "        \n",
    "        self.pending_transitions: List[SimulationTransition] = list()\n",
    "        \n",
    "        # Set to true when generating result\n",
    "        self.generation_mode: bool = False\n",
    "        self.explored_step: int = 0\n",
    "        \n",
    "        self.total_steps: int = 0\n",
    "        \n",
    "        self.episode: int = 0\n",
    "        self.step_num: int = 0\n",
    "        \n",
    "        # Logging result of episode and boost epsilon when needed\n",
    "        self.previous_episode_terminal: List[bool] = list()\n",
    "        self.terminal_reached: bool = False\n",
    "        \n",
    "        self.convergence_episode: int = 0\n",
    "        self.convergence_step: int = 100000\n",
    "        self.convergence_episode_gen: int = 0\n",
    "        self.convergence_step_gen: int = 100000\n",
    "\n",
    "        \n",
    "    def updaet_action_mask(self) -> None:\n",
    "        ...\n",
    "        \n",
    "    \n",
    "    def select_action(self) -> Tuple[State, int, str]:\n",
    "        \"\"\"\n",
    "        Decide an action based on epsilon greedy algorithm\n",
    "\n",
    "        Returns\n",
    "        -------\n",
    "        State\n",
    "            Current state instance\n",
    "        int\n",
    "            Index number of an action in the action space\n",
    "        \n",
    "        str\n",
    "            Action type, literal string of \"Prediction\" or \"Random\"\n",
    "        \"\"\"\n",
    "        state = self.environment.state\n",
    "        # epsilon = self.epsilon_minimal + (self.epsilon_initial  - self.epsilon_minimal) * \\\n",
    "        #             math.exp(-1. * self.total_steps / self.epsilon_decay)\n",
    "        \n",
    "        epsilon = max(self.epsilon_initial \n",
    "                             * (0.5 ** (self.total_steps / self.epsilon_halflife)), \n",
    "                             self.epsilon_minimal)\n",
    "        \n",
    "        if not self.terminal_reached: epsilon += self.epsilon_boost_preterminal\n",
    "        \n",
    "        if DEBUG.epsilon_log and not self.generation_mode:\n",
    "            exp['epsilon'].append(epsilon, step=self.episode + self.step_num / self.max_step_per_episode)\n",
    "        \n",
    "        if random.random() > epsilon or self.generation_mode:\n",
    "            prediction = self.policy_network(state.to_tensor().flatten()).flatten()\n",
    "            \n",
    "            if DEBUG.prediction_log:\n",
    "                if not self.generation_mode:\n",
    "                    log_target = 'prediction'\n",
    "                else:\n",
    "                    log_target = 'prediction_gen'\n",
    "                exp[f'{log_target}/{self.episode}'].append(f'Step {self.step_num}', step=self.step_num)\n",
    "                exp[f'{log_target}/{self.episode}'].append(str(state), step=self.step_num+0.1)\n",
    "                preds = []\n",
    "                for i in range(len(prediction)):\n",
    "                    preds.append((prediction[i].item(), str(self.environment.action_space[i])))\n",
    "                preds.sort(reverse=True)\n",
    "                exp[f'{log_target}/{self.episode}'].append(pformat(preds), step=self.step_num+0.2)\n",
    "                \n",
    "            action_index = prediction.argmax().item()\n",
    "            action_type = 'Prediction'\n",
    "            \n",
    "        else:\n",
    "            action_index = random.randrange(len(self.environment.action_space))\n",
    "            action_type = 'Random'\n",
    "            self.explored_step += 1\n",
    "            \n",
    "        if not self.generation_mode:\n",
    "            self.total_steps += 1\n",
    "        return state, action_index, action_type\n",
    "    \n",
    "    def step(self) -> SimulationTransition:\n",
    "        \"\"\"\n",
    "        Perform an action in the in the environment and submit the transition as FEM task to simulator\n",
    "\n",
    "        Returns\n",
    "        -------\n",
    "        SimulationTransition\n",
    "            Return the transition\n",
    "        \"\"\"\n",
    "        state, action_index, action_type = self.select_action()\n",
    "        self.environment.step(action_index)\n",
    "        next_state = self.environment.state\n",
    "        \n",
    "        \n",
    "        transition = SimulationTransition(self.episode, self.step_num, state, action_index, next_state)\n",
    "        transition.state_id, state_result = self.fem_simulator.submit_task(state)\n",
    "        transition.next_state_id, next_state_result = self.fem_simulator.submit_task(next_state)\n",
    "        \n",
    "        if DEBUG:\n",
    "            transition.action_name = self.environment.action_space[action_index].name\n",
    "            transition.action_type = action_type\n",
    "        \n",
    "#         # If both result already exsit, proceed to reward and memory instead of waiting\n",
    "#         if state_result and next_state_result:\n",
    "#             transition.state_sim = state_result\n",
    "#             transition.next_state_sim = next_state_result\n",
    "            \n",
    "#             self.compute_reward(transition)\n",
    "#             if transition.is_state_terminal: return transition\n",
    "        \n",
    "        self.pending_transitions.append(transition)\n",
    "        return transition\n",
    "    \n",
    "    def compute_reward(self, transition: SimulationTransition) -> None:\n",
    "        \"\"\"\n",
    "        Compute reward value and terminal status for a COMPLETED transition. \n",
    "        The states, action and reward will be pushed into experience replay\n",
    "        \n",
    "        If the current state is terminal, transition.next_state will be set to None\n",
    "\n",
    "        Returns\n",
    "        -------\n",
    "        SimulationTransition\n",
    "            Return transition\n",
    "        \"\"\"\n",
    "        self.fem_reward_func(transition)\n",
    "        \n",
    "        if DEBUG.transition_log:\n",
    "            if not self.generation_mode:\n",
    "                DEBUG.transition_log_buffer += str(transition) + '\\n'\n",
    "                # exp[f'transitions/{transition.episode}'].append(str(transition))\n",
    "            else:\n",
    "                DEBUG.transition_log_buffer_gen += str(transition) + '\\n'\n",
    "                # exp[f'transitions_gen/{transition.episode}'].append(str(transition))\n",
    "\n",
    "        if not self.generation_mode:\n",
    "            self.experience_replay.push(transition.state.to_tensor(), \n",
    "                                        transition.action_index, \n",
    "                                        transition.reward, \n",
    "                                        None if transition.is_state_terminal else transition.next_state.to_tensor(),\n",
    "                                        f'{transition.episode}-{transition.step}')\n",
    "\n",
    "        \n",
    "    def compute_pending_rewards(self) -> SimulationTransition:\n",
    "#         self.fem_simulator.wait(print_stats=False, progress_bar=False)\n",
    "\n",
    "#         while len(self.pending_transitions) > 0:\n",
    "#             transition: SimulationTransition = self.pending_transitions.pop(0)\n",
    "\n",
    "#             transition.state_sim = self.fem_simulator.get_result(transition.state_id)\n",
    "#             transition.next_state_sim = self.fem_simulator.get_result(transition.next_state_id)\n",
    "            \n",
    "#             self.compute_reward(transition)\n",
    "\n",
    "        \n",
    "#             # Skip all remaining transition beyond terminal state\n",
    "#             if transition.is_state_terminal:\n",
    "#                 return transition\n",
    "#         return transition\n",
    "        for transition in tqdm(self.pending_transitions):\n",
    "            terminal_transition = transition\n",
    "            \n",
    "            transition.state_sim = self.fem_simulator.wait_for_task(transition.state_id)\n",
    "            transition.next_state_sim = self.fem_simulator.wait_for_task(transition.next_state_id)\n",
    "        \n",
    "            self.compute_reward(transition)\n",
    "            \n",
    "            if transition.is_state_terminal:\n",
    "                self.terminal_reached = True\n",
    "                break\n",
    "                \n",
    "        self.pending_transitions.clear()\n",
    "        return transition\n",
    "        \n",
    "    def optimize(self) -> None:\n",
    "        if len(self.experience_replay) < self.replay_batch_size: return\n",
    "\n",
    "        for i in range(self.optimization_iterations):\n",
    "            samples = self.experience_replay.sample(self.replay_batch_size)\n",
    "            batch = ReplayTransition(*zip(*samples))\n",
    "            \n",
    "            if DEBUG.optimizer_sample_log:\n",
    "                filename = f'logs/sampled_transition-{self.total_steps + i / self.optimization_iterations}.log'\n",
    "                with open(filename, 'w') as fp:\n",
    "                    pprint(samples, stream=fp)\n",
    "                exp['sampled_transition'].upload_files(filename)\n",
    "\n",
    "            non_final_mask = torch.tensor(tuple(map(lambda s: s is not None,\n",
    "                                                      batch.next_state)), device=cuda, dtype=torch.bool)\n",
    "            # If none of the transition has a valid next_step, skip the round\n",
    "            if not non_final_mask.any():\n",
    "                return\n",
    "            non_final_next_states = torch.stack([s.flatten() for s in batch.next_state\n",
    "                                                            if s is not None])\n",
    "\n",
    "            state_batch = torch.stack([s.flatten() for s in batch.state])\n",
    "            action_batch = torch.tensor(batch.action_index, device=cuda).unsqueeze(1)\n",
    "            reward_batch = torch.tensor(batch.reward, device=cuda)\n",
    "\n",
    "            state_action_values = self.policy_network(state_batch).gather(1, action_batch)\n",
    "\n",
    "            next_state_values = torch.zeros(self.replay_batch_size, device=cuda)\n",
    "            next_state_values[non_final_mask] = self.target_network(non_final_next_states).max(1)[0].detach()\n",
    "\n",
    "            expected_state_action_values = (next_state_values * self.discount_factor) + reward_batch\n",
    "\n",
    "            loss = self.policy_network.loss_func(state_action_values, expected_state_action_values.unsqueeze(1))\n",
    "            optimization_loss = float(loss)\n",
    "            self.policy_network.optimizer.zero_grad()\n",
    "            loss.backward()\n",
    "            for param in self.policy_network.network.parameters():\n",
    "                param.grad.data.clamp_(-1, 1)\n",
    "            self.policy_network.optimizer.step()\n",
    "            \n",
    "            exp['optimization_loss'].append(optimization_loss, step=self.total_steps + i / self.optimization_iterations)\n",
    "        \n",
    "    def update_target_network(self) -> None:\n",
    "        self.target_network.network.load_state_dict(self.policy_network.network.state_dict())\n",
    "        \n",
    "    def train(self, episodes: int) -> None:\n",
    "        for episode in range(episodes):\n",
    "            print('')\n",
    "            print(f'Episode: {episode}')\n",
    "            self.episode = episode\n",
    "            \n",
    "            self.environment.reset()\n",
    "            \n",
    "            print('Stepping...')\n",
    "            for self.step_num in trange(self.max_step_per_episode):\n",
    "                self.step()\n",
    "\n",
    "                self.optimize()\n",
    "                \n",
    "                if self.total_steps % self.target_update_interval == 0:\n",
    "                    self.update_target_network()\n",
    "                    \n",
    "            exp['total_explored'].append(self.explored_step, step=self.episode)\n",
    "\n",
    "            print('Processing rewards...')\n",
    "            transition = self.compute_pending_rewards()\n",
    "            if transition.is_state_terminal: \n",
    "                print(f'Terminal state found in episode {transition.episode} step {transition.step}:')\n",
    "                print(transition.state)\n",
    "\n",
    "            exp['terminal_step'].append(transition.step, step=self.episode)\n",
    "            \n",
    "            if transition.step < self.convergence_step:\n",
    "                self.convergence_step = transition.step\n",
    "                self.convergence_episode = transition.episode\n",
    "            elif transition.step > self.convergence_step:\n",
    "                self.convergence_step = 100000\n",
    "                self.convergence_episode = 0                \n",
    "            \n",
    "            self.fem_simulator.clear_tasks()\n",
    "\n",
    "            if DEBUG.result_generation:\n",
    "                generated_result = self.generate()\n",
    "                \n",
    "                exp['generated_result'].append(str(generated_result), step=self.episode)\n",
    "                \n",
    "                if DEBUG.result_visualization:\n",
    "                    print('Visualizing result...')\n",
    "                    log_vis_sim(generated_result.state_sim['output']['temperature_distribution'][2], 'generated_state_vis', \n",
    "                                append=True, step=self.episode, vrange=(293.15, 353.15))\n",
    "                \n",
    "            if DEBUG.transition_log:\n",
    "                log_file = f'logs/transition-{self.episode}.log'\n",
    "                with open(log_file, 'w') as fp:\n",
    "                    fp.write(DEBUG.transition_log_buffer)\n",
    "                DEBUG.transition_log_buffer = ''\n",
    "                exp['transition_log'].upload_files(log_file)\n",
    "                \n",
    "                log_file = f'logs/transition-gen-{self.episode}.log'\n",
    "                with open(log_file, 'w') as fp:\n",
    "                    fp.write(DEBUG.transition_log_buffer_gen)\n",
    "                DEBUG.transition_log_buffer_gen = ''\n",
    "                exp['transition_log'].upload_files(log_file)\n",
    "\n",
    "            \n",
    "            if DEBUG.trace_memory:\n",
    "                snapshot = tracemalloc.take_snapshot()\n",
    "                with open(f'logs/mem{self.episode}.log', 'w') as fp:\n",
    "                    for line in snapshot.statistics('lineno')[:30]:\n",
    "                        print(line, file=fp)\n",
    "            \n",
    "        \n",
    "    def generate(self) -> State:\n",
    "        self.generation_mode = True\n",
    "        if DEBUG:\n",
    "            DEBUG.in_generation_mode=True\n",
    "            \n",
    "        print('Generating...')\n",
    "            \n",
    "        self.environment.reset()\n",
    "            \n",
    "        for self.step_num in trange(self.max_step_per_episode):\n",
    "            self.step()\n",
    "\n",
    "            \n",
    "        print('Evaluating states...')\n",
    "        transition = self.compute_pending_rewards()\n",
    "        if transition.is_state_terminal: \n",
    "            print(f'Terminal state reached in step {transition.step}:')\n",
    "            print(transition.state)\n",
    "            \n",
    "        exp['terminal_step_gen'].append(transition.step, step=self.episode)\n",
    "        \n",
    "        if transition.step < self.convergence_step_gen:\n",
    "            self.convergence_step_gen = transition.step\n",
    "            self.convergence_episode_gen = transition.episode\n",
    "        elif transition.step > self.convergence_step:\n",
    "            self.convergence_step_gen = 100000\n",
    "            self.convergence_episode_gen = 0         \n",
    "        \n",
    "        self.generation_mode = False\n",
    "        if DEBUG:\n",
    "            DEBUG.in_generation_mode=False\n",
    "        return transition\n",
    "        "
   ]
  },
  {
   "cell_type": "markdown",
   "metadata": {},
   "source": [
    "## Training"
   ]
  },
  {
   "cell_type": "code",
   "execution_count": null,
   "metadata": {
    "scrolled": true,
    "tags": []
   },
   "outputs": [
    {
     "name": "stdout",
     "output_type": "stream",
     "text": [
      "https://app.neptune.ai/pil-clemson/metamtl-rl/e/METAMTLRL-370\n",
      "Remember to stop your run once you’ve finished logging your metadata (https://docs.neptune.ai/api/run#stop). It will be stopped automatically only when the notebook kernel/interactive console is terminated.\n",
      "/home/nwen/metamaterial-rl/elmer_task/elmer_script.py\n",
      "/home/nwen/metamaterial-rl/elmer_task/data\n",
      "Establishing working directory structure...\n",
      "Working directory structure established\n",
      "Copying script files...\n",
      "Copying /home/nwen/metamaterial-rl/elmer_task/elmer_script.py\n"
     ]
    },
    {
     "name": "stderr",
     "output_type": "stream",
     "text": [
      "/local_scratch/pbs.221420.pbs02/ipykernel_1145868/4075230415.py:14: NeptuneDeprecationWarning: The object you're logging will be implicitly cast to a string. We'll end support of this behavior in `neptune-client==1.0.0`. To log the object as a string, use `str(object)` or `repr(object)` instead. For details, see https://docs.neptune.ai/setup/neptune-client_1-0_release_changes\n",
      "  exp['EnvConfig'] = stringify_unsupported(environment_configuration)\n"
     ]
    },
    {
     "name": "stdout",
     "output_type": "stream",
     "text": [
      "/home/nwen/metamaterial-rl/elmer_task/elmer_script.py copied\n",
      "Copying data files...\n",
      "Copying /home/nwen/metamaterial-rl/elmer_task/data\n",
      "/home/nwen/metamaterial-rl/elmer_task/data copied\n",
      "Entry script set to /scratch1/nwen/simhub/workspaces/scripts/elmer_script.py\n",
      "\n",
      "Episode: 0\n",
      "Stepping...\n"
     ]
    },
    {
     "data": {
      "application/json": {
       "ascii": false,
       "bar_format": null,
       "colour": null,
       "elapsed": 0.013057708740234375,
       "initial": 0,
       "n": 0,
       "ncols": null,
       "nrows": null,
       "postfix": null,
       "prefix": "",
       "rate": null,
       "total": 1000,
       "unit": "it",
       "unit_divisor": 1000,
       "unit_scale": false
      },
      "application/vnd.jupyter.widget-view+json": {
       "model_id": "b6f129743b864598b313a194a643d2f4",
       "version_major": 2,
       "version_minor": 0
      },
      "text/plain": [
       "  0%|          | 0/1000 [00:00<?, ?it/s]"
      ]
     },
     "metadata": {},
     "output_type": "display_data"
    },
    {
     "name": "stdout",
     "output_type": "stream",
     "text": [
      "Processing rewards...\n"
     ]
    },
    {
     "data": {
      "application/json": {
       "ascii": false,
       "bar_format": null,
       "colour": null,
       "elapsed": 0.012299776077270508,
       "initial": 0,
       "n": 0,
       "ncols": null,
       "nrows": null,
       "postfix": null,
       "prefix": "",
       "rate": null,
       "total": 1000,
       "unit": "it",
       "unit_divisor": 1000,
       "unit_scale": false
      },
      "application/vnd.jupyter.widget-view+json": {
       "model_id": "e00f124c8dc94398a205378c0eca7d78",
       "version_major": 2,
       "version_minor": 0
      },
      "text/plain": [
       "  0%|          | 0/1000 [00:00<?, ?it/s]"
      ]
     },
     "metadata": {},
     "output_type": "display_data"
    },
    {
     "name": "stdout",
     "output_type": "stream",
     "text": [
      "Generating...\n"
     ]
    },
    {
     "data": {
      "application/json": {
       "ascii": false,
       "bar_format": null,
       "colour": null,
       "elapsed": 0.012662172317504883,
       "initial": 0,
       "n": 0,
       "ncols": null,
       "nrows": null,
       "postfix": null,
       "prefix": "",
       "rate": null,
       "total": 1000,
       "unit": "it",
       "unit_divisor": 1000,
       "unit_scale": false
      },
      "application/vnd.jupyter.widget-view+json": {
       "model_id": "d77de3722bd34abaa14bd612292f3242",
       "version_major": 2,
       "version_minor": 0
      },
      "text/plain": [
       "  0%|          | 0/1000 [00:00<?, ?it/s]"
      ]
     },
     "metadata": {},
     "output_type": "display_data"
    },
    {
     "name": "stdout",
     "output_type": "stream",
     "text": [
      "Evaluating states...\n"
     ]
    },
    {
     "data": {
      "application/json": {
       "ascii": false,
       "bar_format": null,
       "colour": null,
       "elapsed": 0.01221466064453125,
       "initial": 0,
       "n": 0,
       "ncols": null,
       "nrows": null,
       "postfix": null,
       "prefix": "",
       "rate": null,
       "total": 1000,
       "unit": "it",
       "unit_divisor": 1000,
       "unit_scale": false
      },
      "application/vnd.jupyter.widget-view+json": {
       "model_id": "f029fa767fa248fbb84e47276f3ccfec",
       "version_major": 2,
       "version_minor": 0
      },
      "text/plain": [
       "  0%|          | 0/1000 [00:00<?, ?it/s]"
      ]
     },
     "metadata": {},
     "output_type": "display_data"
    },
    {
     "name": "stdout",
     "output_type": "stream",
     "text": [
      "\n",
      "Episode: 1\n",
      "Stepping...\n"
     ]
    },
    {
     "data": {
      "application/json": {
       "ascii": false,
       "bar_format": null,
       "colour": null,
       "elapsed": 0.012245893478393555,
       "initial": 0,
       "n": 0,
       "ncols": null,
       "nrows": null,
       "postfix": null,
       "prefix": "",
       "rate": null,
       "total": 1000,
       "unit": "it",
       "unit_divisor": 1000,
       "unit_scale": false
      },
      "application/vnd.jupyter.widget-view+json": {
       "model_id": "4b18efb6b9bc444ca1c125a2afa3204d",
       "version_major": 2,
       "version_minor": 0
      },
      "text/plain": [
       "  0%|          | 0/1000 [00:00<?, ?it/s]"
      ]
     },
     "metadata": {},
     "output_type": "display_data"
    },
    {
     "name": "stdout",
     "output_type": "stream",
     "text": [
      "Processing rewards...\n"
     ]
    },
    {
     "data": {
      "application/json": {
       "ascii": false,
       "bar_format": null,
       "colour": null,
       "elapsed": 0.01642775535583496,
       "initial": 0,
       "n": 0,
       "ncols": null,
       "nrows": null,
       "postfix": null,
       "prefix": "",
       "rate": null,
       "total": 1000,
       "unit": "it",
       "unit_divisor": 1000,
       "unit_scale": false
      },
      "application/vnd.jupyter.widget-view+json": {
       "model_id": "a48fb457c27843469639d9271efafa3d",
       "version_major": 2,
       "version_minor": 0
      },
      "text/plain": [
       "  0%|          | 0/1000 [00:00<?, ?it/s]"
      ]
     },
     "metadata": {},
     "output_type": "display_data"
    },
    {
     "name": "stdout",
     "output_type": "stream",
     "text": [
      "Generating...\n"
     ]
    },
    {
     "data": {
      "application/json": {
       "ascii": false,
       "bar_format": null,
       "colour": null,
       "elapsed": 0.011268854141235352,
       "initial": 0,
       "n": 0,
       "ncols": null,
       "nrows": null,
       "postfix": null,
       "prefix": "",
       "rate": null,
       "total": 1000,
       "unit": "it",
       "unit_divisor": 1000,
       "unit_scale": false
      },
      "application/vnd.jupyter.widget-view+json": {
       "model_id": "c7338efcb8ea4009ad79f0330b3ba63d",
       "version_major": 2,
       "version_minor": 0
      },
      "text/plain": [
       "  0%|          | 0/1000 [00:00<?, ?it/s]"
      ]
     },
     "metadata": {},
     "output_type": "display_data"
    },
    {
     "name": "stdout",
     "output_type": "stream",
     "text": [
      "Evaluating states...\n"
     ]
    },
    {
     "data": {
      "application/json": {
       "ascii": false,
       "bar_format": null,
       "colour": null,
       "elapsed": 0.011248588562011719,
       "initial": 0,
       "n": 0,
       "ncols": null,
       "nrows": null,
       "postfix": null,
       "prefix": "",
       "rate": null,
       "total": 1000,
       "unit": "it",
       "unit_divisor": 1000,
       "unit_scale": false
      },
      "application/vnd.jupyter.widget-view+json": {
       "model_id": "f23c39ce8ad2416a9f4db678ea22ac4c",
       "version_major": 2,
       "version_minor": 0
      },
      "text/plain": [
       "  0%|          | 0/1000 [00:00<?, ?it/s]"
      ]
     },
     "metadata": {},
     "output_type": "display_data"
    },
    {
     "name": "stdout",
     "output_type": "stream",
     "text": [
      "\n",
      "Episode: 2\n",
      "Stepping...\n"
     ]
    },
    {
     "data": {
      "application/json": {
       "ascii": false,
       "bar_format": null,
       "colour": null,
       "elapsed": 0.011202573776245117,
       "initial": 0,
       "n": 0,
       "ncols": null,
       "nrows": null,
       "postfix": null,
       "prefix": "",
       "rate": null,
       "total": 1000,
       "unit": "it",
       "unit_divisor": 1000,
       "unit_scale": false
      },
      "application/vnd.jupyter.widget-view+json": {
       "model_id": "d8e2435f700746f7b4dfc210d6b4f38d",
       "version_major": 2,
       "version_minor": 0
      },
      "text/plain": [
       "  0%|          | 0/1000 [00:00<?, ?it/s]"
      ]
     },
     "metadata": {},
     "output_type": "display_data"
    },
    {
     "name": "stdout",
     "output_type": "stream",
     "text": [
      "Processing rewards...\n"
     ]
    },
    {
     "data": {
      "application/json": {
       "ascii": false,
       "bar_format": null,
       "colour": null,
       "elapsed": 0.024518489837646484,
       "initial": 0,
       "n": 0,
       "ncols": null,
       "nrows": null,
       "postfix": null,
       "prefix": "",
       "rate": null,
       "total": 1000,
       "unit": "it",
       "unit_divisor": 1000,
       "unit_scale": false
      },
      "application/vnd.jupyter.widget-view+json": {
       "model_id": "3b692d7a1ce94e32a7b7eb43d84896a0",
       "version_major": 2,
       "version_minor": 0
      },
      "text/plain": [
       "  0%|          | 0/1000 [00:00<?, ?it/s]"
      ]
     },
     "metadata": {},
     "output_type": "display_data"
    },
    {
     "name": "stdout",
     "output_type": "stream",
     "text": [
      "Generating...\n"
     ]
    },
    {
     "data": {
      "application/json": {
       "ascii": false,
       "bar_format": null,
       "colour": null,
       "elapsed": 0.010816335678100586,
       "initial": 0,
       "n": 0,
       "ncols": null,
       "nrows": null,
       "postfix": null,
       "prefix": "",
       "rate": null,
       "total": 1000,
       "unit": "it",
       "unit_divisor": 1000,
       "unit_scale": false
      },
      "application/vnd.jupyter.widget-view+json": {
       "model_id": "cf719df6881348b09e08b7ceb4363a3b",
       "version_major": 2,
       "version_minor": 0
      },
      "text/plain": [
       "  0%|          | 0/1000 [00:00<?, ?it/s]"
      ]
     },
     "metadata": {},
     "output_type": "display_data"
    },
    {
     "name": "stdout",
     "output_type": "stream",
     "text": [
      "Evaluating states...\n"
     ]
    },
    {
     "data": {
      "application/json": {
       "ascii": false,
       "bar_format": null,
       "colour": null,
       "elapsed": 0.011436939239501953,
       "initial": 0,
       "n": 0,
       "ncols": null,
       "nrows": null,
       "postfix": null,
       "prefix": "",
       "rate": null,
       "total": 1000,
       "unit": "it",
       "unit_divisor": 1000,
       "unit_scale": false
      },
      "application/vnd.jupyter.widget-view+json": {
       "model_id": "998d0f4087864f8f9e116847c8b68fa0",
       "version_major": 2,
       "version_minor": 0
      },
      "text/plain": [
       "  0%|          | 0/1000 [00:00<?, ?it/s]"
      ]
     },
     "metadata": {},
     "output_type": "display_data"
    },
    {
     "name": "stdout",
     "output_type": "stream",
     "text": [
      "\n",
      "Episode: 3\n",
      "Stepping...\n"
     ]
    },
    {
     "data": {
      "application/json": {
       "ascii": false,
       "bar_format": null,
       "colour": null,
       "elapsed": 0.010978221893310547,
       "initial": 0,
       "n": 0,
       "ncols": null,
       "nrows": null,
       "postfix": null,
       "prefix": "",
       "rate": null,
       "total": 1000,
       "unit": "it",
       "unit_divisor": 1000,
       "unit_scale": false
      },
      "application/vnd.jupyter.widget-view+json": {
       "model_id": "0dffcadf26854c12953b135a6bc78fab",
       "version_major": 2,
       "version_minor": 0
      },
      "text/plain": [
       "  0%|          | 0/1000 [00:00<?, ?it/s]"
      ]
     },
     "metadata": {},
     "output_type": "display_data"
    },
    {
     "name": "stdout",
     "output_type": "stream",
     "text": [
      "Processing rewards...\n"
     ]
    },
    {
     "data": {
      "application/json": {
       "ascii": false,
       "bar_format": null,
       "colour": null,
       "elapsed": 0.01549530029296875,
       "initial": 0,
       "n": 0,
       "ncols": null,
       "nrows": null,
       "postfix": null,
       "prefix": "",
       "rate": null,
       "total": 1000,
       "unit": "it",
       "unit_divisor": 1000,
       "unit_scale": false
      },
      "application/vnd.jupyter.widget-view+json": {
       "model_id": "a0a1d519d03d4553949c14470ac4dc8c",
       "version_major": 2,
       "version_minor": 0
      },
      "text/plain": [
       "  0%|          | 0/1000 [00:00<?, ?it/s]"
      ]
     },
     "metadata": {},
     "output_type": "display_data"
    },
    {
     "name": "stdout",
     "output_type": "stream",
     "text": [
      "Generating...\n"
     ]
    },
    {
     "data": {
      "application/json": {
       "ascii": false,
       "bar_format": null,
       "colour": null,
       "elapsed": 0.013127803802490234,
       "initial": 0,
       "n": 0,
       "ncols": null,
       "nrows": null,
       "postfix": null,
       "prefix": "",
       "rate": null,
       "total": 1000,
       "unit": "it",
       "unit_divisor": 1000,
       "unit_scale": false
      },
      "application/vnd.jupyter.widget-view+json": {
       "model_id": "21a978797bb14e478d048bbefd890c55",
       "version_major": 2,
       "version_minor": 0
      },
      "text/plain": [
       "  0%|          | 0/1000 [00:00<?, ?it/s]"
      ]
     },
     "metadata": {},
     "output_type": "display_data"
    },
    {
     "name": "stdout",
     "output_type": "stream",
     "text": [
      "Evaluating states...\n"
     ]
    },
    {
     "data": {
      "application/json": {
       "ascii": false,
       "bar_format": null,
       "colour": null,
       "elapsed": 0.012002706527709961,
       "initial": 0,
       "n": 0,
       "ncols": null,
       "nrows": null,
       "postfix": null,
       "prefix": "",
       "rate": null,
       "total": 1000,
       "unit": "it",
       "unit_divisor": 1000,
       "unit_scale": false
      },
      "application/vnd.jupyter.widget-view+json": {
       "model_id": "7fd730eca4734309857b9275e722a6b8",
       "version_major": 2,
       "version_minor": 0
      },
      "text/plain": [
       "  0%|          | 0/1000 [00:00<?, ?it/s]"
      ]
     },
     "metadata": {},
     "output_type": "display_data"
    },
    {
     "name": "stdout",
     "output_type": "stream",
     "text": [
      "\n",
      "Episode: 4\n",
      "Stepping...\n"
     ]
    },
    {
     "data": {
      "application/json": {
       "ascii": false,
       "bar_format": null,
       "colour": null,
       "elapsed": 0.011274099349975586,
       "initial": 0,
       "n": 0,
       "ncols": null,
       "nrows": null,
       "postfix": null,
       "prefix": "",
       "rate": null,
       "total": 1000,
       "unit": "it",
       "unit_divisor": 1000,
       "unit_scale": false
      },
      "application/vnd.jupyter.widget-view+json": {
       "model_id": "7ed73102e6df46ac8048b92e89b099ca",
       "version_major": 2,
       "version_minor": 0
      },
      "text/plain": [
       "  0%|          | 0/1000 [00:00<?, ?it/s]"
      ]
     },
     "metadata": {},
     "output_type": "display_data"
    },
    {
     "name": "stdout",
     "output_type": "stream",
     "text": [
      "Processing rewards...\n"
     ]
    },
    {
     "data": {
      "application/json": {
       "ascii": false,
       "bar_format": null,
       "colour": null,
       "elapsed": 0.019814729690551758,
       "initial": 0,
       "n": 0,
       "ncols": null,
       "nrows": null,
       "postfix": null,
       "prefix": "",
       "rate": null,
       "total": 1000,
       "unit": "it",
       "unit_divisor": 1000,
       "unit_scale": false
      },
      "application/vnd.jupyter.widget-view+json": {
       "model_id": "cb7e732ab5ea41fea9cd78aaf64d1e46",
       "version_major": 2,
       "version_minor": 0
      },
      "text/plain": [
       "  0%|          | 0/1000 [00:00<?, ?it/s]"
      ]
     },
     "metadata": {},
     "output_type": "display_data"
    },
    {
     "name": "stdout",
     "output_type": "stream",
     "text": [
      "Generating...\n"
     ]
    },
    {
     "data": {
      "application/json": {
       "ascii": false,
       "bar_format": null,
       "colour": null,
       "elapsed": 0.011136770248413086,
       "initial": 0,
       "n": 0,
       "ncols": null,
       "nrows": null,
       "postfix": null,
       "prefix": "",
       "rate": null,
       "total": 1000,
       "unit": "it",
       "unit_divisor": 1000,
       "unit_scale": false
      },
      "application/vnd.jupyter.widget-view+json": {
       "model_id": "91b8d4265b8140be91f9d439d061bfc5",
       "version_major": 2,
       "version_minor": 0
      },
      "text/plain": [
       "  0%|          | 0/1000 [00:00<?, ?it/s]"
      ]
     },
     "metadata": {},
     "output_type": "display_data"
    },
    {
     "name": "stdout",
     "output_type": "stream",
     "text": [
      "Evaluating states...\n"
     ]
    },
    {
     "data": {
      "application/json": {
       "ascii": false,
       "bar_format": null,
       "colour": null,
       "elapsed": 0.011755228042602539,
       "initial": 0,
       "n": 0,
       "ncols": null,
       "nrows": null,
       "postfix": null,
       "prefix": "",
       "rate": null,
       "total": 1000,
       "unit": "it",
       "unit_divisor": 1000,
       "unit_scale": false
      },
      "application/vnd.jupyter.widget-view+json": {
       "model_id": "61e49c9ffa7243d082274019e7346e06",
       "version_major": 2,
       "version_minor": 0
      },
      "text/plain": [
       "  0%|          | 0/1000 [00:00<?, ?it/s]"
      ]
     },
     "metadata": {},
     "output_type": "display_data"
    },
    {
     "name": "stdout",
     "output_type": "stream",
     "text": [
      "\n",
      "Episode: 5\n",
      "Stepping...\n"
     ]
    },
    {
     "data": {
      "application/json": {
       "ascii": false,
       "bar_format": null,
       "colour": null,
       "elapsed": 0.010849475860595703,
       "initial": 0,
       "n": 0,
       "ncols": null,
       "nrows": null,
       "postfix": null,
       "prefix": "",
       "rate": null,
       "total": 1000,
       "unit": "it",
       "unit_divisor": 1000,
       "unit_scale": false
      },
      "application/vnd.jupyter.widget-view+json": {
       "model_id": "3d261cebbf454f8a8e447903c3a684ac",
       "version_major": 2,
       "version_minor": 0
      },
      "text/plain": [
       "  0%|          | 0/1000 [00:00<?, ?it/s]"
      ]
     },
     "metadata": {},
     "output_type": "display_data"
    },
    {
     "name": "stdout",
     "output_type": "stream",
     "text": [
      "Processing rewards...\n"
     ]
    },
    {
     "data": {
      "application/json": {
       "ascii": false,
       "bar_format": null,
       "colour": null,
       "elapsed": 0.019525527954101562,
       "initial": 0,
       "n": 0,
       "ncols": null,
       "nrows": null,
       "postfix": null,
       "prefix": "",
       "rate": null,
       "total": 1000,
       "unit": "it",
       "unit_divisor": 1000,
       "unit_scale": false
      },
      "application/vnd.jupyter.widget-view+json": {
       "model_id": "f1b6cf45556c470ab5bbfed35b7e5f24",
       "version_major": 2,
       "version_minor": 0
      },
      "text/plain": [
       "  0%|          | 0/1000 [00:00<?, ?it/s]"
      ]
     },
     "metadata": {},
     "output_type": "display_data"
    },
    {
     "name": "stdout",
     "output_type": "stream",
     "text": [
      "Generating...\n"
     ]
    },
    {
     "data": {
      "application/json": {
       "ascii": false,
       "bar_format": null,
       "colour": null,
       "elapsed": 0.011393308639526367,
       "initial": 0,
       "n": 0,
       "ncols": null,
       "nrows": null,
       "postfix": null,
       "prefix": "",
       "rate": null,
       "total": 1000,
       "unit": "it",
       "unit_divisor": 1000,
       "unit_scale": false
      },
      "application/vnd.jupyter.widget-view+json": {
       "model_id": "d02eda3ff34549b79f2c52e9f88d4c5c",
       "version_major": 2,
       "version_minor": 0
      },
      "text/plain": [
       "  0%|          | 0/1000 [00:00<?, ?it/s]"
      ]
     },
     "metadata": {},
     "output_type": "display_data"
    },
    {
     "name": "stdout",
     "output_type": "stream",
     "text": [
      "Evaluating states...\n"
     ]
    },
    {
     "data": {
      "application/json": {
       "ascii": false,
       "bar_format": null,
       "colour": null,
       "elapsed": 0.011300086975097656,
       "initial": 0,
       "n": 0,
       "ncols": null,
       "nrows": null,
       "postfix": null,
       "prefix": "",
       "rate": null,
       "total": 1000,
       "unit": "it",
       "unit_divisor": 1000,
       "unit_scale": false
      },
      "application/vnd.jupyter.widget-view+json": {
       "model_id": "ff1bbfb245094fc697152fd8ba09d7ac",
       "version_major": 2,
       "version_minor": 0
      },
      "text/plain": [
       "  0%|          | 0/1000 [00:00<?, ?it/s]"
      ]
     },
     "metadata": {},
     "output_type": "display_data"
    },
    {
     "name": "stdout",
     "output_type": "stream",
     "text": [
      "\n",
      "Episode: 6\n",
      "Stepping...\n"
     ]
    },
    {
     "data": {
      "application/json": {
       "ascii": false,
       "bar_format": null,
       "colour": null,
       "elapsed": 0.01110696792602539,
       "initial": 0,
       "n": 0,
       "ncols": null,
       "nrows": null,
       "postfix": null,
       "prefix": "",
       "rate": null,
       "total": 1000,
       "unit": "it",
       "unit_divisor": 1000,
       "unit_scale": false
      },
      "application/vnd.jupyter.widget-view+json": {
       "model_id": "025cdcacbeab42cc91f8835776a369c0",
       "version_major": 2,
       "version_minor": 0
      },
      "text/plain": [
       "  0%|          | 0/1000 [00:00<?, ?it/s]"
      ]
     },
     "metadata": {},
     "output_type": "display_data"
    },
    {
     "name": "stdout",
     "output_type": "stream",
     "text": [
      "Processing rewards...\n"
     ]
    },
    {
     "data": {
      "application/json": {
       "ascii": false,
       "bar_format": null,
       "colour": null,
       "elapsed": 0.01492166519165039,
       "initial": 0,
       "n": 0,
       "ncols": null,
       "nrows": null,
       "postfix": null,
       "prefix": "",
       "rate": null,
       "total": 1000,
       "unit": "it",
       "unit_divisor": 1000,
       "unit_scale": false
      },
      "application/vnd.jupyter.widget-view+json": {
       "model_id": "265e7a2c0a9c410b9d06e74fabebe40f",
       "version_major": 2,
       "version_minor": 0
      },
      "text/plain": [
       "  0%|          | 0/1000 [00:00<?, ?it/s]"
      ]
     },
     "metadata": {},
     "output_type": "display_data"
    },
    {
     "name": "stdout",
     "output_type": "stream",
     "text": [
      "Generating...\n"
     ]
    },
    {
     "data": {
      "application/json": {
       "ascii": false,
       "bar_format": null,
       "colour": null,
       "elapsed": 0.011240959167480469,
       "initial": 0,
       "n": 0,
       "ncols": null,
       "nrows": null,
       "postfix": null,
       "prefix": "",
       "rate": null,
       "total": 1000,
       "unit": "it",
       "unit_divisor": 1000,
       "unit_scale": false
      },
      "application/vnd.jupyter.widget-view+json": {
       "model_id": "944ed63bb1c049bea8c1703170db3bb1",
       "version_major": 2,
       "version_minor": 0
      },
      "text/plain": [
       "  0%|          | 0/1000 [00:00<?, ?it/s]"
      ]
     },
     "metadata": {},
     "output_type": "display_data"
    },
    {
     "name": "stdout",
     "output_type": "stream",
     "text": [
      "Evaluating states...\n"
     ]
    },
    {
     "data": {
      "application/json": {
       "ascii": false,
       "bar_format": null,
       "colour": null,
       "elapsed": 0.011105060577392578,
       "initial": 0,
       "n": 0,
       "ncols": null,
       "nrows": null,
       "postfix": null,
       "prefix": "",
       "rate": null,
       "total": 1000,
       "unit": "it",
       "unit_divisor": 1000,
       "unit_scale": false
      },
      "application/vnd.jupyter.widget-view+json": {
       "model_id": "2b11775aeef1403b9b6ef8f223d92071",
       "version_major": 2,
       "version_minor": 0
      },
      "text/plain": [
       "  0%|          | 0/1000 [00:00<?, ?it/s]"
      ]
     },
     "metadata": {},
     "output_type": "display_data"
    },
    {
     "name": "stdout",
     "output_type": "stream",
     "text": [
      "\n",
      "Episode: 7\n",
      "Stepping...\n"
     ]
    },
    {
     "data": {
      "application/json": {
       "ascii": false,
       "bar_format": null,
       "colour": null,
       "elapsed": 0.011221647262573242,
       "initial": 0,
       "n": 0,
       "ncols": null,
       "nrows": null,
       "postfix": null,
       "prefix": "",
       "rate": null,
       "total": 1000,
       "unit": "it",
       "unit_divisor": 1000,
       "unit_scale": false
      },
      "application/vnd.jupyter.widget-view+json": {
       "model_id": "f78e04fe27a94b869a0824fe500f1535",
       "version_major": 2,
       "version_minor": 0
      },
      "text/plain": [
       "  0%|          | 0/1000 [00:00<?, ?it/s]"
      ]
     },
     "metadata": {},
     "output_type": "display_data"
    },
    {
     "name": "stdout",
     "output_type": "stream",
     "text": [
      "Processing rewards...\n"
     ]
    },
    {
     "data": {
      "application/json": {
       "ascii": false,
       "bar_format": null,
       "colour": null,
       "elapsed": 0.0144805908203125,
       "initial": 0,
       "n": 0,
       "ncols": null,
       "nrows": null,
       "postfix": null,
       "prefix": "",
       "rate": null,
       "total": 1000,
       "unit": "it",
       "unit_divisor": 1000,
       "unit_scale": false
      },
      "application/vnd.jupyter.widget-view+json": {
       "model_id": "8ee4d11d7e7d429fa03f0454e37f5bc1",
       "version_major": 2,
       "version_minor": 0
      },
      "text/plain": [
       "  0%|          | 0/1000 [00:00<?, ?it/s]"
      ]
     },
     "metadata": {},
     "output_type": "display_data"
    },
    {
     "name": "stdout",
     "output_type": "stream",
     "text": [
      "Generating...\n"
     ]
    },
    {
     "data": {
      "application/json": {
       "ascii": false,
       "bar_format": null,
       "colour": null,
       "elapsed": 0.011081695556640625,
       "initial": 0,
       "n": 0,
       "ncols": null,
       "nrows": null,
       "postfix": null,
       "prefix": "",
       "rate": null,
       "total": 1000,
       "unit": "it",
       "unit_divisor": 1000,
       "unit_scale": false
      },
      "application/vnd.jupyter.widget-view+json": {
       "model_id": "8f25101e0e214cf7a2eb6514eea72a6f",
       "version_major": 2,
       "version_minor": 0
      },
      "text/plain": [
       "  0%|          | 0/1000 [00:00<?, ?it/s]"
      ]
     },
     "metadata": {},
     "output_type": "display_data"
    },
    {
     "name": "stdout",
     "output_type": "stream",
     "text": [
      "Evaluating states...\n"
     ]
    },
    {
     "data": {
      "application/json": {
       "ascii": false,
       "bar_format": null,
       "colour": null,
       "elapsed": 0.011015176773071289,
       "initial": 0,
       "n": 0,
       "ncols": null,
       "nrows": null,
       "postfix": null,
       "prefix": "",
       "rate": null,
       "total": 1000,
       "unit": "it",
       "unit_divisor": 1000,
       "unit_scale": false
      },
      "application/vnd.jupyter.widget-view+json": {
       "model_id": "1d220a68471c4fc882047ba32e33b27e",
       "version_major": 2,
       "version_minor": 0
      },
      "text/plain": [
       "  0%|          | 0/1000 [00:00<?, ?it/s]"
      ]
     },
     "metadata": {},
     "output_type": "display_data"
    },
    {
     "name": "stdout",
     "output_type": "stream",
     "text": [
      "\n",
      "Episode: 8\n",
      "Stepping...\n"
     ]
    },
    {
     "data": {
      "application/json": {
       "ascii": false,
       "bar_format": null,
       "colour": null,
       "elapsed": 0.01093745231628418,
       "initial": 0,
       "n": 0,
       "ncols": null,
       "nrows": null,
       "postfix": null,
       "prefix": "",
       "rate": null,
       "total": 1000,
       "unit": "it",
       "unit_divisor": 1000,
       "unit_scale": false
      },
      "application/vnd.jupyter.widget-view+json": {
       "model_id": "505ac23941cf4c50b484d3af644dc95b",
       "version_major": 2,
       "version_minor": 0
      },
      "text/plain": [
       "  0%|          | 0/1000 [00:00<?, ?it/s]"
      ]
     },
     "metadata": {},
     "output_type": "display_data"
    },
    {
     "name": "stdout",
     "output_type": "stream",
     "text": [
      "Processing rewards...\n"
     ]
    },
    {
     "data": {
      "application/json": {
       "ascii": false,
       "bar_format": null,
       "colour": null,
       "elapsed": 0.019868135452270508,
       "initial": 0,
       "n": 0,
       "ncols": null,
       "nrows": null,
       "postfix": null,
       "prefix": "",
       "rate": null,
       "total": 1000,
       "unit": "it",
       "unit_divisor": 1000,
       "unit_scale": false
      },
      "application/vnd.jupyter.widget-view+json": {
       "model_id": "a213629517774f4ca2bbe43b6f964070",
       "version_major": 2,
       "version_minor": 0
      },
      "text/plain": [
       "  0%|          | 0/1000 [00:00<?, ?it/s]"
      ]
     },
     "metadata": {},
     "output_type": "display_data"
    },
    {
     "name": "stdout",
     "output_type": "stream",
     "text": [
      "Generating...\n"
     ]
    },
    {
     "data": {
      "application/json": {
       "ascii": false,
       "bar_format": null,
       "colour": null,
       "elapsed": 0.010597467422485352,
       "initial": 0,
       "n": 0,
       "ncols": null,
       "nrows": null,
       "postfix": null,
       "prefix": "",
       "rate": null,
       "total": 1000,
       "unit": "it",
       "unit_divisor": 1000,
       "unit_scale": false
      },
      "application/vnd.jupyter.widget-view+json": {
       "model_id": "22473f7e9efb4ee488575c1f18ff1316",
       "version_major": 2,
       "version_minor": 0
      },
      "text/plain": [
       "  0%|          | 0/1000 [00:00<?, ?it/s]"
      ]
     },
     "metadata": {},
     "output_type": "display_data"
    },
    {
     "name": "stdout",
     "output_type": "stream",
     "text": [
      "Evaluating states...\n"
     ]
    },
    {
     "data": {
      "application/json": {
       "ascii": false,
       "bar_format": null,
       "colour": null,
       "elapsed": 0.011078357696533203,
       "initial": 0,
       "n": 0,
       "ncols": null,
       "nrows": null,
       "postfix": null,
       "prefix": "",
       "rate": null,
       "total": 1000,
       "unit": "it",
       "unit_divisor": 1000,
       "unit_scale": false
      },
      "application/vnd.jupyter.widget-view+json": {
       "model_id": "7f99c2dbe2dd4cffa583e6b09196bf19",
       "version_major": 2,
       "version_minor": 0
      },
      "text/plain": [
       "  0%|          | 0/1000 [00:00<?, ?it/s]"
      ]
     },
     "metadata": {},
     "output_type": "display_data"
    },
    {
     "name": "stdout",
     "output_type": "stream",
     "text": [
      "\n",
      "Episode: 9\n",
      "Stepping...\n"
     ]
    },
    {
     "data": {
      "application/json": {
       "ascii": false,
       "bar_format": null,
       "colour": null,
       "elapsed": 0.010547399520874023,
       "initial": 0,
       "n": 0,
       "ncols": null,
       "nrows": null,
       "postfix": null,
       "prefix": "",
       "rate": null,
       "total": 1000,
       "unit": "it",
       "unit_divisor": 1000,
       "unit_scale": false
      },
      "application/vnd.jupyter.widget-view+json": {
       "model_id": "ff138248e8014e91868a1bf1913b38f3",
       "version_major": 2,
       "version_minor": 0
      },
      "text/plain": [
       "  0%|          | 0/1000 [00:00<?, ?it/s]"
      ]
     },
     "metadata": {},
     "output_type": "display_data"
    },
    {
     "name": "stdout",
     "output_type": "stream",
     "text": [
      "Processing rewards...\n"
     ]
    },
    {
     "data": {
      "application/json": {
       "ascii": false,
       "bar_format": null,
       "colour": null,
       "elapsed": 0.014168262481689453,
       "initial": 0,
       "n": 0,
       "ncols": null,
       "nrows": null,
       "postfix": null,
       "prefix": "",
       "rate": null,
       "total": 1000,
       "unit": "it",
       "unit_divisor": 1000,
       "unit_scale": false
      },
      "application/vnd.jupyter.widget-view+json": {
       "model_id": "42127115138841d6a158d78e42c6eb91",
       "version_major": 2,
       "version_minor": 0
      },
      "text/plain": [
       "  0%|          | 0/1000 [00:00<?, ?it/s]"
      ]
     },
     "metadata": {},
     "output_type": "display_data"
    },
    {
     "name": "stdout",
     "output_type": "stream",
     "text": [
      "Generating...\n"
     ]
    },
    {
     "data": {
      "application/json": {
       "ascii": false,
       "bar_format": null,
       "colour": null,
       "elapsed": 0.010697364807128906,
       "initial": 0,
       "n": 0,
       "ncols": null,
       "nrows": null,
       "postfix": null,
       "prefix": "",
       "rate": null,
       "total": 1000,
       "unit": "it",
       "unit_divisor": 1000,
       "unit_scale": false
      },
      "application/vnd.jupyter.widget-view+json": {
       "model_id": "a7369f84d691469fbd4e4d5fe1114582",
       "version_major": 2,
       "version_minor": 0
      },
      "text/plain": [
       "  0%|          | 0/1000 [00:00<?, ?it/s]"
      ]
     },
     "metadata": {},
     "output_type": "display_data"
    },
    {
     "name": "stdout",
     "output_type": "stream",
     "text": [
      "Evaluating states...\n"
     ]
    },
    {
     "data": {
      "application/json": {
       "ascii": false,
       "bar_format": null,
       "colour": null,
       "elapsed": 0.011137008666992188,
       "initial": 0,
       "n": 0,
       "ncols": null,
       "nrows": null,
       "postfix": null,
       "prefix": "",
       "rate": null,
       "total": 1000,
       "unit": "it",
       "unit_divisor": 1000,
       "unit_scale": false
      },
      "application/vnd.jupyter.widget-view+json": {
       "model_id": "a5e934c797d24e25851e623573da9cc7",
       "version_major": 2,
       "version_minor": 0
      },
      "text/plain": [
       "  0%|          | 0/1000 [00:00<?, ?it/s]"
      ]
     },
     "metadata": {},
     "output_type": "display_data"
    },
    {
     "name": "stdout",
     "output_type": "stream",
     "text": [
      "\n",
      "Episode: 10\n",
      "Stepping...\n"
     ]
    },
    {
     "data": {
      "application/json": {
       "ascii": false,
       "bar_format": null,
       "colour": null,
       "elapsed": 0.01066899299621582,
       "initial": 0,
       "n": 0,
       "ncols": null,
       "nrows": null,
       "postfix": null,
       "prefix": "",
       "rate": null,
       "total": 1000,
       "unit": "it",
       "unit_divisor": 1000,
       "unit_scale": false
      },
      "application/vnd.jupyter.widget-view+json": {
       "model_id": "3f1b5d34f5ac4bf1a9a9095e0073de4e",
       "version_major": 2,
       "version_minor": 0
      },
      "text/plain": [
       "  0%|          | 0/1000 [00:00<?, ?it/s]"
      ]
     },
     "metadata": {},
     "output_type": "display_data"
    },
    {
     "name": "stdout",
     "output_type": "stream",
     "text": [
      "Processing rewards...\n"
     ]
    },
    {
     "data": {
      "application/json": {
       "ascii": false,
       "bar_format": null,
       "colour": null,
       "elapsed": 0.014230966567993164,
       "initial": 0,
       "n": 0,
       "ncols": null,
       "nrows": null,
       "postfix": null,
       "prefix": "",
       "rate": null,
       "total": 1000,
       "unit": "it",
       "unit_divisor": 1000,
       "unit_scale": false
      },
      "application/vnd.jupyter.widget-view+json": {
       "model_id": "afb7d0014b1049ea8fd7594d34628690",
       "version_major": 2,
       "version_minor": 0
      },
      "text/plain": [
       "  0%|          | 0/1000 [00:00<?, ?it/s]"
      ]
     },
     "metadata": {},
     "output_type": "display_data"
    },
    {
     "name": "stdout",
     "output_type": "stream",
     "text": [
      "Generating...\n"
     ]
    },
    {
     "data": {
      "application/json": {
       "ascii": false,
       "bar_format": null,
       "colour": null,
       "elapsed": 0.010998249053955078,
       "initial": 0,
       "n": 0,
       "ncols": null,
       "nrows": null,
       "postfix": null,
       "prefix": "",
       "rate": null,
       "total": 1000,
       "unit": "it",
       "unit_divisor": 1000,
       "unit_scale": false
      },
      "application/vnd.jupyter.widget-view+json": {
       "model_id": "30612f66176d48acbae742d17caf2412",
       "version_major": 2,
       "version_minor": 0
      },
      "text/plain": [
       "  0%|          | 0/1000 [00:00<?, ?it/s]"
      ]
     },
     "metadata": {},
     "output_type": "display_data"
    },
    {
     "name": "stdout",
     "output_type": "stream",
     "text": [
      "Evaluating states...\n"
     ]
    },
    {
     "data": {
      "application/json": {
       "ascii": false,
       "bar_format": null,
       "colour": null,
       "elapsed": 0.011318445205688477,
       "initial": 0,
       "n": 0,
       "ncols": null,
       "nrows": null,
       "postfix": null,
       "prefix": "",
       "rate": null,
       "total": 1000,
       "unit": "it",
       "unit_divisor": 1000,
       "unit_scale": false
      },
      "application/vnd.jupyter.widget-view+json": {
       "model_id": "a57cb763b1dd42e7a0930a92a32f95da",
       "version_major": 2,
       "version_minor": 0
      },
      "text/plain": [
       "  0%|          | 0/1000 [00:00<?, ?it/s]"
      ]
     },
     "metadata": {},
     "output_type": "display_data"
    },
    {
     "name": "stdout",
     "output_type": "stream",
     "text": [
      "\n",
      "Episode: 11\n",
      "Stepping...\n"
     ]
    },
    {
     "data": {
      "application/json": {
       "ascii": false,
       "bar_format": null,
       "colour": null,
       "elapsed": 0.010843515396118164,
       "initial": 0,
       "n": 0,
       "ncols": null,
       "nrows": null,
       "postfix": null,
       "prefix": "",
       "rate": null,
       "total": 1000,
       "unit": "it",
       "unit_divisor": 1000,
       "unit_scale": false
      },
      "application/vnd.jupyter.widget-view+json": {
       "model_id": "a64fd44e6e404e97afa38181fd2ea019",
       "version_major": 2,
       "version_minor": 0
      },
      "text/plain": [
       "  0%|          | 0/1000 [00:00<?, ?it/s]"
      ]
     },
     "metadata": {},
     "output_type": "display_data"
    },
    {
     "name": "stdout",
     "output_type": "stream",
     "text": [
      "Processing rewards...\n"
     ]
    },
    {
     "data": {
      "application/json": {
       "ascii": false,
       "bar_format": null,
       "colour": null,
       "elapsed": 0.014475345611572266,
       "initial": 0,
       "n": 0,
       "ncols": null,
       "nrows": null,
       "postfix": null,
       "prefix": "",
       "rate": null,
       "total": 1000,
       "unit": "it",
       "unit_divisor": 1000,
       "unit_scale": false
      },
      "application/vnd.jupyter.widget-view+json": {
       "model_id": "bbbbf3980adf4146bc91215dc10cbd56",
       "version_major": 2,
       "version_minor": 0
      },
      "text/plain": [
       "  0%|          | 0/1000 [00:00<?, ?it/s]"
      ]
     },
     "metadata": {},
     "output_type": "display_data"
    },
    {
     "name": "stdout",
     "output_type": "stream",
     "text": [
      "Generating...\n"
     ]
    },
    {
     "data": {
      "application/json": {
       "ascii": false,
       "bar_format": null,
       "colour": null,
       "elapsed": 0.010639429092407227,
       "initial": 0,
       "n": 0,
       "ncols": null,
       "nrows": null,
       "postfix": null,
       "prefix": "",
       "rate": null,
       "total": 1000,
       "unit": "it",
       "unit_divisor": 1000,
       "unit_scale": false
      },
      "application/vnd.jupyter.widget-view+json": {
       "model_id": "a0326bd6bda1488b9f64d53d87fe7086",
       "version_major": 2,
       "version_minor": 0
      },
      "text/plain": [
       "  0%|          | 0/1000 [00:00<?, ?it/s]"
      ]
     },
     "metadata": {},
     "output_type": "display_data"
    },
    {
     "name": "stdout",
     "output_type": "stream",
     "text": [
      "Evaluating states...\n"
     ]
    },
    {
     "data": {
      "application/json": {
       "ascii": false,
       "bar_format": null,
       "colour": null,
       "elapsed": 0.011272907257080078,
       "initial": 0,
       "n": 0,
       "ncols": null,
       "nrows": null,
       "postfix": null,
       "prefix": "",
       "rate": null,
       "total": 1000,
       "unit": "it",
       "unit_divisor": 1000,
       "unit_scale": false
      },
      "application/vnd.jupyter.widget-view+json": {
       "model_id": "579c69ce9b4f46108dd8b1bedfb09ee0",
       "version_major": 2,
       "version_minor": 0
      },
      "text/plain": [
       "  0%|          | 0/1000 [00:00<?, ?it/s]"
      ]
     },
     "metadata": {},
     "output_type": "display_data"
    },
    {
     "name": "stdout",
     "output_type": "stream",
     "text": [
      "\n",
      "Episode: 12\n",
      "Stepping...\n"
     ]
    },
    {
     "data": {
      "application/json": {
       "ascii": false,
       "bar_format": null,
       "colour": null,
       "elapsed": 0.010432958602905273,
       "initial": 0,
       "n": 0,
       "ncols": null,
       "nrows": null,
       "postfix": null,
       "prefix": "",
       "rate": null,
       "total": 1000,
       "unit": "it",
       "unit_divisor": 1000,
       "unit_scale": false
      },
      "application/vnd.jupyter.widget-view+json": {
       "model_id": "65ea5c7b401a471bbb2191ab88e2272b",
       "version_major": 2,
       "version_minor": 0
      },
      "text/plain": [
       "  0%|          | 0/1000 [00:00<?, ?it/s]"
      ]
     },
     "metadata": {},
     "output_type": "display_data"
    },
    {
     "name": "stdout",
     "output_type": "stream",
     "text": [
      "Processing rewards...\n"
     ]
    },
    {
     "data": {
      "application/json": {
       "ascii": false,
       "bar_format": null,
       "colour": null,
       "elapsed": 0.020334959030151367,
       "initial": 0,
       "n": 0,
       "ncols": null,
       "nrows": null,
       "postfix": null,
       "prefix": "",
       "rate": null,
       "total": 1000,
       "unit": "it",
       "unit_divisor": 1000,
       "unit_scale": false
      },
      "application/vnd.jupyter.widget-view+json": {
       "model_id": "e7ccce4d412946b2b660f3d408ea9546",
       "version_major": 2,
       "version_minor": 0
      },
      "text/plain": [
       "  0%|          | 0/1000 [00:00<?, ?it/s]"
      ]
     },
     "metadata": {},
     "output_type": "display_data"
    },
    {
     "name": "stdout",
     "output_type": "stream",
     "text": [
      "Generating...\n"
     ]
    },
    {
     "data": {
      "application/json": {
       "ascii": false,
       "bar_format": null,
       "colour": null,
       "elapsed": 0.010897159576416016,
       "initial": 0,
       "n": 0,
       "ncols": null,
       "nrows": null,
       "postfix": null,
       "prefix": "",
       "rate": null,
       "total": 1000,
       "unit": "it",
       "unit_divisor": 1000,
       "unit_scale": false
      },
      "application/vnd.jupyter.widget-view+json": {
       "model_id": "89723ee38c5049749900f8774c256a57",
       "version_major": 2,
       "version_minor": 0
      },
      "text/plain": [
       "  0%|          | 0/1000 [00:00<?, ?it/s]"
      ]
     },
     "metadata": {},
     "output_type": "display_data"
    },
    {
     "name": "stdout",
     "output_type": "stream",
     "text": [
      "Evaluating states...\n"
     ]
    },
    {
     "data": {
      "application/json": {
       "ascii": false,
       "bar_format": null,
       "colour": null,
       "elapsed": 0.010628223419189453,
       "initial": 0,
       "n": 0,
       "ncols": null,
       "nrows": null,
       "postfix": null,
       "prefix": "",
       "rate": null,
       "total": 1000,
       "unit": "it",
       "unit_divisor": 1000,
       "unit_scale": false
      },
      "application/vnd.jupyter.widget-view+json": {
       "model_id": "bbdc5769ad8b4acba8a2796ab8e5901b",
       "version_major": 2,
       "version_minor": 0
      },
      "text/plain": [
       "  0%|          | 0/1000 [00:00<?, ?it/s]"
      ]
     },
     "metadata": {},
     "output_type": "display_data"
    },
    {
     "name": "stdout",
     "output_type": "stream",
     "text": [
      "\n",
      "Episode: 13\n",
      "Stepping...\n"
     ]
    },
    {
     "data": {
      "application/json": {
       "ascii": false,
       "bar_format": null,
       "colour": null,
       "elapsed": 0.010451316833496094,
       "initial": 0,
       "n": 0,
       "ncols": null,
       "nrows": null,
       "postfix": null,
       "prefix": "",
       "rate": null,
       "total": 1000,
       "unit": "it",
       "unit_divisor": 1000,
       "unit_scale": false
      },
      "application/vnd.jupyter.widget-view+json": {
       "model_id": "240ef1481c9b4ee9b1e3b10be84fb75a",
       "version_major": 2,
       "version_minor": 0
      },
      "text/plain": [
       "  0%|          | 0/1000 [00:00<?, ?it/s]"
      ]
     },
     "metadata": {},
     "output_type": "display_data"
    },
    {
     "name": "stdout",
     "output_type": "stream",
     "text": [
      "Processing rewards...\n"
     ]
    },
    {
     "data": {
      "application/json": {
       "ascii": false,
       "bar_format": null,
       "colour": null,
       "elapsed": 0.01847529411315918,
       "initial": 0,
       "n": 0,
       "ncols": null,
       "nrows": null,
       "postfix": null,
       "prefix": "",
       "rate": null,
       "total": 1000,
       "unit": "it",
       "unit_divisor": 1000,
       "unit_scale": false
      },
      "application/vnd.jupyter.widget-view+json": {
       "model_id": "189050e89ca44d1a84bf4ad5b4d4bf2d",
       "version_major": 2,
       "version_minor": 0
      },
      "text/plain": [
       "  0%|          | 0/1000 [00:00<?, ?it/s]"
      ]
     },
     "metadata": {},
     "output_type": "display_data"
    },
    {
     "name": "stdout",
     "output_type": "stream",
     "text": [
      "Generating...\n"
     ]
    },
    {
     "data": {
      "application/json": {
       "ascii": false,
       "bar_format": null,
       "colour": null,
       "elapsed": 0.010387182235717773,
       "initial": 0,
       "n": 0,
       "ncols": null,
       "nrows": null,
       "postfix": null,
       "prefix": "",
       "rate": null,
       "total": 1000,
       "unit": "it",
       "unit_divisor": 1000,
       "unit_scale": false
      },
      "application/vnd.jupyter.widget-view+json": {
       "model_id": "0ed3bc0e73e645f7840b7c3c8e436234",
       "version_major": 2,
       "version_minor": 0
      },
      "text/plain": [
       "  0%|          | 0/1000 [00:00<?, ?it/s]"
      ]
     },
     "metadata": {},
     "output_type": "display_data"
    },
    {
     "name": "stdout",
     "output_type": "stream",
     "text": [
      "Evaluating states...\n"
     ]
    },
    {
     "data": {
      "application/json": {
       "ascii": false,
       "bar_format": null,
       "colour": null,
       "elapsed": 0.010660409927368164,
       "initial": 0,
       "n": 0,
       "ncols": null,
       "nrows": null,
       "postfix": null,
       "prefix": "",
       "rate": null,
       "total": 1000,
       "unit": "it",
       "unit_divisor": 1000,
       "unit_scale": false
      },
      "application/vnd.jupyter.widget-view+json": {
       "model_id": "08fa2b8ef134413e8227309aadd04b1c",
       "version_major": 2,
       "version_minor": 0
      },
      "text/plain": [
       "  0%|          | 0/1000 [00:00<?, ?it/s]"
      ]
     },
     "metadata": {},
     "output_type": "display_data"
    },
    {
     "name": "stdout",
     "output_type": "stream",
     "text": [
      "\n",
      "Episode: 14\n",
      "Stepping...\n"
     ]
    },
    {
     "data": {
      "application/json": {
       "ascii": false,
       "bar_format": null,
       "colour": null,
       "elapsed": 0.010600566864013672,
       "initial": 0,
       "n": 0,
       "ncols": null,
       "nrows": null,
       "postfix": null,
       "prefix": "",
       "rate": null,
       "total": 1000,
       "unit": "it",
       "unit_divisor": 1000,
       "unit_scale": false
      },
      "application/vnd.jupyter.widget-view+json": {
       "model_id": "f37ecabace764bbb8405d3674e105146",
       "version_major": 2,
       "version_minor": 0
      },
      "text/plain": [
       "  0%|          | 0/1000 [00:00<?, ?it/s]"
      ]
     },
     "metadata": {},
     "output_type": "display_data"
    },
    {
     "name": "stdout",
     "output_type": "stream",
     "text": [
      "Processing rewards...\n"
     ]
    },
    {
     "data": {
      "application/json": {
       "ascii": false,
       "bar_format": null,
       "colour": null,
       "elapsed": 0.014895915985107422,
       "initial": 0,
       "n": 0,
       "ncols": null,
       "nrows": null,
       "postfix": null,
       "prefix": "",
       "rate": null,
       "total": 1000,
       "unit": "it",
       "unit_divisor": 1000,
       "unit_scale": false
      },
      "application/vnd.jupyter.widget-view+json": {
       "model_id": "46488d6be6f644ab8cfbec91c0e8bb8a",
       "version_major": 2,
       "version_minor": 0
      },
      "text/plain": [
       "  0%|          | 0/1000 [00:00<?, ?it/s]"
      ]
     },
     "metadata": {},
     "output_type": "display_data"
    },
    {
     "name": "stdout",
     "output_type": "stream",
     "text": [
      "Generating...\n"
     ]
    },
    {
     "data": {
      "application/json": {
       "ascii": false,
       "bar_format": null,
       "colour": null,
       "elapsed": 0.010594844818115234,
       "initial": 0,
       "n": 0,
       "ncols": null,
       "nrows": null,
       "postfix": null,
       "prefix": "",
       "rate": null,
       "total": 1000,
       "unit": "it",
       "unit_divisor": 1000,
       "unit_scale": false
      },
      "application/vnd.jupyter.widget-view+json": {
       "model_id": "d8e9e30ece7846f1be51b51e35c92105",
       "version_major": 2,
       "version_minor": 0
      },
      "text/plain": [
       "  0%|          | 0/1000 [00:00<?, ?it/s]"
      ]
     },
     "metadata": {},
     "output_type": "display_data"
    },
    {
     "name": "stdout",
     "output_type": "stream",
     "text": [
      "Evaluating states...\n"
     ]
    },
    {
     "data": {
      "application/json": {
       "ascii": false,
       "bar_format": null,
       "colour": null,
       "elapsed": 0.010549306869506836,
       "initial": 0,
       "n": 0,
       "ncols": null,
       "nrows": null,
       "postfix": null,
       "prefix": "",
       "rate": null,
       "total": 1000,
       "unit": "it",
       "unit_divisor": 1000,
       "unit_scale": false
      },
      "application/vnd.jupyter.widget-view+json": {
       "model_id": "f16699f4b19f4aa9a6f3b40421e6753d",
       "version_major": 2,
       "version_minor": 0
      },
      "text/plain": [
       "  0%|          | 0/1000 [00:00<?, ?it/s]"
      ]
     },
     "metadata": {},
     "output_type": "display_data"
    },
    {
     "name": "stdout",
     "output_type": "stream",
     "text": [
      "\n",
      "Episode: 15\n",
      "Stepping...\n"
     ]
    },
    {
     "data": {
      "application/json": {
       "ascii": false,
       "bar_format": null,
       "colour": null,
       "elapsed": 0.01012563705444336,
       "initial": 0,
       "n": 0,
       "ncols": null,
       "nrows": null,
       "postfix": null,
       "prefix": "",
       "rate": null,
       "total": 1000,
       "unit": "it",
       "unit_divisor": 1000,
       "unit_scale": false
      },
      "application/vnd.jupyter.widget-view+json": {
       "model_id": "5a91c957a116439084492d6ab2f72644",
       "version_major": 2,
       "version_minor": 0
      },
      "text/plain": [
       "  0%|          | 0/1000 [00:00<?, ?it/s]"
      ]
     },
     "metadata": {},
     "output_type": "display_data"
    },
    {
     "name": "stdout",
     "output_type": "stream",
     "text": [
      "Processing rewards...\n"
     ]
    },
    {
     "data": {
      "application/json": {
       "ascii": false,
       "bar_format": null,
       "colour": null,
       "elapsed": 0.014189004898071289,
       "initial": 0,
       "n": 0,
       "ncols": null,
       "nrows": null,
       "postfix": null,
       "prefix": "",
       "rate": null,
       "total": 1000,
       "unit": "it",
       "unit_divisor": 1000,
       "unit_scale": false
      },
      "application/vnd.jupyter.widget-view+json": {
       "model_id": "e224992adf8144e8b2666c9d933bd75d",
       "version_major": 2,
       "version_minor": 0
      },
      "text/plain": [
       "  0%|          | 0/1000 [00:00<?, ?it/s]"
      ]
     },
     "metadata": {},
     "output_type": "display_data"
    },
    {
     "name": "stdout",
     "output_type": "stream",
     "text": [
      "Generating...\n"
     ]
    },
    {
     "data": {
      "application/json": {
       "ascii": false,
       "bar_format": null,
       "colour": null,
       "elapsed": 0.010694742202758789,
       "initial": 0,
       "n": 0,
       "ncols": null,
       "nrows": null,
       "postfix": null,
       "prefix": "",
       "rate": null,
       "total": 1000,
       "unit": "it",
       "unit_divisor": 1000,
       "unit_scale": false
      },
      "application/vnd.jupyter.widget-view+json": {
       "model_id": "38f67df3319447f586b0e96171ffbafc",
       "version_major": 2,
       "version_minor": 0
      },
      "text/plain": [
       "  0%|          | 0/1000 [00:00<?, ?it/s]"
      ]
     },
     "metadata": {},
     "output_type": "display_data"
    },
    {
     "name": "stdout",
     "output_type": "stream",
     "text": [
      "Evaluating states...\n"
     ]
    },
    {
     "data": {
      "application/json": {
       "ascii": false,
       "bar_format": null,
       "colour": null,
       "elapsed": 0.010713815689086914,
       "initial": 0,
       "n": 0,
       "ncols": null,
       "nrows": null,
       "postfix": null,
       "prefix": "",
       "rate": null,
       "total": 1000,
       "unit": "it",
       "unit_divisor": 1000,
       "unit_scale": false
      },
      "application/vnd.jupyter.widget-view+json": {
       "model_id": "3f1ba264ee2a438485244302fcf8ea78",
       "version_major": 2,
       "version_minor": 0
      },
      "text/plain": [
       "  0%|          | 0/1000 [00:00<?, ?it/s]"
      ]
     },
     "metadata": {},
     "output_type": "display_data"
    },
    {
     "name": "stdout",
     "output_type": "stream",
     "text": [
      "\n",
      "Episode: 16\n",
      "Stepping...\n"
     ]
    },
    {
     "data": {
      "application/json": {
       "ascii": false,
       "bar_format": null,
       "colour": null,
       "elapsed": 0.01051020622253418,
       "initial": 0,
       "n": 0,
       "ncols": null,
       "nrows": null,
       "postfix": null,
       "prefix": "",
       "rate": null,
       "total": 1000,
       "unit": "it",
       "unit_divisor": 1000,
       "unit_scale": false
      },
      "application/vnd.jupyter.widget-view+json": {
       "model_id": "82a7e09bcbe645849d7c5dafe4640b92",
       "version_major": 2,
       "version_minor": 0
      },
      "text/plain": [
       "  0%|          | 0/1000 [00:00<?, ?it/s]"
      ]
     },
     "metadata": {},
     "output_type": "display_data"
    },
    {
     "name": "stdout",
     "output_type": "stream",
     "text": [
      "Processing rewards...\n"
     ]
    },
    {
     "data": {
      "application/json": {
       "ascii": false,
       "bar_format": null,
       "colour": null,
       "elapsed": 0.022922515869140625,
       "initial": 0,
       "n": 0,
       "ncols": null,
       "nrows": null,
       "postfix": null,
       "prefix": "",
       "rate": null,
       "total": 1000,
       "unit": "it",
       "unit_divisor": 1000,
       "unit_scale": false
      },
      "application/vnd.jupyter.widget-view+json": {
       "model_id": "39f332cff5994ef8939d3571cc2729c8",
       "version_major": 2,
       "version_minor": 0
      },
      "text/plain": [
       "  0%|          | 0/1000 [00:00<?, ?it/s]"
      ]
     },
     "metadata": {},
     "output_type": "display_data"
    },
    {
     "name": "stdout",
     "output_type": "stream",
     "text": [
      "Generating...\n"
     ]
    },
    {
     "data": {
      "application/json": {
       "ascii": false,
       "bar_format": null,
       "colour": null,
       "elapsed": 0.010840654373168945,
       "initial": 0,
       "n": 0,
       "ncols": null,
       "nrows": null,
       "postfix": null,
       "prefix": "",
       "rate": null,
       "total": 1000,
       "unit": "it",
       "unit_divisor": 1000,
       "unit_scale": false
      },
      "application/vnd.jupyter.widget-view+json": {
       "model_id": "3e79c6bce98e4b699e8e515c6a65bf58",
       "version_major": 2,
       "version_minor": 0
      },
      "text/plain": [
       "  0%|          | 0/1000 [00:00<?, ?it/s]"
      ]
     },
     "metadata": {},
     "output_type": "display_data"
    },
    {
     "name": "stdout",
     "output_type": "stream",
     "text": [
      "Evaluating states...\n"
     ]
    },
    {
     "data": {
      "application/json": {
       "ascii": false,
       "bar_format": null,
       "colour": null,
       "elapsed": 0.011581182479858398,
       "initial": 0,
       "n": 0,
       "ncols": null,
       "nrows": null,
       "postfix": null,
       "prefix": "",
       "rate": null,
       "total": 1000,
       "unit": "it",
       "unit_divisor": 1000,
       "unit_scale": false
      },
      "application/vnd.jupyter.widget-view+json": {
       "model_id": "a711d4157aa049d68093b15fce038272",
       "version_major": 2,
       "version_minor": 0
      },
      "text/plain": [
       "  0%|          | 0/1000 [00:00<?, ?it/s]"
      ]
     },
     "metadata": {},
     "output_type": "display_data"
    },
    {
     "name": "stdout",
     "output_type": "stream",
     "text": [
      "\n",
      "Episode: 17\n",
      "Stepping...\n"
     ]
    },
    {
     "data": {
      "application/json": {
       "ascii": false,
       "bar_format": null,
       "colour": null,
       "elapsed": 0.010628938674926758,
       "initial": 0,
       "n": 0,
       "ncols": null,
       "nrows": null,
       "postfix": null,
       "prefix": "",
       "rate": null,
       "total": 1000,
       "unit": "it",
       "unit_divisor": 1000,
       "unit_scale": false
      },
      "application/vnd.jupyter.widget-view+json": {
       "model_id": "980d44243b97429685ce6d0001597c8a",
       "version_major": 2,
       "version_minor": 0
      },
      "text/plain": [
       "  0%|          | 0/1000 [00:00<?, ?it/s]"
      ]
     },
     "metadata": {},
     "output_type": "display_data"
    },
    {
     "name": "stdout",
     "output_type": "stream",
     "text": [
      "Processing rewards...\n"
     ]
    },
    {
     "data": {
      "application/json": {
       "ascii": false,
       "bar_format": null,
       "colour": null,
       "elapsed": 0.014687061309814453,
       "initial": 0,
       "n": 0,
       "ncols": null,
       "nrows": null,
       "postfix": null,
       "prefix": "",
       "rate": null,
       "total": 1000,
       "unit": "it",
       "unit_divisor": 1000,
       "unit_scale": false
      },
      "application/vnd.jupyter.widget-view+json": {
       "model_id": "8f384ca9ec194233a6915e97515d01bc",
       "version_major": 2,
       "version_minor": 0
      },
      "text/plain": [
       "  0%|          | 0/1000 [00:00<?, ?it/s]"
      ]
     },
     "metadata": {},
     "output_type": "display_data"
    },
    {
     "name": "stdout",
     "output_type": "stream",
     "text": [
      "Generating...\n"
     ]
    },
    {
     "data": {
      "application/json": {
       "ascii": false,
       "bar_format": null,
       "colour": null,
       "elapsed": 0.010637760162353516,
       "initial": 0,
       "n": 0,
       "ncols": null,
       "nrows": null,
       "postfix": null,
       "prefix": "",
       "rate": null,
       "total": 1000,
       "unit": "it",
       "unit_divisor": 1000,
       "unit_scale": false
      },
      "application/vnd.jupyter.widget-view+json": {
       "model_id": "74182a47a43a40ac90232aa147567bcf",
       "version_major": 2,
       "version_minor": 0
      },
      "text/plain": [
       "  0%|          | 0/1000 [00:00<?, ?it/s]"
      ]
     },
     "metadata": {},
     "output_type": "display_data"
    },
    {
     "name": "stdout",
     "output_type": "stream",
     "text": [
      "Evaluating states...\n"
     ]
    },
    {
     "data": {
      "application/json": {
       "ascii": false,
       "bar_format": null,
       "colour": null,
       "elapsed": 0.010627031326293945,
       "initial": 0,
       "n": 0,
       "ncols": null,
       "nrows": null,
       "postfix": null,
       "prefix": "",
       "rate": null,
       "total": 1000,
       "unit": "it",
       "unit_divisor": 1000,
       "unit_scale": false
      },
      "application/vnd.jupyter.widget-view+json": {
       "model_id": "55c70e1e9d30455083689f1ad84c240c",
       "version_major": 2,
       "version_minor": 0
      },
      "text/plain": [
       "  0%|          | 0/1000 [00:00<?, ?it/s]"
      ]
     },
     "metadata": {},
     "output_type": "display_data"
    },
    {
     "name": "stdout",
     "output_type": "stream",
     "text": [
      "\n",
      "Episode: 18\n",
      "Stepping...\n"
     ]
    },
    {
     "data": {
      "application/json": {
       "ascii": false,
       "bar_format": null,
       "colour": null,
       "elapsed": 0.010411739349365234,
       "initial": 0,
       "n": 0,
       "ncols": null,
       "nrows": null,
       "postfix": null,
       "prefix": "",
       "rate": null,
       "total": 1000,
       "unit": "it",
       "unit_divisor": 1000,
       "unit_scale": false
      },
      "application/vnd.jupyter.widget-view+json": {
       "model_id": "a9ae651a77a94ad28dcbdcc937e0c117",
       "version_major": 2,
       "version_minor": 0
      },
      "text/plain": [
       "  0%|          | 0/1000 [00:00<?, ?it/s]"
      ]
     },
     "metadata": {},
     "output_type": "display_data"
    },
    {
     "name": "stdout",
     "output_type": "stream",
     "text": [
      "Processing rewards...\n"
     ]
    },
    {
     "data": {
      "application/json": {
       "ascii": false,
       "bar_format": null,
       "colour": null,
       "elapsed": 0.019945859909057617,
       "initial": 0,
       "n": 0,
       "ncols": null,
       "nrows": null,
       "postfix": null,
       "prefix": "",
       "rate": null,
       "total": 1000,
       "unit": "it",
       "unit_divisor": 1000,
       "unit_scale": false
      },
      "application/vnd.jupyter.widget-view+json": {
       "model_id": "4083583c5b3d4dc9b8cd2882f4f77ecc",
       "version_major": 2,
       "version_minor": 0
      },
      "text/plain": [
       "  0%|          | 0/1000 [00:00<?, ?it/s]"
      ]
     },
     "metadata": {},
     "output_type": "display_data"
    },
    {
     "name": "stdout",
     "output_type": "stream",
     "text": [
      "Generating...\n"
     ]
    },
    {
     "data": {
      "application/json": {
       "ascii": false,
       "bar_format": null,
       "colour": null,
       "elapsed": 0.011400699615478516,
       "initial": 0,
       "n": 0,
       "ncols": null,
       "nrows": null,
       "postfix": null,
       "prefix": "",
       "rate": null,
       "total": 1000,
       "unit": "it",
       "unit_divisor": 1000,
       "unit_scale": false
      },
      "application/vnd.jupyter.widget-view+json": {
       "model_id": "171c2d2ed21a40cbb8830a4c0863d128",
       "version_major": 2,
       "version_minor": 0
      },
      "text/plain": [
       "  0%|          | 0/1000 [00:00<?, ?it/s]"
      ]
     },
     "metadata": {},
     "output_type": "display_data"
    },
    {
     "name": "stdout",
     "output_type": "stream",
     "text": [
      "Evaluating states...\n"
     ]
    },
    {
     "data": {
      "application/json": {
       "ascii": false,
       "bar_format": null,
       "colour": null,
       "elapsed": 0.011253833770751953,
       "initial": 0,
       "n": 0,
       "ncols": null,
       "nrows": null,
       "postfix": null,
       "prefix": "",
       "rate": null,
       "total": 1000,
       "unit": "it",
       "unit_divisor": 1000,
       "unit_scale": false
      },
      "application/vnd.jupyter.widget-view+json": {
       "model_id": "01757adf387d4672a2fbe980e719110c",
       "version_major": 2,
       "version_minor": 0
      },
      "text/plain": [
       "  0%|          | 0/1000 [00:00<?, ?it/s]"
      ]
     },
     "metadata": {},
     "output_type": "display_data"
    },
    {
     "name": "stdout",
     "output_type": "stream",
     "text": [
      "\n",
      "Episode: 19\n",
      "Stepping...\n"
     ]
    },
    {
     "data": {
      "application/json": {
       "ascii": false,
       "bar_format": null,
       "colour": null,
       "elapsed": 0.011067390441894531,
       "initial": 0,
       "n": 0,
       "ncols": null,
       "nrows": null,
       "postfix": null,
       "prefix": "",
       "rate": null,
       "total": 1000,
       "unit": "it",
       "unit_divisor": 1000,
       "unit_scale": false
      },
      "application/vnd.jupyter.widget-view+json": {
       "model_id": "1d683aaa6b534bba86b096d43498c047",
       "version_major": 2,
       "version_minor": 0
      },
      "text/plain": [
       "  0%|          | 0/1000 [00:00<?, ?it/s]"
      ]
     },
     "metadata": {},
     "output_type": "display_data"
    },
    {
     "name": "stdout",
     "output_type": "stream",
     "text": [
      "Processing rewards...\n"
     ]
    },
    {
     "data": {
      "application/json": {
       "ascii": false,
       "bar_format": null,
       "colour": null,
       "elapsed": 0.019161224365234375,
       "initial": 0,
       "n": 0,
       "ncols": null,
       "nrows": null,
       "postfix": null,
       "prefix": "",
       "rate": null,
       "total": 1000,
       "unit": "it",
       "unit_divisor": 1000,
       "unit_scale": false
      },
      "application/vnd.jupyter.widget-view+json": {
       "model_id": "f7d03ab53b4449889c24a59c5bdf3fd2",
       "version_major": 2,
       "version_minor": 0
      },
      "text/plain": [
       "  0%|          | 0/1000 [00:00<?, ?it/s]"
      ]
     },
     "metadata": {},
     "output_type": "display_data"
    },
    {
     "name": "stdout",
     "output_type": "stream",
     "text": [
      "Generating...\n"
     ]
    },
    {
     "data": {
      "application/json": {
       "ascii": false,
       "bar_format": null,
       "colour": null,
       "elapsed": 0.010699272155761719,
       "initial": 0,
       "n": 0,
       "ncols": null,
       "nrows": null,
       "postfix": null,
       "prefix": "",
       "rate": null,
       "total": 1000,
       "unit": "it",
       "unit_divisor": 1000,
       "unit_scale": false
      },
      "application/vnd.jupyter.widget-view+json": {
       "model_id": "e0a4882756964325816e289cf5eed72c",
       "version_major": 2,
       "version_minor": 0
      },
      "text/plain": [
       "  0%|          | 0/1000 [00:00<?, ?it/s]"
      ]
     },
     "metadata": {},
     "output_type": "display_data"
    },
    {
     "name": "stdout",
     "output_type": "stream",
     "text": [
      "Evaluating states...\n"
     ]
    },
    {
     "data": {
      "application/json": {
       "ascii": false,
       "bar_format": null,
       "colour": null,
       "elapsed": 0.011183500289916992,
       "initial": 0,
       "n": 0,
       "ncols": null,
       "nrows": null,
       "postfix": null,
       "prefix": "",
       "rate": null,
       "total": 1000,
       "unit": "it",
       "unit_divisor": 1000,
       "unit_scale": false
      },
      "application/vnd.jupyter.widget-view+json": {
       "model_id": "24af6b8aab8b4cc387eb7dd2c931ab81",
       "version_major": 2,
       "version_minor": 0
      },
      "text/plain": [
       "  0%|          | 0/1000 [00:00<?, ?it/s]"
      ]
     },
     "metadata": {},
     "output_type": "display_data"
    },
    {
     "name": "stdout",
     "output_type": "stream",
     "text": [
      "\n",
      "Episode: 20\n",
      "Stepping...\n"
     ]
    },
    {
     "data": {
      "application/json": {
       "ascii": false,
       "bar_format": null,
       "colour": null,
       "elapsed": 0.011521339416503906,
       "initial": 0,
       "n": 0,
       "ncols": null,
       "nrows": null,
       "postfix": null,
       "prefix": "",
       "rate": null,
       "total": 1000,
       "unit": "it",
       "unit_divisor": 1000,
       "unit_scale": false
      },
      "application/vnd.jupyter.widget-view+json": {
       "model_id": "64f9734db3764481bbe79213fcf141d5",
       "version_major": 2,
       "version_minor": 0
      },
      "text/plain": [
       "  0%|          | 0/1000 [00:00<?, ?it/s]"
      ]
     },
     "metadata": {},
     "output_type": "display_data"
    },
    {
     "name": "stdout",
     "output_type": "stream",
     "text": [
      "Processing rewards...\n"
     ]
    },
    {
     "data": {
      "application/json": {
       "ascii": false,
       "bar_format": null,
       "colour": null,
       "elapsed": 0.01518702507019043,
       "initial": 0,
       "n": 0,
       "ncols": null,
       "nrows": null,
       "postfix": null,
       "prefix": "",
       "rate": null,
       "total": 1000,
       "unit": "it",
       "unit_divisor": 1000,
       "unit_scale": false
      },
      "application/vnd.jupyter.widget-view+json": {
       "model_id": "cf87a30ba8314cb1a872c6f3baace00e",
       "version_major": 2,
       "version_minor": 0
      },
      "text/plain": [
       "  0%|          | 0/1000 [00:00<?, ?it/s]"
      ]
     },
     "metadata": {},
     "output_type": "display_data"
    },
    {
     "name": "stdout",
     "output_type": "stream",
     "text": [
      "Generating...\n"
     ]
    },
    {
     "data": {
      "application/json": {
       "ascii": false,
       "bar_format": null,
       "colour": null,
       "elapsed": 0.011110544204711914,
       "initial": 0,
       "n": 0,
       "ncols": null,
       "nrows": null,
       "postfix": null,
       "prefix": "",
       "rate": null,
       "total": 1000,
       "unit": "it",
       "unit_divisor": 1000,
       "unit_scale": false
      },
      "application/vnd.jupyter.widget-view+json": {
       "model_id": "80793c05adf2444083587ba0a3c83ca2",
       "version_major": 2,
       "version_minor": 0
      },
      "text/plain": [
       "  0%|          | 0/1000 [00:00<?, ?it/s]"
      ]
     },
     "metadata": {},
     "output_type": "display_data"
    },
    {
     "name": "stdout",
     "output_type": "stream",
     "text": [
      "Evaluating states...\n"
     ]
    },
    {
     "data": {
      "application/json": {
       "ascii": false,
       "bar_format": null,
       "colour": null,
       "elapsed": 0.01090240478515625,
       "initial": 0,
       "n": 0,
       "ncols": null,
       "nrows": null,
       "postfix": null,
       "prefix": "",
       "rate": null,
       "total": 1000,
       "unit": "it",
       "unit_divisor": 1000,
       "unit_scale": false
      },
      "application/vnd.jupyter.widget-view+json": {
       "model_id": "49f6e53a251343df957d6f02d34c8902",
       "version_major": 2,
       "version_minor": 0
      },
      "text/plain": [
       "  0%|          | 0/1000 [00:00<?, ?it/s]"
      ]
     },
     "metadata": {},
     "output_type": "display_data"
    },
    {
     "name": "stdout",
     "output_type": "stream",
     "text": [
      "\n",
      "Episode: 21\n",
      "Stepping...\n"
     ]
    },
    {
     "data": {
      "application/json": {
       "ascii": false,
       "bar_format": null,
       "colour": null,
       "elapsed": 0.011088848114013672,
       "initial": 0,
       "n": 0,
       "ncols": null,
       "nrows": null,
       "postfix": null,
       "prefix": "",
       "rate": null,
       "total": 1000,
       "unit": "it",
       "unit_divisor": 1000,
       "unit_scale": false
      },
      "application/vnd.jupyter.widget-view+json": {
       "model_id": "2235fb89dc0446f8ae1de3b149dc6a2b",
       "version_major": 2,
       "version_minor": 0
      },
      "text/plain": [
       "  0%|          | 0/1000 [00:00<?, ?it/s]"
      ]
     },
     "metadata": {},
     "output_type": "display_data"
    },
    {
     "name": "stdout",
     "output_type": "stream",
     "text": [
      "Processing rewards...\n"
     ]
    },
    {
     "data": {
      "application/json": {
       "ascii": false,
       "bar_format": null,
       "colour": null,
       "elapsed": 0.015106678009033203,
       "initial": 0,
       "n": 0,
       "ncols": null,
       "nrows": null,
       "postfix": null,
       "prefix": "",
       "rate": null,
       "total": 1000,
       "unit": "it",
       "unit_divisor": 1000,
       "unit_scale": false
      },
      "application/vnd.jupyter.widget-view+json": {
       "model_id": "7a849053a13242c283995eb38296b4c8",
       "version_major": 2,
       "version_minor": 0
      },
      "text/plain": [
       "  0%|          | 0/1000 [00:00<?, ?it/s]"
      ]
     },
     "metadata": {},
     "output_type": "display_data"
    },
    {
     "name": "stdout",
     "output_type": "stream",
     "text": [
      "Generating...\n"
     ]
    },
    {
     "data": {
      "application/json": {
       "ascii": false,
       "bar_format": null,
       "colour": null,
       "elapsed": 0.011566400527954102,
       "initial": 0,
       "n": 0,
       "ncols": null,
       "nrows": null,
       "postfix": null,
       "prefix": "",
       "rate": null,
       "total": 1000,
       "unit": "it",
       "unit_divisor": 1000,
       "unit_scale": false
      },
      "application/vnd.jupyter.widget-view+json": {
       "model_id": "d87604c0bfee40569e6a54c09f7b6203",
       "version_major": 2,
       "version_minor": 0
      },
      "text/plain": [
       "  0%|          | 0/1000 [00:00<?, ?it/s]"
      ]
     },
     "metadata": {},
     "output_type": "display_data"
    },
    {
     "name": "stdout",
     "output_type": "stream",
     "text": [
      "Evaluating states...\n"
     ]
    },
    {
     "data": {
      "application/json": {
       "ascii": false,
       "bar_format": null,
       "colour": null,
       "elapsed": 0.011146306991577148,
       "initial": 0,
       "n": 0,
       "ncols": null,
       "nrows": null,
       "postfix": null,
       "prefix": "",
       "rate": null,
       "total": 1000,
       "unit": "it",
       "unit_divisor": 1000,
       "unit_scale": false
      },
      "application/vnd.jupyter.widget-view+json": {
       "model_id": "9006144d2b4745a1998cda613078ac68",
       "version_major": 2,
       "version_minor": 0
      },
      "text/plain": [
       "  0%|          | 0/1000 [00:00<?, ?it/s]"
      ]
     },
     "metadata": {},
     "output_type": "display_data"
    },
    {
     "name": "stdout",
     "output_type": "stream",
     "text": [
      "\n",
      "Episode: 22\n",
      "Stepping...\n"
     ]
    },
    {
     "data": {
      "application/json": {
       "ascii": false,
       "bar_format": null,
       "colour": null,
       "elapsed": 0.011548995971679688,
       "initial": 0,
       "n": 0,
       "ncols": null,
       "nrows": null,
       "postfix": null,
       "prefix": "",
       "rate": null,
       "total": 1000,
       "unit": "it",
       "unit_divisor": 1000,
       "unit_scale": false
      },
      "application/vnd.jupyter.widget-view+json": {
       "model_id": "2e0c6e6901fe4f779daba8cbe73a26a8",
       "version_major": 2,
       "version_minor": 0
      },
      "text/plain": [
       "  0%|          | 0/1000 [00:00<?, ?it/s]"
      ]
     },
     "metadata": {},
     "output_type": "display_data"
    },
    {
     "name": "stdout",
     "output_type": "stream",
     "text": [
      "Processing rewards...\n"
     ]
    },
    {
     "data": {
      "application/json": {
       "ascii": false,
       "bar_format": null,
       "colour": null,
       "elapsed": 0.019716978073120117,
       "initial": 0,
       "n": 0,
       "ncols": null,
       "nrows": null,
       "postfix": null,
       "prefix": "",
       "rate": null,
       "total": 1000,
       "unit": "it",
       "unit_divisor": 1000,
       "unit_scale": false
      },
      "application/vnd.jupyter.widget-view+json": {
       "model_id": "31882665f78b4d65b155fdb0f69aa43f",
       "version_major": 2,
       "version_minor": 0
      },
      "text/plain": [
       "  0%|          | 0/1000 [00:00<?, ?it/s]"
      ]
     },
     "metadata": {},
     "output_type": "display_data"
    },
    {
     "name": "stdout",
     "output_type": "stream",
     "text": [
      "Generating...\n"
     ]
    },
    {
     "data": {
      "application/json": {
       "ascii": false,
       "bar_format": null,
       "colour": null,
       "elapsed": 0.010972261428833008,
       "initial": 0,
       "n": 0,
       "ncols": null,
       "nrows": null,
       "postfix": null,
       "prefix": "",
       "rate": null,
       "total": 1000,
       "unit": "it",
       "unit_divisor": 1000,
       "unit_scale": false
      },
      "application/vnd.jupyter.widget-view+json": {
       "model_id": "9b6e9b4cf5fb466690cb873c73a5c4b9",
       "version_major": 2,
       "version_minor": 0
      },
      "text/plain": [
       "  0%|          | 0/1000 [00:00<?, ?it/s]"
      ]
     },
     "metadata": {},
     "output_type": "display_data"
    },
    {
     "name": "stdout",
     "output_type": "stream",
     "text": [
      "Evaluating states...\n"
     ]
    },
    {
     "data": {
      "application/json": {
       "ascii": false,
       "bar_format": null,
       "colour": null,
       "elapsed": 0.01104283332824707,
       "initial": 0,
       "n": 0,
       "ncols": null,
       "nrows": null,
       "postfix": null,
       "prefix": "",
       "rate": null,
       "total": 1000,
       "unit": "it",
       "unit_divisor": 1000,
       "unit_scale": false
      },
      "application/vnd.jupyter.widget-view+json": {
       "model_id": "d08551c0d079479bbccf90161c91ce33",
       "version_major": 2,
       "version_minor": 0
      },
      "text/plain": [
       "  0%|          | 0/1000 [00:00<?, ?it/s]"
      ]
     },
     "metadata": {},
     "output_type": "display_data"
    },
    {
     "name": "stdout",
     "output_type": "stream",
     "text": [
      "\n",
      "Episode: 23\n",
      "Stepping...\n"
     ]
    },
    {
     "data": {
      "application/json": {
       "ascii": false,
       "bar_format": null,
       "colour": null,
       "elapsed": 0.010577201843261719,
       "initial": 0,
       "n": 0,
       "ncols": null,
       "nrows": null,
       "postfix": null,
       "prefix": "",
       "rate": null,
       "total": 1000,
       "unit": "it",
       "unit_divisor": 1000,
       "unit_scale": false
      },
      "application/vnd.jupyter.widget-view+json": {
       "model_id": "a85034f586e6462fbecd87cafbbe2916",
       "version_major": 2,
       "version_minor": 0
      },
      "text/plain": [
       "  0%|          | 0/1000 [00:00<?, ?it/s]"
      ]
     },
     "metadata": {},
     "output_type": "display_data"
    },
    {
     "name": "stdout",
     "output_type": "stream",
     "text": [
      "Processing rewards...\n"
     ]
    },
    {
     "data": {
      "application/json": {
       "ascii": false,
       "bar_format": null,
       "colour": null,
       "elapsed": 0.017960309982299805,
       "initial": 0,
       "n": 0,
       "ncols": null,
       "nrows": null,
       "postfix": null,
       "prefix": "",
       "rate": null,
       "total": 1000,
       "unit": "it",
       "unit_divisor": 1000,
       "unit_scale": false
      },
      "application/vnd.jupyter.widget-view+json": {
       "model_id": "65444ac258404045a63a3a12063b1230",
       "version_major": 2,
       "version_minor": 0
      },
      "text/plain": [
       "  0%|          | 0/1000 [00:00<?, ?it/s]"
      ]
     },
     "metadata": {},
     "output_type": "display_data"
    },
    {
     "name": "stdout",
     "output_type": "stream",
     "text": [
      "Generating...\n"
     ]
    },
    {
     "data": {
      "application/json": {
       "ascii": false,
       "bar_format": null,
       "colour": null,
       "elapsed": 0.010998964309692383,
       "initial": 0,
       "n": 0,
       "ncols": null,
       "nrows": null,
       "postfix": null,
       "prefix": "",
       "rate": null,
       "total": 1000,
       "unit": "it",
       "unit_divisor": 1000,
       "unit_scale": false
      },
      "application/vnd.jupyter.widget-view+json": {
       "model_id": "f1cfcde5a2484630b264cb0ee793160d",
       "version_major": 2,
       "version_minor": 0
      },
      "text/plain": [
       "  0%|          | 0/1000 [00:00<?, ?it/s]"
      ]
     },
     "metadata": {},
     "output_type": "display_data"
    },
    {
     "name": "stdout",
     "output_type": "stream",
     "text": [
      "Evaluating states...\n"
     ]
    },
    {
     "data": {
      "application/json": {
       "ascii": false,
       "bar_format": null,
       "colour": null,
       "elapsed": 0.011120796203613281,
       "initial": 0,
       "n": 0,
       "ncols": null,
       "nrows": null,
       "postfix": null,
       "prefix": "",
       "rate": null,
       "total": 1000,
       "unit": "it",
       "unit_divisor": 1000,
       "unit_scale": false
      },
      "application/vnd.jupyter.widget-view+json": {
       "model_id": "deb0c1b2e5e04718925a492a225a76ee",
       "version_major": 2,
       "version_minor": 0
      },
      "text/plain": [
       "  0%|          | 0/1000 [00:00<?, ?it/s]"
      ]
     },
     "metadata": {},
     "output_type": "display_data"
    },
    {
     "name": "stdout",
     "output_type": "stream",
     "text": [
      "\n",
      "Episode: 24\n",
      "Stepping...\n"
     ]
    },
    {
     "data": {
      "application/json": {
       "ascii": false,
       "bar_format": null,
       "colour": null,
       "elapsed": 0.010831594467163086,
       "initial": 0,
       "n": 0,
       "ncols": null,
       "nrows": null,
       "postfix": null,
       "prefix": "",
       "rate": null,
       "total": 1000,
       "unit": "it",
       "unit_divisor": 1000,
       "unit_scale": false
      },
      "application/vnd.jupyter.widget-view+json": {
       "model_id": "43910ca1c7964eb4b3ee51ffd7a56e9e",
       "version_major": 2,
       "version_minor": 0
      },
      "text/plain": [
       "  0%|          | 0/1000 [00:00<?, ?it/s]"
      ]
     },
     "metadata": {},
     "output_type": "display_data"
    },
    {
     "name": "stdout",
     "output_type": "stream",
     "text": [
      "Processing rewards...\n"
     ]
    },
    {
     "data": {
      "application/json": {
       "ascii": false,
       "bar_format": null,
       "colour": null,
       "elapsed": 0.014330625534057617,
       "initial": 0,
       "n": 0,
       "ncols": null,
       "nrows": null,
       "postfix": null,
       "prefix": "",
       "rate": null,
       "total": 1000,
       "unit": "it",
       "unit_divisor": 1000,
       "unit_scale": false
      },
      "application/vnd.jupyter.widget-view+json": {
       "model_id": "beba3fbf855b45d9a6116d0063c2f7ee",
       "version_major": 2,
       "version_minor": 0
      },
      "text/plain": [
       "  0%|          | 0/1000 [00:00<?, ?it/s]"
      ]
     },
     "metadata": {},
     "output_type": "display_data"
    },
    {
     "name": "stdout",
     "output_type": "stream",
     "text": [
      "Generating...\n"
     ]
    },
    {
     "data": {
      "application/json": {
       "ascii": false,
       "bar_format": null,
       "colour": null,
       "elapsed": 0.010525941848754883,
       "initial": 0,
       "n": 0,
       "ncols": null,
       "nrows": null,
       "postfix": null,
       "prefix": "",
       "rate": null,
       "total": 1000,
       "unit": "it",
       "unit_divisor": 1000,
       "unit_scale": false
      },
      "application/vnd.jupyter.widget-view+json": {
       "model_id": "58134786bdd34f649224d4c540bdc297",
       "version_major": 2,
       "version_minor": 0
      },
      "text/plain": [
       "  0%|          | 0/1000 [00:00<?, ?it/s]"
      ]
     },
     "metadata": {},
     "output_type": "display_data"
    },
    {
     "name": "stdout",
     "output_type": "stream",
     "text": [
      "Evaluating states...\n"
     ]
    },
    {
     "data": {
      "application/json": {
       "ascii": false,
       "bar_format": null,
       "colour": null,
       "elapsed": 0.010837793350219727,
       "initial": 0,
       "n": 0,
       "ncols": null,
       "nrows": null,
       "postfix": null,
       "prefix": "",
       "rate": null,
       "total": 1000,
       "unit": "it",
       "unit_divisor": 1000,
       "unit_scale": false
      },
      "application/vnd.jupyter.widget-view+json": {
       "model_id": "a11e5322185f48fd832d170dc00f96df",
       "version_major": 2,
       "version_minor": 0
      },
      "text/plain": [
       "  0%|          | 0/1000 [00:00<?, ?it/s]"
      ]
     },
     "metadata": {},
     "output_type": "display_data"
    },
    {
     "name": "stdout",
     "output_type": "stream",
     "text": [
      "\n",
      "Episode: 25\n",
      "Stepping...\n"
     ]
    },
    {
     "data": {
      "application/json": {
       "ascii": false,
       "bar_format": null,
       "colour": null,
       "elapsed": 0.010532617568969727,
       "initial": 0,
       "n": 0,
       "ncols": null,
       "nrows": null,
       "postfix": null,
       "prefix": "",
       "rate": null,
       "total": 1000,
       "unit": "it",
       "unit_divisor": 1000,
       "unit_scale": false
      },
      "application/vnd.jupyter.widget-view+json": {
       "model_id": "47b7de4e352947109e72292c847aa716",
       "version_major": 2,
       "version_minor": 0
      },
      "text/plain": [
       "  0%|          | 0/1000 [00:00<?, ?it/s]"
      ]
     },
     "metadata": {},
     "output_type": "display_data"
    },
    {
     "name": "stdout",
     "output_type": "stream",
     "text": [
      "Processing rewards...\n"
     ]
    },
    {
     "data": {
      "application/json": {
       "ascii": false,
       "bar_format": null,
       "colour": null,
       "elapsed": 0.014320135116577148,
       "initial": 0,
       "n": 0,
       "ncols": null,
       "nrows": null,
       "postfix": null,
       "prefix": "",
       "rate": null,
       "total": 1000,
       "unit": "it",
       "unit_divisor": 1000,
       "unit_scale": false
      },
      "application/vnd.jupyter.widget-view+json": {
       "model_id": "54e00c8769aa45db8f79b52904eec519",
       "version_major": 2,
       "version_minor": 0
      },
      "text/plain": [
       "  0%|          | 0/1000 [00:00<?, ?it/s]"
      ]
     },
     "metadata": {},
     "output_type": "display_data"
    },
    {
     "name": "stdout",
     "output_type": "stream",
     "text": [
      "Generating...\n"
     ]
    },
    {
     "data": {
      "application/json": {
       "ascii": false,
       "bar_format": null,
       "colour": null,
       "elapsed": 0.010424375534057617,
       "initial": 0,
       "n": 0,
       "ncols": null,
       "nrows": null,
       "postfix": null,
       "prefix": "",
       "rate": null,
       "total": 1000,
       "unit": "it",
       "unit_divisor": 1000,
       "unit_scale": false
      },
      "application/vnd.jupyter.widget-view+json": {
       "model_id": "845d0d4056204f129bd580f905c826b0",
       "version_major": 2,
       "version_minor": 0
      },
      "text/plain": [
       "  0%|          | 0/1000 [00:00<?, ?it/s]"
      ]
     },
     "metadata": {},
     "output_type": "display_data"
    },
    {
     "name": "stdout",
     "output_type": "stream",
     "text": [
      "Evaluating states...\n"
     ]
    },
    {
     "data": {
      "application/json": {
       "ascii": false,
       "bar_format": null,
       "colour": null,
       "elapsed": 0.010509490966796875,
       "initial": 0,
       "n": 0,
       "ncols": null,
       "nrows": null,
       "postfix": null,
       "prefix": "",
       "rate": null,
       "total": 1000,
       "unit": "it",
       "unit_divisor": 1000,
       "unit_scale": false
      },
      "application/vnd.jupyter.widget-view+json": {
       "model_id": "3f5a15828259487ebd0e098d8fb986a7",
       "version_major": 2,
       "version_minor": 0
      },
      "text/plain": [
       "  0%|          | 0/1000 [00:00<?, ?it/s]"
      ]
     },
     "metadata": {},
     "output_type": "display_data"
    },
    {
     "name": "stdout",
     "output_type": "stream",
     "text": [
      "\n",
      "Episode: 26\n",
      "Stepping...\n"
     ]
    },
    {
     "data": {
      "application/json": {
       "ascii": false,
       "bar_format": null,
       "colour": null,
       "elapsed": 0.010209321975708008,
       "initial": 0,
       "n": 0,
       "ncols": null,
       "nrows": null,
       "postfix": null,
       "prefix": "",
       "rate": null,
       "total": 1000,
       "unit": "it",
       "unit_divisor": 1000,
       "unit_scale": false
      },
      "application/vnd.jupyter.widget-view+json": {
       "model_id": "4dbb77f6fbed4eb5ac3d87020923db95",
       "version_major": 2,
       "version_minor": 0
      },
      "text/plain": [
       "  0%|          | 0/1000 [00:00<?, ?it/s]"
      ]
     },
     "metadata": {},
     "output_type": "display_data"
    },
    {
     "name": "stdout",
     "output_type": "stream",
     "text": [
      "Processing rewards...\n"
     ]
    },
    {
     "data": {
      "application/json": {
       "ascii": false,
       "bar_format": null,
       "colour": null,
       "elapsed": 0.020329713821411133,
       "initial": 0,
       "n": 0,
       "ncols": null,
       "nrows": null,
       "postfix": null,
       "prefix": "",
       "rate": null,
       "total": 1000,
       "unit": "it",
       "unit_divisor": 1000,
       "unit_scale": false
      },
      "application/vnd.jupyter.widget-view+json": {
       "model_id": "fb95a4da885b41e4b9ef43dc5f72b977",
       "version_major": 2,
       "version_minor": 0
      },
      "text/plain": [
       "  0%|          | 0/1000 [00:00<?, ?it/s]"
      ]
     },
     "metadata": {},
     "output_type": "display_data"
    },
    {
     "name": "stdout",
     "output_type": "stream",
     "text": [
      "Generating...\n"
     ]
    },
    {
     "data": {
      "application/json": {
       "ascii": false,
       "bar_format": null,
       "colour": null,
       "elapsed": 0.01037454605102539,
       "initial": 0,
       "n": 0,
       "ncols": null,
       "nrows": null,
       "postfix": null,
       "prefix": "",
       "rate": null,
       "total": 1000,
       "unit": "it",
       "unit_divisor": 1000,
       "unit_scale": false
      },
      "application/vnd.jupyter.widget-view+json": {
       "model_id": "e03bd413f09c4a2b9f1c4caf921b5389",
       "version_major": 2,
       "version_minor": 0
      },
      "text/plain": [
       "  0%|          | 0/1000 [00:00<?, ?it/s]"
      ]
     },
     "metadata": {},
     "output_type": "display_data"
    },
    {
     "name": "stdout",
     "output_type": "stream",
     "text": [
      "Evaluating states...\n"
     ]
    },
    {
     "data": {
      "application/json": {
       "ascii": false,
       "bar_format": null,
       "colour": null,
       "elapsed": 0.010673046112060547,
       "initial": 0,
       "n": 0,
       "ncols": null,
       "nrows": null,
       "postfix": null,
       "prefix": "",
       "rate": null,
       "total": 1000,
       "unit": "it",
       "unit_divisor": 1000,
       "unit_scale": false
      },
      "application/vnd.jupyter.widget-view+json": {
       "model_id": "c7224888aa654b6e958c8d0b2b163f64",
       "version_major": 2,
       "version_minor": 0
      },
      "text/plain": [
       "  0%|          | 0/1000 [00:00<?, ?it/s]"
      ]
     },
     "metadata": {},
     "output_type": "display_data"
    },
    {
     "name": "stdout",
     "output_type": "stream",
     "text": [
      "\n",
      "Episode: 27\n",
      "Stepping...\n"
     ]
    },
    {
     "data": {
      "application/json": {
       "ascii": false,
       "bar_format": null,
       "colour": null,
       "elapsed": 0.010465383529663086,
       "initial": 0,
       "n": 0,
       "ncols": null,
       "nrows": null,
       "postfix": null,
       "prefix": "",
       "rate": null,
       "total": 1000,
       "unit": "it",
       "unit_divisor": 1000,
       "unit_scale": false
      },
      "application/vnd.jupyter.widget-view+json": {
       "model_id": "60b883b346b5450399918f1a46ad32e5",
       "version_major": 2,
       "version_minor": 0
      },
      "text/plain": [
       "  0%|          | 0/1000 [00:00<?, ?it/s]"
      ]
     },
     "metadata": {},
     "output_type": "display_data"
    },
    {
     "name": "stdout",
     "output_type": "stream",
     "text": [
      "Processing rewards...\n"
     ]
    },
    {
     "data": {
      "application/json": {
       "ascii": false,
       "bar_format": null,
       "colour": null,
       "elapsed": 0.015427350997924805,
       "initial": 0,
       "n": 0,
       "ncols": null,
       "nrows": null,
       "postfix": null,
       "prefix": "",
       "rate": null,
       "total": 1000,
       "unit": "it",
       "unit_divisor": 1000,
       "unit_scale": false
      },
      "application/vnd.jupyter.widget-view+json": {
       "model_id": "f7f000608144441e89cbd363e5cffbe7",
       "version_major": 2,
       "version_minor": 0
      },
      "text/plain": [
       "  0%|          | 0/1000 [00:00<?, ?it/s]"
      ]
     },
     "metadata": {},
     "output_type": "display_data"
    },
    {
     "name": "stdout",
     "output_type": "stream",
     "text": [
      "Generating...\n"
     ]
    },
    {
     "data": {
      "application/json": {
       "ascii": false,
       "bar_format": null,
       "colour": null,
       "elapsed": 0.010570287704467773,
       "initial": 0,
       "n": 0,
       "ncols": null,
       "nrows": null,
       "postfix": null,
       "prefix": "",
       "rate": null,
       "total": 1000,
       "unit": "it",
       "unit_divisor": 1000,
       "unit_scale": false
      },
      "application/vnd.jupyter.widget-view+json": {
       "model_id": "c041878a8e6b4f2087195e4e77186d27",
       "version_major": 2,
       "version_minor": 0
      },
      "text/plain": [
       "  0%|          | 0/1000 [00:00<?, ?it/s]"
      ]
     },
     "metadata": {},
     "output_type": "display_data"
    },
    {
     "name": "stdout",
     "output_type": "stream",
     "text": [
      "Evaluating states...\n"
     ]
    },
    {
     "data": {
      "application/json": {
       "ascii": false,
       "bar_format": null,
       "colour": null,
       "elapsed": 0.01084446907043457,
       "initial": 0,
       "n": 0,
       "ncols": null,
       "nrows": null,
       "postfix": null,
       "prefix": "",
       "rate": null,
       "total": 1000,
       "unit": "it",
       "unit_divisor": 1000,
       "unit_scale": false
      },
      "application/vnd.jupyter.widget-view+json": {
       "model_id": "497df8b65fc74d059485a7da59d4d72b",
       "version_major": 2,
       "version_minor": 0
      },
      "text/plain": [
       "  0%|          | 0/1000 [00:00<?, ?it/s]"
      ]
     },
     "metadata": {},
     "output_type": "display_data"
    },
    {
     "name": "stdout",
     "output_type": "stream",
     "text": [
      "\n",
      "Episode: 28\n",
      "Stepping...\n"
     ]
    },
    {
     "data": {
      "application/json": {
       "ascii": false,
       "bar_format": null,
       "colour": null,
       "elapsed": 0.011082887649536133,
       "initial": 0,
       "n": 0,
       "ncols": null,
       "nrows": null,
       "postfix": null,
       "prefix": "",
       "rate": null,
       "total": 1000,
       "unit": "it",
       "unit_divisor": 1000,
       "unit_scale": false
      },
      "application/vnd.jupyter.widget-view+json": {
       "model_id": "93866ba81ea445a3b672fffcb283ae3b",
       "version_major": 2,
       "version_minor": 0
      },
      "text/plain": [
       "  0%|          | 0/1000 [00:00<?, ?it/s]"
      ]
     },
     "metadata": {},
     "output_type": "display_data"
    },
    {
     "name": "stdout",
     "output_type": "stream",
     "text": [
      "Processing rewards...\n"
     ]
    },
    {
     "data": {
      "application/json": {
       "ascii": false,
       "bar_format": null,
       "colour": null,
       "elapsed": 0.014028072357177734,
       "initial": 0,
       "n": 0,
       "ncols": null,
       "nrows": null,
       "postfix": null,
       "prefix": "",
       "rate": null,
       "total": 1000,
       "unit": "it",
       "unit_divisor": 1000,
       "unit_scale": false
      },
      "application/vnd.jupyter.widget-view+json": {
       "model_id": "8c43a3a8c94c4b299aca6572ddff364a",
       "version_major": 2,
       "version_minor": 0
      },
      "text/plain": [
       "  0%|          | 0/1000 [00:00<?, ?it/s]"
      ]
     },
     "metadata": {},
     "output_type": "display_data"
    }
   ],
   "source": [
    "for i in range(experiment_repeat):\n",
    "    #\n",
    "    exp = neptune.init_run(project=\"pil-clemson/metamtl-rl\",\n",
    "                           capture_hardware_metrics=True,\n",
    "                           capture_stderr=True,\n",
    "                           capture_stdout=True,\n",
    "                          )\n",
    "    \n",
    "    #\n",
    "    if i > 0:\n",
    "        exp['sys/tags'].add(['Rerun'])\n",
    "\n",
    "    #\n",
    "    exp['EnvConfig'] = stringify_unsupported(environment_configuration)\n",
    "    exp['Hyperparameters'] = stringify_unsupported(hyperparameters)\n",
    "\n",
    "    #\n",
    "    env = TurnableGridEnvironment()\n",
    "\n",
    "    fem = SimHubClient('10.128.97.115', 44444, database_ip='10.125.9.39')\n",
    "    fem.set_experiment('./elmer_task/elmer_task.yml')\n",
    "\n",
    "    target_arr = np.load('target44.npy')[2]\n",
    "    log_vis_sim(target_arr, 'target', vrange=(293.15, 353.15))\n",
    "\n",
    "    reward_func = FEMReward(torch.tensor(target_arr), hyperparameters)\n",
    "\n",
    "    agent = Agent(env, fem, reward_func, QNet(), QNet(target_network=True), hyperparameters)\n",
    "\n",
    "    #\n",
    "    agent.train(hyperparameters['max_episode'])\n",
    "\n",
    "    #\n",
    "    exp['convergence'] = f'{agent.convergence_episode}({agent.convergence_step})' \\\n",
    "                        + f'/{agent.convergence_episode_gen}({agent.convergence_step_gen})'\n",
    "\n",
    "    #\n",
    "    agent.episode += 1\n",
    "    generated_result = agent.generate()\n",
    "\n",
    "    exp['generated_result_final'] = str(generated_result)\n",
    "    print('Visualizing result...')\n",
    "    log_vis_sim(generated_result.state_sim['output']['temperature_distribution'][2], 'generated_state_vis_final', \n",
    "                append=False, vrange=(293.15, 353.15))\n",
    "\n",
    "    exp['sys/tags'].add(['Done'])\n",
    "    if generated_result.state_error <= hyperparameters['terminal_error_threshold']:\n",
    "        exp['sys/tags'].add(['Sucessful'])\n",
    "\n",
    "    print('Done')\n",
    "\n",
    "    #\n",
    "    fem.close()\n",
    "\n",
    "    #\n",
    "    exp.stop()\n",
    "    \n",
    "    clear_output(wait=True)"
   ]
  },
  {
   "cell_type": "code",
   "execution_count": null,
   "metadata": {},
   "outputs": [],
   "source": [
    "raise NotImplementedError"
   ]
  },
  {
   "cell_type": "code",
   "execution_count": 1,
   "metadata": {},
   "outputs": [],
   "source": [
    "from SimHubClient import SimHubClient"
   ]
  },
  {
   "cell_type": "code",
   "execution_count": 55,
   "metadata": {},
   "outputs": [
    {
     "name": "stdout",
     "output_type": "stream",
     "text": [
      "/home/nwen/metamaterial-rl/elmer_task/elmer_script.py\n",
      "/home/nwen/metamaterial-rl/elmer_task/data\n",
      "Establishing working directory structure...\n",
      "Working directory structure established\n",
      "Copying script files...\n",
      "Copying /home/nwen/metamaterial-rl/elmer_task/elmer_script.py\n",
      "/home/nwen/metamaterial-rl/elmer_task/elmer_script.py copied\n",
      "Copying data files...\n",
      "Copying /home/nwen/metamaterial-rl/elmer_task/data\n",
      "/home/nwen/metamaterial-rl/elmer_task/data copied\n",
      "Entry script set to /scratch1/nwen/simhub/workspaces/scripts/elmer_script.py\n"
     ]
    }
   ],
   "source": [
    "fem = SimHubClient('10.128.97.115', 44444, database_ip='10.125.9.39')\n",
    "fem.set_experiment('./elmer_task/elmer_task.yml')\n",
    "\n"
   ]
  },
  {
   "cell_type": "code",
   "execution_count": 56,
   "metadata": {},
   "outputs": [
    {
     "data": {
      "text/plain": [
       "{'angle_matrix': array([[ 45, -45],\n",
       "        [-45,  45]])}"
      ]
     },
     "execution_count": 56,
     "metadata": {},
     "output_type": "execute_result"
    }
   ],
   "source": [
    "state = TurnableGridState()\n",
    "state['angle_matrix'] = np.array(\n",
    "    [[45, -45],\n",
    "     [-45, 45]]\n",
    ")\n",
    "# state['angle_matrix'] = np.array(\n",
    "#     [[45, 10, -45],\n",
    "#      [80, 10, -80],\n",
    "#      [-45, -10, 45]]\n",
    "# )\n",
    "# state['angle_matrix'] = np.array(\n",
    "#     [[45, 80, -80, -45],\n",
    "#      [10, 45, -45, -10],\n",
    "#      [-10, -45, 45, 10],\n",
    "#      [-45, -80, 80, 45]]\n",
    "# )\n",
    "state"
   ]
  },
  {
   "cell_type": "code",
   "execution_count": 57,
   "metadata": {},
   "outputs": [],
   "source": [
    "task = fem.submit_task(state)"
   ]
  },
  {
   "cell_type": "code",
   "execution_count": 58,
   "metadata": {},
   "outputs": [
    {
     "data": {
      "text/plain": [
       "('99209d30352c70ba0a6a8e37ce0935fd', None)"
      ]
     },
     "execution_count": 58,
     "metadata": {},
     "output_type": "execute_result"
    }
   ],
   "source": [
    "task"
   ]
  },
  {
   "cell_type": "code",
   "execution_count": 59,
   "metadata": {},
   "outputs": [
    {
     "name": "stdout",
     "output_type": "stream",
     "text": [
      "Cached: 0(0.00%)\n",
      "Loaded: 0(0.00%)\n",
      "Duplicated: 0(0.00%)\n",
      "New: 1(100.00%)\n"
     ]
    },
    {
     "data": {
      "application/json": {
       "ascii": false,
       "bar_format": null,
       "colour": null,
       "elapsed": 0.011442184448242188,
       "initial": 0,
       "n": 0,
       "ncols": null,
       "nrows": null,
       "postfix": null,
       "prefix": "",
       "rate": null,
       "total": 1,
       "unit": "it",
       "unit_divisor": 1000,
       "unit_scale": false
      },
      "application/vnd.jupyter.widget-view+json": {
       "model_id": "faf6bb9e3131436b865f91d7854c0111",
       "version_major": 2,
       "version_minor": 0
      },
      "text/plain": [
       "  0%|          | 0/1 [00:00<?, ?it/s]"
      ]
     },
     "metadata": {},
     "output_type": "display_data"
    },
    {
     "name": "stdout",
     "output_type": "stream",
     "text": [
      "Successful: 1(100.00%)\n",
      "Failed: 0(0.00%)\n"
     ]
    }
   ],
   "source": [
    "fem.wait()"
   ]
  },
  {
   "cell_type": "code",
   "execution_count": 44,
   "metadata": {},
   "outputs": [
    {
     "data": {
      "text/plain": [
       "{'_id': ObjectId('6406d35f0cc664731b1c9c07'),\n",
       " 'experiment': 'elmer_test',\n",
       " 'session': '7372256b-2309-441e-93e4-4c254e04b6ba',\n",
       " 'input': {'angle_matrix': array([[ 45,  10, -45],\n",
       "         [ 80,  10, -80],\n",
       "         [-45, -10,  45]])},\n",
       " 'input_hash': '3051fd6c50e328a5b43f8cbb221c60e2',\n",
       " 'status': 'done',\n",
       " 'metrics': {'submit_timestamp': datetime.datetime(2023, 3, 7, 1, 2, 7, 788000),\n",
       "  'wait_time': 8.853928,\n",
       "  'mesh_time': 1.783788,\n",
       "  'solve_time': 10.195265,\n",
       "  'extract_time': 1.066667,\n",
       "  'mesh_retries': 0,\n",
       "  'execution_timestamp': datetime.datetime(2023, 3, 7, 1, 2, 14, 312000),\n",
       "  'completion_timestamp': datetime.datetime(2023, 3, 7, 1, 2, 29, 688000)},\n",
       " 'worker': ['node1830-0307-0102-0'],\n",
       " 'output': {'temperature_distribution': array([[  0.        ,   4.66666667,   9.33333333, ..., 126.        ,\n",
       "          130.66666667, 135.33333333],\n",
       "         [  0.        ,   0.        ,   0.        , ..., 135.33333333,\n",
       "          135.33333333, 135.33333333],\n",
       "         [353.15      , 352.23748308, 350.76541077, ..., 296.88782629,\n",
       "          295.42551177, 294.22732024]])},\n",
       " 'output_files': '{}'}"
      ]
     },
     "execution_count": 44,
     "metadata": {},
     "output_type": "execute_result"
    }
   ],
   "source": [
    "fem.get_result(task[0])"
   ]
  },
  {
   "cell_type": "code",
   "execution_count": null,
   "metadata": {},
   "outputs": [],
   "source": [
    "np.save('target.npy', fem.get_result(task[0])['output']['temperature_distribution'])"
   ]
  },
  {
   "cell_type": "code",
   "execution_count": 38,
   "metadata": {},
   "outputs": [],
   "source": [
    "fem.close()"
   ]
  },
  {
   "cell_type": "code",
   "execution_count": null,
   "metadata": {},
   "outputs": [],
   "source": [
    "import matplotlib.pyplot as plt"
   ]
  },
  {
   "cell_type": "code",
   "execution_count": null,
   "metadata": {},
   "outputs": [],
   "source": []
  },
  {
   "cell_type": "code",
   "execution_count": null,
   "metadata": {},
   "outputs": [],
   "source": []
  },
  {
   "cell_type": "code",
   "execution_count": null,
   "metadata": {},
   "outputs": [],
   "source": [
    "plt.imshow(np.load('target.npy')[2].reshape(30, 30))\n",
    "plt.gcf().savefig('target.png')"
   ]
  },
  {
   "cell_type": "code",
   "execution_count": null,
   "metadata": {},
   "outputs": [],
   "source": [
    "plt.show()"
   ]
  },
  {
   "cell_type": "code",
   "execution_count": 107,
   "metadata": {},
   "outputs": [
    {
     "data": {
      "text/plain": [
       "323.1465194771459"
      ]
     },
     "execution_count": 107,
     "metadata": {},
     "output_type": "execute_result"
    }
   ],
   "source": [
    "t = np.load('target44.npy')[2].reshape(40, 40)\n",
    "\n",
    "np.mean(t[17:24,17:24])"
   ]
  },
  {
   "cell_type": "code",
   "execution_count": null,
   "metadata": {},
   "outputs": [],
   "source": []
  },
  {
   "cell_type": "code",
   "execution_count": 108,
   "metadata": {},
   "outputs": [],
   "source": [
    "mask = np.full((40, 40), False)\n",
    "mask[17:24, 17:24] = True\n",
    "value = 0.5"
   ]
  },
  {
   "cell_type": "code",
   "execution_count": 109,
   "metadata": {
    "tags": []
   },
   "outputs": [],
   "source": [
    "target = mask, value"
   ]
  },
  {
   "cell_type": "code",
   "execution_count": 110,
   "metadata": {
    "tags": []
   },
   "outputs": [
    {
     "data": {
      "text/plain": [
       "array([[ True,  True,  True,  True,  True,  True,  True],\n",
       "       [ True,  True,  True,  True,  True,  True,  True],\n",
       "       [ True,  True,  True,  True,  True,  True,  True],\n",
       "       [ True,  True,  True,  True,  True,  True,  True],\n",
       "       [ True,  True,  True,  True,  True,  True,  True],\n",
       "       [ True,  True,  True,  True,  True,  True,  True],\n",
       "       [ True,  True,  True,  True,  True,  True,  True]])"
      ]
     },
     "execution_count": 110,
     "metadata": {},
     "output_type": "execute_result"
    }
   ],
   "source": [
    "target[0][17:24, 17:24]"
   ]
  },
  {
   "cell_type": "code",
   "execution_count": 111,
   "metadata": {
    "tags": []
   },
   "outputs": [],
   "source": [
    "def sector_mask(shape,centre,radius,angle_range):\n",
    "    \"\"\"\n",
    "    Return a boolean mask for a circular sector. The start/stop angles in  \n",
    "    `angle_range` should be given in clockwise order.\n",
    "    \"\"\"\n",
    "\n",
    "    x,y = np.ogrid[:shape[0],:shape[1]]\n",
    "    cx,cy = centre\n",
    "    tmin,tmax = np.deg2rad(angle_range)\n",
    "\n",
    "    # ensure stop angle > start angle\n",
    "    if tmax < tmin:\n",
    "            tmax += 2*np.pi\n",
    "\n",
    "    # convert cartesian --> polar coordinates\n",
    "    r2 = (x-cx)*(x-cx) + (y-cy)*(y-cy)\n",
    "    theta = np.arctan2(x-cx,y-cy) - tmin\n",
    "\n",
    "    # wrap angles between 0 and 2*pi\n",
    "    theta %= (2*np.pi)\n",
    "\n",
    "    # circular mask\n",
    "    circmask = r2 <= radius*radius\n",
    "\n",
    "    # angular mask\n",
    "    anglemask = theta <= (tmax-tmin)\n",
    "\n",
    "    return circmask*anglemask"
   ]
  },
  {
   "cell_type": "code",
   "execution_count": 112,
   "metadata": {
    "tags": []
   },
   "outputs": [
    {
     "data": {
      "text/plain": [
       "323.14499559548494"
      ]
     },
     "execution_count": 112,
     "metadata": {},
     "output_type": "execute_result"
    }
   ],
   "source": [
    "np.mean(t[sector_mask((40, 40), (20, 20), 5, (0, 360))])"
   ]
  },
  {
   "cell_type": "code",
   "execution_count": 113,
   "metadata": {
    "tags": []
   },
   "outputs": [],
   "source": [
    "t[sector_mask((40, 40), (20, 20), 5, (0, 360))] = 0"
   ]
  },
  {
   "cell_type": "code",
   "execution_count": 114,
   "metadata": {
    "tags": []
   },
   "outputs": [
    {
     "data": {
      "application/vnd.plotly.v1+json": {
       "config": {
        "plotlyServerURL": "https://plot.ly"
       },
       "data": [
        {
         "coloraxis": "coloraxis",
         "hovertemplate": "x: %{x}<br>y: %{y}<br>color: %{z}<extra></extra>",
         "name": "0",
         "type": "heatmap",
         "xaxis": "x",
         "yaxis": "y",
         "z": [
          [
           353.15,
           352.64176774950556,
           352.1070998888051,
           351.20021339456116,
           350.5030486920469,
           349.7281748441847,
           348.8754243522476,
           347.4496427830436,
           346.39929125107454,
           345.2683788988598,
           344.0508705846997,
           342.0380544599507,
           340.5475076837092,
           338.9361931168422,
           337.22141799199994,
           334.48806488121494,
           332.5664990487872,
           330.5685853800421,
           328.50087990663974,
           325.30415279032866,
           323.148286935472,
           320.99226741950923,
           318.8514560971653,
           315.7273231145665,
           313.72971818404557,
           311.80829257183643,
           309.96614587076317,
           307.36055864204025,
           305.7494722187244,
           304.25917628148153,
           302.24674013086826,
           301.02949163819017,
           299.89879784955417,
           298.84877663284465,
           297.4233593249485,
           296.570664842208,
           295.79519498171055,
           295.09853140037933,
           294.1922071469125,
           293.6577311088465
          ],
          [
           353.15,
           352.6315442679677,
           351.8947035663603,
           351.34176367645114,
           350.4564451624955,
           349.77909738136685,
           348.68659432926046,
           347.7905530038186,
           346.53691511514216,
           345.04362652649235,
           344.02770397988456,
           342.1036377496681,
           340.74041464938824,
           338.5537587542463,
           336.83964796015266,
           335.06287321789625,
           332.6139962897422,
           330.0626543247221,
           327.73166698464047,
           325.4438465017432,
           323.0268841911023,
           320.95511626730496,
           318.60940654639495,
           316.224626826554,
           313.61470450749994,
           311.23341565938836,
           309.45683534214834,
           307.742924800774,
           305.5565755863504,
           304.19480174459625,
           302.2699213336334,
           301.25612091249695,
           299.7612072217224,
           298.5036456275245,
           297.6429424626792,
           296.5732211868501,
           295.8009359119465,
           295.01986053398525,
           294.2961529237875,
           293.72242583614985
          ],
          [
           353.1499999999999,
           352.57616653656567,
           352.16675927231825,
           351.5938103803702,
           350.75971472362596,
           349.7044101886383,
           348.7126246059148,
           347.72904852353435,
           346.6121097233745,
           345.40778216984086,
           343.96549218609647,
           342.3954970149967,
           340.93224454307995,
           338.8283662037361,
           336.99678259719417,
           334.7776123872756,
           332.73561160227655,
           330.28819992101234,
           328.064304638865,
           325.2475653152926,
           323.3297042194844,
           320.442844571484,
           318.24206482479605,
           315.63948216773366,
           313.5067639581614,
           311.49679488768726,
           309.29962672946414,
           307.4682720234445,
           305.3651855392073,
           303.9016848763161,
           302.31915270429954,
           300.89010383207534,
           299.6860331206543,
           298.56938664989275,
           297.57236036011886,
           296.61965266507326,
           295.54924560717717,
           294.879393433347,
           294.161771501173,
           293.67366205959866
          ],
          [
           353.1500000000001,
           352.72340893543225,
           352.30838813721743,
           351.7314066389485,
           351.12386382270404,
           350.1559368600087,
           348.89463007742734,
           347.6416952005316,
           346.69464271127055,
           345.75179588017886,
           344.18966749889995,
           342.8974584574059,
           341.70921692501224,
           338.7281747194936,
           336.9384497450391,
           335.08741516182994,
           333.1020106630247,
           331.06560804895025,
           328.9332338686232,
           326.6647766066543,
           323.1486517898727,
           319.6281502698328,
           317.363377508591,
           315.2281144363255,
           313.1944671868406,
           311.2091626738853,
           309.3578535755974,
           307.5683551987515,
           304.5878732716526,
           303.39978555758046,
           302.1078312829427,
           300.54607289555844,
           299.60344999469567,
           298.6566248464479,
           297.4038994678406,
           296.1427840668422,
           295.17550556505654,
           294.56738149873,
           294.0004988106863,
           293.5650759809355
          ],
          [
           353.15,
           352.8128074802257,
           352.5020653490139,
           351.99320431978424,
           351.0354198773536,
           349.95161606746524,
           348.5763741744116,
           347.6567467534481,
           346.7191990210435,
           345.17557434061445,
           343.83366016454096,
           343.42152386303883,
           341.6024980777426,
           339.27889709304293,
           337.49828943325656,
           335.68615757908947,
           333.777323690388,
           331.746726919376,
           327.3753943679489,
           324.4281217535178,
           323.1483993990064,
           321.86826583192635,
           318.918617982534,
           314.5478428033864,
           312.5190386109946,
           310.6103197642031,
           308.7979986074814,
           307.0175035987428,
           304.6946776312153,
           302.87582769287246,
           302.4637321925458,
           301.12204447983817,
           299.5788362936547,
           298.6415152364961,
           297.72210698304946,
           296.34713503517605,
           295.2635058096933,
           294.3061054511541,
           293.79721611118566,
           293.48650937023604
          ],
          [
           353.15000000000003,
           352.82026416570153,
           352.5704105829184,
           351.91439919186945,
           350.8553705865412,
           350.03544776587705,
           348.60776794444985,
           347.68689621016335,
           346.1607076050478,
           344.84187829325305,
           344.370739460223,
           343.9345741977602,
           342.15538784469675,
           339.61301281627505,
           337.8986763623244,
           336.114343238479,
           334.2239859949398,
           330.0948041514506,
           327.8177251880425,
           324.9266147182162,
           323.1480327510852,
           321.369552357396,
           318.4764126639782,
           316.20139844478945,
           312.0723010571592,
           310.1820763421307,
           308.39760455571593,
           306.68331302719827,
           304.14190089762576,
           302.3629165456879,
           301.9268134905438,
           301.4556922386236,
           300.13704677120876,
           298.6113211045452,
           297.69067056468646,
           296.26331283305,
           295.44356955956516,
           294.384734864373,
           293.72887909866535,
           293.4790713168937
          ],
          [
           353.15,
           352.8678754633082,
           352.60964861057266,
           351.91298454534774,
           350.7587267599279,
           349.87709285604774,
           348.3094210574411,
           347.1454496127923,
           345.8408393907132,
           345.0557067955772,
           344.5765325037187,
           344.1438486231662,
           342.7718291490841,
           339.9805299679281,
           338.2991312954928,
           334.71236298765115,
           332.6885282597509,
           330.54065428603377,
           328.2609134953317,
           325.42427723939556,
           323.1477842723772,
           320.8716803071062,
           318.0333513937968,
           315.7554076552322,
           313.6062997110969,
           311.5838473222194,
           307.9971450055458,
           306.3157160672854,
           303.52559154409863,
           302.15374846674376,
           301.7210987454097,
           301.2419860201447,
           300.45693610693405,
           299.1524532543794,
           297.9888062899409,
           296.4215955528119,
           295.54014935874244,
           294.38617597752886,
           293.6896509443235,
           293.4314743666309
          ],
          [
           353.15,
           352.8621941176531,
           352.6028763126504,
           351.6946200042197,
           350.83018109569423,
           349.94683239249724,
           348.45848189332884,
           346.6974637963316,
           346.0628575891669,
           345.1929930329759,
           344.7144350854675,
           343.9545798471941,
           340.56315912158163,
           338.9371978548957,
           337.2251998937003,
           335.383028849934,
           333.3639228121808,
           331.1681993883131,
           328.88556033761654,
           326.1139523597889,
           323.1540723292703,
           320.1817273001503,
           317.408882815796,
           315.12767793146196,
           312.9310870959036,
           310.91308347548875,
           309.071082095953,
           307.3590759189818,
           305.7329635101463,
           302.3430784916542,
           301.5832570453221,
           301.1047639295775,
           300.23501400835767,
           299.6005052537491,
           297.839633073229,
           296.3518639212683,
           295.4687043575895,
           294.6044326287997,
           293.6964310847354,
           293.437156136306
          ],
          [
           353.1499999999999,
           352.8452708501745,
           352.5567175387207,
           351.7713667195253,
           350.9163222165792,
           349.4439245198696,
           347.55218336440123,
           346.8317122540775,
           346.1979895897143,
           345.2626822404082,
           344.45618520522135,
           343.9244286108378,
           340.92627003725033,
           339.3378919355931,
           337.65390943549653,
           335.8304364557746,
           333.772489561016,
           331.61449350127185,
           329.3304706999925,
           326.6132784373126,
           323.14613343762113,
           319.68221531885814,
           316.9641003890406,
           314.6812616477605,
           312.5226308810721,
           310.46561526377633,
           308.6423237624558,
           306.95838343501663,
           305.3697760619142,
           302.3733191930787,
           301.84156329534187,
           301.0351223049954,
           300.0999607059258,
           299.4663456827182,
           298.7459887703318,
           296.85435598222466,
           295.38259800086763,
           294.52771839676694,
           293.7439244703197,
           293.46404385779783
          ],
          [
           353.15,
           352.7899331826098,
           352.4884271462455,
           351.88622442575723,
           350.43037462580537,
           348.5437607128072,
           347.3412899368503,
           346.63173943180857,
           345.99391914781427,
           345.071585405887,
           344.2693545084594,
           343.8547742617925,
           341.28740888811893,
           339.73870501327133,
           338.2574807453301,
           336.4604158857786,
           334.44857372888333,
           332.0609644620877,
           329.77596143957413,
           324.3610363257818,
           323.14633509473134,
           321.9344288237328,
           316.5187398117883,
           314.2346752710312,
           311.84673180152646,
           309.8355565292904,
           308.03868795501484,
           306.5575747407086,
           305.00856103199953,
           302.4430768211185,
           302.02845991258334,
           301.22627255689315,
           300.3040505956731,
           299.6663464985371,
           298.95692934969145,
           297.75465213292995,
           295.8680731885963,
           294.41292681633183,
           293.81087835316475,
           293.5100207437913
          ],
          [
           353.15000000000003,
           352.7289579652984,
           352.3216304071153,
           351.4182927979234,
           349.53996582667827,
           348.0272288263511,
           347.24749537099655,
           346.54207776379974,
           345.6869589164152,
           344.8678695015369,
           343.92516605012963,
           343.5706653811601,
           341.79266308425156,
           340.3025924905985,
           338.68620201286313,
           336.9079949443054,
           334.89906465437116,
           330.48790014514844,
           327.91436931152685,
           325.0299965405054,
           323.1465334451185,
           321.2650771740156,
           318.3806747000983,
           315.8070154688403,
           311.3963670472158,
           309.3879257429279,
           307.60992439153364,
           305.9936991359367,
           304.50319855464244,
           302.7274308860052,
           302.37266261501793,
           301.429996915637,
           300.61101900221746,
           299.7560212502032,
           299.0507358572053,
           298.271149499518,
           296.7586873966168,
           294.8803212457442,
           293.9771461417646,
           293.5703882361843
          ],
          [
           353.15,
           352.6097887594444,
           352.0028482753008,
           350.7195844596591,
           349.60421267761967,
           348.1838795696776,
           347.04899958585844,
           346.29877704506066,
           345.53256542412726,
           344.8341938631146,
           343.9404770042421,
           343.16041295447894,
           342.0045328569169,
           340.31665620850663,
           338.6059853483981,
           336.4741519822624,
           334.18505473579086,
           331.37657802991015,
           328.7698101602582,
           325.7169464911555,
           323.2482205045206,
           320.5777295472075,
           317.5250863523617,
           314.9185318859371,
           312.1103952081729,
           309.82159024548343,
           307.68999409336766,
           305.9795695769291,
           304.2024349952306,
           303.13107536268035,
           302.36104222435426,
           301.46362889120564,
           300.7653958037256,
           299.99932137384474,
           299.2492224424161,
           298.11455004606506,
           296.6944832171565,
           295.5793290437482,
           294.2963330647529,
           293.6884956159556
          ],
          [
           353.15000000000003,
           352.60296520859094,
           351.9914232747367,
           350.969679720017,
           349.74465745373186,
           348.8670167826508,
           347.8913395601084,
           347.0620333510551,
           346.20614283869014,
           345.3509937878789,
           344.1472404182731,
           343.14780044977437,
           342.22832187175504,
           340.19254608562653,
           338.81703229134365,
           336.3753804921499,
           333.5820654616092,
           331.6008975443408,
           328.02597040647305,
           325.97856157781644,
           323.1462992255106,
           320.31576152450754,
           318.2686289528871,
           314.69419875659975,
           312.7132800497423,
           309.92029515472905,
           307.47908239170454,
           306.1037147732243,
           304.0684198722911,
           303.0260894533379,
           302.1506793283659,
           300.9471328880296,
           300.0921311523121,
           299.2363863614923,
           298.4070807453604,
           297.43159428808474,
           296.5541231305312,
           295.32930510307557,
           294.3079472420636,
           293.69634053295675
          ],
          [
           353.15,
           352.62098728412496,
           352.0230885245169,
           351.3514929774039,
           350.0630751955805,
           349.2833813007033,
           348.42570890973354,
           347.0694032086496,
           346.2109901696493,
           345.35272076865215,
           344.143792949169,
           343.09051436248797,
           342.00060401853233,
           340.6814693901149,
           337.80518462054215,
           335.0210809957391,
           333.0608192227123,
           331.1024528501125,
           327.3563045308369,
           324.22671971240493,
           323.14630639107145,
           322.06673118997935,
           318.93798827322775,
           315.192488200493,
           313.2343758344051,
           311.27440534119677,
           308.49065071706525,
           306.0809203940197,
           304.2960064557883,
           303.206388192181,
           302.1533555499682,
           300.94475473449216,
           300.0867161192737,
           299.22853205642554,
           297.8729366701373,
           297.0154014989519,
           296.2358289004433,
           294.94760489845135,
           294.2761085841415,
           293.6783172658367
          ],
          [
           353.15,
           352.6289379039159,
           352.05809379273705,
           351.36389171718866,
           350.15320132852764,
           349.2943903285072,
           348.4356682004165,
           346.9841623080266,
           346.11440826096396,
           344.8894819040588,
           344.02003872763106,
           342.8581953925816,
           342.07965175515574,
           339.7131009561589,
           336.70124286873846,
           333.48376326165544,
           331.3279703151294,
           329.1931785450829,
           325.30430503779695,
           323.78582239563076,
           323.14627656097764,
           322.5065391603082,
           320.98909411412694,
           317.101149023955,
           314.96673308082484,
           312.8113426319021,
           309.59443871103514,
           306.583012511948,
           304.21688837819516,
           303.43864573010035,
           302.27706058471813,
           301.4078149840544,
           300.1831696271095,
           299.31361506811254,
           297.86262560047845,
           297.0041245321014,
           296.14553115906966,
           294.93514142058063,
           294.2410889074431,
           293.6703565780256
          ],
          [
           353.15,
           352.6112077540343,
           352.1024618963676,
           351.33600514267096,
           350.10902502441627,
           349.2387253090428,
           348.12154085654487,
           346.7753542642216,
           345.8781448040535,
           344.6145192637366,
           343.71765841742626,
           342.4637479018766,
           341.1457371859797,
           338.3841890992494,
           334.9104904182427,
           332.7300636599825,
           330.5720883077827,
           326.3759634024084,
           324.5628593687796,
           323.8441242324523,
           0,
           322.44821861530255,
           321.7292343240689,
           319.91743732196016,
           315.7223225689276,
           313.564763126754,
           311.38478033267796,
           307.9117271400053,
           305.1506335615195,
           303.8328962463475,
           302.5792931945357,
           301.68265583161985,
           300.41934988569693,
           299.52236875605763,
           298.17652437562873,
           297.0595613388358,
           296.1894535618892,
           294.96273723809725,
           294.1962353247244,
           293.6880560621961
          ],
          [
           353.15,
           352.61553944892245,
           351.98683342407503,
           351.34447046165957,
           349.9989637050371,
           349.1011301163339,
           347.84668007613914,
           346.4339334218679,
           345.57814321357887,
           344.1660385410935,
           343.22463956129684,
           341.75679042162756,
           339.8280227131908,
           337.8462682525881,
           334.13606176671226,
           331.9529346133197,
           327.61829418836555,
           0,
           0,
           0,
           0,
           0,
           0,
           0,
           318.6751768662572,
           314.34161073622056,
           312.15894135301926,
           308.44951031189294,
           306.46812386583633,
           304.5397010426769,
           303.0721830007342,
           302.13100799622333,
           300.71924566014036,
           299.86366498313066,
           298.4512643379641,
           297.1971824937425,
           296.29957392659014,
           294.9544006156761,
           294.31219161206263,
           293.6866151516755
          ],
          [
           353.15,
           352.4897185738183,
           351.9062576973661,
           351.22872936706506,
           349.81684566448666,
           348.47345056386234,
           347.47651121438344,
           346.07235945966147,
           345.07600542851543,
           344.07993375072334,
           341.6424661666405,
           340.7876455658766,
           339.25394457711246,
           337.29601828201527,
           333.33652171249463,
           328.85344358880405,
           0,
           0,
           0,
           0,
           0,
           0,
           0,
           0,
           0,
           317.4401766103299,
           312.95820953268543,
           308.99963932862875,
           307.0420850639592,
           305.50866944381164,
           304.65399669942406,
           302.21705848386404,
           301.2212071990504,
           300.2250753962037,
           298.821237670975,
           297.8245204822682,
           296.4815772786273,
           295.0700317132711,
           294.3926649132737,
           293.80940924839234
          ],
          [
           353.15000000000003,
           352.53298731252266,
           351.72762198162366,
           351.0558216677131,
           349.08675046278023,
           348.02095483973875,
           346.955951147727,
           345.4566677801022,
           344.3934227100226,
           343.33086106126837,
           340.3856382595009,
           339.3431370861675,
           337.3826286373207,
           335.1870163822315,
           329.9054173547277,
           327.1406511100888,
           0,
           0,
           0,
           0,
           0,
           0,
           0,
           0,
           0,
           319.15078998569186,
           316.38839070219444,
           311.1080383255723,
           308.91296283200666,
           306.95297726872275,
           305.9111549624897,
           302.9658950978044,
           301.90351998195507,
           300.8404603642813,
           299.3414321805754,
           298.27660344806105,
           297.21097593550917,
           295.242719486066,
           294.57102343983104,
           293.7661221994651
          ],
          [
           353.15000000000003,
           352.33460662556786,
           351.5096209363229,
           350.7818241068828,
           348.1390880076409,
           347.02252377938134,
           345.9092328305881,
           344.36605213489753,
           343.2553358398978,
           338.97275292649886,
           338.3080134419967,
           337.6807171987428,
           336.5797378267006,
           330.951349907457,
           327.9094871749068,
           326.7010187522497,
           0,
           0,
           0,
           0,
           0,
           0,
           0,
           0,
           0,
           319.5908407455003,
           318.3818252311902,
           315.34270143222597,
           309.71561477010323,
           308.61487016377725,
           307.9876906343949,
           307.3230870507122,
           303.04323542294105,
           301.9332164681456,
           300.3910126596836,
           299.2784337347007,
           298.1625984502497,
           295.51615236672677,
           294.7885603094086,
           293.9644648938736
          ],
          [
           353.15,
           352.2504566315052,
           351.2845301419079,
           349.31398691876717,
           346.8638847508173,
           343.96889489155745,
           342.4644342996113,
           341.28800983655896,
           339.98158498525765,
           338.5375935091515,
           337.51101765065147,
           336.38382456259154,
           333.29925504699355,
           330.0419754998961,
           327.68273003006425,
           0,
           0,
           0,
           0,
           0,
           0,
           0,
           0,
           0,
           0,
           0,
           318.4868999259497,
           316.2068199123824,
           312.9953473825774,
           309.91224191824654,
           308.7845421621919,
           307.75819706955497,
           306.31446739464684,
           305.00829994056545,
           303.8321113777651,
           302.3279600139715,
           299.4335622779157,
           296.98383131034575,
           295.0172674679668,
           294.0488323435877
          ],
          [
           353.1500000000001,
           352.3613005812879,
           351.534406639946,
           350.49051072290945,
           348.8856050751684,
           347.75151203995176,
           346.62142976403254,
           341.67373676843897,
           340.9140396571551,
           339.77090082266807,
           339.07864659586613,
           337.71637426408745,
           332.9329792972352,
           332.14351919863697,
           328.71855841970205,
           326.42322794359734,
           0,
           0,
           0,
           0,
           0,
           0,
           0,
           0,
           0,
           319.87190113740087,
           317.5772698407601,
           314.15148233818275,
           313.361752161197,
           308.5793067377251,
           307.21719042890174,
           306.52507329442915,
           305.3821700495387,
           304.62263432658915,
           299.6764915871631,
           298.5467678914616,
           297.41303539126,
           295.8086402264162,
           294.7649534424768,
           293.9380535732438
          ],
          [
           353.1499999999999,
           352.43848247839907,
           351.78982537819707,
           350.8521537799749,
           349.2883207643781,
           348.3419289418131,
           347.30092553966676,
           345.74013871624317,
           343.71178887080515,
           342.5940061872458,
           341.02162360515865,
           339.65874652150944,
           336.9380293049421,
           331.75728503733893,
           330.9663430333243,
           327.8445341743263,
           0,
           0,
           0,
           0,
           0,
           0,
           0,
           0,
           0,
           318.4516369594149,
           315.3290819334665,
           314.5378529724468,
           309.35697906924213,
           306.637031606334,
           305.2745495482018,
           303.70265009278705,
           302.58521541299365,
           300.5572459347597,
           298.9969508405928,
           297.95627565680724,
           297.0101817747094,
           295.4468387036676,
           294.5093765315596,
           293.86083747618176
          ],
          [
           353.15,
           352.49747838505544,
           351.9118596421784,
           351.0645989433524,
           349.5987170645299,
           348.62238998402023,
           347.7352277886718,
           346.27126983002455,
           344.60545549682234,
           343.04639868892144,
           342.00831400382515,
           340.81425925501134,
           339.1463729667872,
           335.54241289651594,
           330.18194100674725,
           328.42239202453413,
           0,
           0,
           0,
           0,
           0,
           0,
           0,
           0,
           0,
           317.8737938377214,
           316.113780598101,
           310.7518386373155,
           307.14900830842146,
           305.48165657224433,
           304.2879099632089,
           303.2501448748281,
           301.6915730808806,
           300.02614208811195,
           298.56264914556175,
           297.67576890214946,
           296.69975171937193,
           295.2343323375223,
           294.3872928156535,
           293.801810394323
          ],
          [
           353.1499999999999,
           352.5542334370092,
           352.0026100899522,
           351.38617487015154,
           349.82453887062724,
           348.9014009111285,
           348.0625827456249,
           346.6783270438922,
           345.7557093711881,
           343.7435558115965,
           342.7690061174981,
           341.84921139119166,
           340.80583350851725,
           337.2637811904687,
           333.6889106170363,
           328.99375096779835,
           327.3891777705686,
           0,
           0,
           0,
           0,
           0,
           0,
           0,
           318.9074523663356,
           317.3024443998614,
           312.6043915263124,
           309.03080395630576,
           305.48980301559317,
           304.4445211027913,
           303.5273058376924,
           302.55306017130704,
           300.54145923589346,
           299.61913562733355,
           298.2353225382498,
           297.39677254126786,
           296.4739291478722,
           294.91274785173994,
           294.2965111113905,
           293.7450334918317
          ],
          [
           353.1499999999999,
           352.56966918134447,
           352.04617545921883,
           351.43669948802324,
           349.9825476375277,
           349.0997488483226,
           348.21709523779384,
           346.97393053474127,
           346.0917167919054,
           344.28812219269923,
           343.3664425097767,
           342.40785325139603,
           341.7324164941757,
           338.92422662077496,
           335.85379710052104,
           332.3034546506336,
           327.79954670339595,
           326.3503952621576,
           324.91394827611464,
           323.67409424672377,
           0,
           322.6221430065983,
           321.383608781332,
           319.94671796256637,
           318.49716000201744,
           313.9891727269244,
           310.4402508077156,
           307.370876233919,
           304.56356166900827,
           303.88826979301274,
           302.9299716742179,
           302.00858156402273,
           300.2054760185757,
           299.3235510862454,
           298.0807939804311,
           297.1984293276922,
           296.3159186123651,
           294.86219600498754,
           294.25293309999154,
           293.72958839762487
          ],
          [
           353.15,
           352.5734914964074,
           352.0595291116669,
           351.44857624021165,
           350.1702877318865,
           349.2062874468661,
           348.3452497106524,
           347.13250751360823,
           346.2718016890441,
           345.4112669883409,
           343.80724601045097,
           342.99170359284926,
           341.76388064470626,
           339.171083264097,
           337.5133270028874,
           334.4456350174967,
           330.9213461814629,
           326.59902254629844,
           325.79735926468777,
           324.0304178051677,
           323.14842382410507,
           322.26762767124245,
           320.5002908566893,
           319.69823636716,
           315.37063216682714,
           311.847912191873,
           308.7814275068271,
           307.12419189273095,
           304.53206133119073,
           303.30445483137214,
           302.4892033913685,
           300.8855357562421,
           300.0253015569876,
           299.16489644204876,
           297.95257739136207,
           297.0918389546117,
           296.12810819643613,
           294.8503214134511,
           294.16342163756997,
           293.72591348430785
          ],
          [
           353.1499999999999,
           352.5628649752142,
           352.0213586532822,
           351.4135620022757,
           350.1192138609198,
           349.23957258620067,
           348.3868795428861,
           347.10814055726803,
           346.33371208150254,
           345.0557006618004,
           344.04263629048233,
           343.184845267985,
           341.87664096184,
           339.4348163171996,
           337.7823955374548,
           336.10381704861413,
           333.03868364325933,
           329.08279410184,
           324.9878807814946,
           324.587132810773,
           323.1492752218363,
           321.71114237232143,
           321.31018161829036,
           317.20834473831763,
           313.25439460691166,
           310.19063885369985,
           308.5125809602579,
           306.8606705031766,
           304.41938516073367,
           303.1110545304092,
           302.25369031006056,
           301.24064225469556,
           299.96315118967254,
           299.1890360633981,
           297.91081029935543,
           297.0584562837883,
           296.1794580446055,
           294.8854076737593,
           294.277751155653,
           293.7364220215577
          ],
          [
           353.15,
           352.70095276483875,
           351.9711731842979,
           351.1344599063907,
           349.63717807340913,
           348.5809063939139,
           348.30078632837944,
           347.00403708708996,
           346.14068380869855,
           344.95478882503124,
           344.0994193264447,
           343.21922125469047,
           342.0433807724093,
           340.1619992217436,
           338.6413327726904,
           337.1354087942995,
           334.2250601161743,
           331.1649836807822,
           327.7064082154993,
           323.7713753967471,
           323.15031428690054,
           322.5273490314203,
           318.5841141877976,
           315.1275358685801,
           312.06906972545954,
           309.1596462863396,
           307.6542388602391,
           306.13399420377414,
           303.8756875324984,
           303.0761912284808,
           302.1981094618422,
           301.3426825729118,
           300.1570591829562,
           299.2939078550259,
           297.9974624477013,
           297.7175121858316,
           296.6614330435375,
           295.16442254731743,
           294.3279309723902,
           293.7678038296328
          ],
          [
           353.15,
           352.5583999128274,
           351.94304215412285,
           350.6319531268192,
           349.28491075219256,
           348.0874714102341,
           347.3385019606222,
           346.48047500516907,
           345.5045338495612,
           344.36854050237605,
           343.67664815809917,
           343.2548848315345,
           341.9494328559532,
           340.4958165675571,
           338.43330549407364,
           336.49255442462777,
           334.07409984174785,
           331.5776769818558,
           329.17290230179816,
           325.83248397304624,
           323.14858187795716,
           320.45706179172106,
           317.11884829980806,
           314.7152566277218,
           312.22248217877427,
           309.80243880681365,
           307.86245117886983,
           305.80092343264795,
           304.35032950074003,
           303.1917178116967,
           302.62064618456463,
           301.9069594933722,
           300.7936137457044,
           299.81753599768274,
           298.9596801332045,
           298.2108724381245,
           297.01372482028495,
           295.66705190703647,
           294.36266440244265,
           293.7405467055421
          ],
          [
           353.15,
           352.68296149913175,
           352.30986977871777,
           352.0196150241712,
           349.6644312024536,
           348.23853394497417,
           347.229187052359,
           346.56925956687616,
           345.96545396257153,
           344.91741356767824,
           343.9986267253998,
           343.32501738585313,
           342.6448540206843,
           339.3718655931973,
           337.6611317244045,
           335.72604303064605,
           333.5920090939357,
           331.35231369325555,
           328.8728133765251,
           325.9586762660413,
           323.11785577419573,
           320.3309109595783,
           317.41976468313396,
           314.94109293857844,
           312.70212062105793,
           310.5689053065017,
           308.63446758307595,
           306.92443214154,
           303.64560367408905,
           302.97000997202565,
           302.2993702869779,
           301.3798571111449,
           300.3324091929388,
           299.7287315871685,
           299.06894370913517,
           298.0598350059972,
           296.63430835071154,
           294.2812365124879,
           293.98823695896607,
           293.61611277666873
          ],
          [
           353.1499999999999,
           352.78883457196514,
           352.479088092707,
           351.42213915357854,
           350.7830833503864,
           348.790813957719,
           347.5206546342491,
           346.56705884158,
           345.598204395805,
           345.0163814711574,
           344.5080186961035,
           343.76037547641874,
           342.2657401474717,
           340.53225427506214,
           338.69733484980014,
           335.27467796749534,
           333.14683882725194,
           330.9138450960656,
           328.2743182193258,
           325.4281554602392,
           323.14466943467096,
           320.86107994476833,
           318.01916929410055,
           315.3797704509112,
           313.1474035962102,
           311.0203012717634,
           307.5988356094457,
           305.7647598642713,
           304.02572357920474,
           302.54442278824934,
           301.79093034226173,
           301.2815200983433,
           300.69956191840566,
           299.7308972177309,
           298.77752444413295,
           297.50769618506683,
           295.514989762561,
           294.87599729352,
           293.82039590540927,
           293.51020700745494
          ],
          [
           353.15000000000003,
           352.83912093999714,
           352.50215423023633,
           351.63574811408665,
           350.73491276996026,
           349.8134307241318,
           347.91512244787504,
           346.8020955215924,
           345.79446428170775,
           345.04309647351766,
           344.6759192810282,
           344.06703384765444,
           341.73161701223677,
           339.937219119936,
           338.27445036161413,
           336.50766358720733,
           334.557394265813,
           330.2581654792109,
           327.84931504533665,
           324.5440723425292,
           323.1443782801872,
           321.7445745543116,
           318.44482877791864,
           316.03576940075584,
           311.73763906271495,
           309.78788107154026,
           308.02164257090635,
           306.3595273212008,
           304.5606563710381,
           302.23044988858607,
           301.6216183447316,
           301.25452987363366,
           300.5032881365857,
           299.4958930605112,
           298.38315281989935,
           296.4845443497425,
           295.5634931063912,
           294.66324893669145,
           293.7973968772544,
           293.42213177621215
          ],
          [
           353.15000000000003,
           352.85675349657976,
           352.6058674248617,
           351.89677020200975,
           350.69909818682964,
           349.78139684874895,
           348.8456169289827,
           346.8908066227444,
           345.8435992753776,
           345.02182506923197,
           344.5447038397119,
           344.10762879353115,
           341.34146597104535,
           339.5772530891532,
           337.85169730432705,
           336.0635781806856,
           334.1074439807016,
           331.99537311756234,
           329.7806542656528,
           323.95283288881575,
           323.1440676459356,
           322.3354216938129,
           316.51351847464787,
           314.29917195943784,
           312.1876268637982,
           310.231948680815,
           308.4443195524086,
           306.719341796157,
           304.9513746138258,
           302.1897863291239,
           301.75276801919944,
           301.2757290440137,
           300.45414324282217,
           299.40719836953565,
           297.45226181658916,
           296.5167462009108,
           295.5994695560595,
           294.40228776390165,
           293.6937472986475,
           293.4416338851554
          ],
          [
           353.1500000000001,
           352.8576194373885,
           352.6031072044482,
           352.0914775372036,
           350.9941549101492,
           349.76289841536266,
           348.2016531676681,
           347.5573761931955,
           345.86292461407595,
           345.1247575150461,
           344.35909866551646,
           343.90322088878224,
           340.7534601805793,
           338.9818095867911,
           337.25705137914156,
           335.4390940061085,
           333.43292021515276,
           331.3297750319507,
           329.1260119147442,
           326.752829406124,
           323.11446881420557,
           319.5430784678904,
           317.16849437681924,
           314.96495784353465,
           312.862215164216,
           310.8564140343326,
           309.03886248074303,
           307.3145524721042,
           305.5402124218348,
           302.39408440193085,
           301.9382927307647,
           301.17281239298063,
           300.4348255889303,
           298.7403895440426,
           298.09616576505704,
           296.5352522579933,
           295.30450011177766,
           294.20759284209305,
           293.6963553422792,
           293.43222430969774
          ],
          [
           353.15,
           352.8484291029765,
           352.58390501631413,
           351.9198229224852,
           351.2200312261542,
           349.94200811843643,
           348.51530870393054,
           347.56222180564293,
           346.59234011373724,
           344.979159733117,
           344.4063671640309,
           343.7954762088553,
           343.19041457260255,
           338.5847641008662,
           336.8346014167681,
           334.9955241217194,
           333.02528039020876,
           330.92752756205914,
           328.68988696185045,
           326.3328959457159,
           323.1483876133884,
           319.9637219508689,
           317.6048448934558,
           315.36732377856936,
           313.269898801138,
           311.2999750202415,
           309.4612435499804,
           307.7114541261812,
           303.1066181166826,
           302.50178395563984,
           301.8910433486452,
           301.3183878917133,
           299.7053645897754,
           298.7353560471131,
           297.78231026138394,
           296.35618553422114,
           295.0789064487328,
           294.37977843754834,
           293.72025922935154,
           293.4389005668417
          ],
          [
           353.15,
           352.81633314114674,
           352.53351680477255,
           351.7818837986547,
           351.2323235491507,
           350.0575009066139,
           348.8905979275018,
           347.5801055411321,
           346.61306113949604,
           345.62788048175537,
           344.09254241199193,
           343.60790809149603,
           342.429654034103,
           339.9233343898937,
           338.15074298295303,
           334.5521402921261,
           332.5760133407704,
           330.48411271447054,
           328.294651449925,
           325.91419269261394,
           323.1425609894401,
           320.3831550750353,
           318.00028646809085,
           315.81087270702676,
           313.71921779602906,
           311.7433537547846,
           308.14532766975344,
           306.37148123181413,
           303.86710134324767,
           302.68935436175025,
           302.2048177213017,
           300.6697924995959,
           299.6843069666214,
           298.71713580163714,
           297.4071416031664,
           296.2412542355072,
           295.0676136043517,
           294.51839317418853,
           293.8635052731193,
           293.4849505173687
          ],
          [
           353.15000000000003,
           352.7148537390317,
           352.40603880048604,
           351.7087027710401,
           350.68334457240366,
           349.93476216403104,
           349.18544802570295,
           347.98911306273175,
           346.64530215100064,
           344.99442774583196,
           344.29088955346697,
           343.0895012231613,
           341.35226951965285,
           339.32557353953615,
           337.5499975894292,
           335.73439174817685,
           333.8405927847506,
           329.823112935199,
           327.64526016444995,
           325.330969285789,
           323.14193525661346,
           320.96746883809305,
           318.6500191847018,
           316.47208038233316,
           312.45490156151624,
           310.5612911464579,
           308.7458826089947,
           306.97005150302255,
           304.94410395283154,
           303.2077529110564,
           302.0038098368837,
           301.30324268791713,
           299.6515793225045,
           298.3078226806158,
           297.113166174407,
           296.36426608505894,
           295.6162575694359,
           294.59033056026607,
           293.89319692812836,
           293.59111073000025
          ],
          [
           353.15000000000003,
           352.57348412703715,
           352.1695463792488,
           351.44525339201147,
           350.62055896680914,
           349.7657579152822,
           348.88315443281886,
           347.8439678719708,
           346.65565423344526,
           345.1388177056973,
           343.85360783092887,
           342.4512818643313,
           340.66720234876294,
           338.7933440309091,
           336.87587222073654,
           334.92780596111146,
           333.0175242547917,
           330.46813860036104,
           328.3643362021874,
           325.5614994868324,
           322.90332905296486,
           320.6572684106983,
           317.930948884216,
           315.8271743455517,
           313.27611023089275,
           311.36695140447694,
           309.4198989064973,
           307.50260182943697,
           305.6290680432479,
           303.84783863681895,
           302.44991187866793,
           301.13588328041055,
           299.662884861673,
           298.4594634686712,
           297.46509164102696,
           296.4820070152393,
           295.7015710469673,
           294.87416012261247,
           294.15001848688615,
           293.5542261516084
          ],
          [
           353.15,
           352.5589180276743,
           351.9544686020211,
           351.22265988002965,
           350.6694656786682,
           349.69583820177564,
           348.6477998755784,
           347.4815775619736,
           346.6112015538177,
           345.22110410585776,
           343.9840617293671,
           342.10104252642896,
           340.79108258924714,
           338.5486572759755,
           336.6288550138731,
           334.68286711859696,
           332.30595666296335,
           330.2348231039863,
           328.38138531449096,
           326.0404126602768,
           323.1471777374764,
           320.2797444945284,
           317.914774455405,
           316.0604768717617,
           313.9894258016184,
           311.3570297357235,
           309.6623002992424,
           307.7473438863032,
           305.50521247257535,
           304.19514976583116,
           302.32341022579647,
           301.1249277492643,
           299.67125105169436,
           298.81304122892413,
           297.49922060577796,
           296.75580933557296,
           295.67123931181897,
           294.8569248040999,
           294.3648648754454,
           293.7094320445851
          ]
         ]
        }
       ],
       "layout": {
        "autosize": true,
        "coloraxis": {
         "colorscale": [
          [
           0,
           "#0d0887"
          ],
          [
           0.1111111111111111,
           "#46039f"
          ],
          [
           0.2222222222222222,
           "#7201a8"
          ],
          [
           0.3333333333333333,
           "#9c179e"
          ],
          [
           0.4444444444444444,
           "#bd3786"
          ],
          [
           0.5555555555555556,
           "#d8576b"
          ],
          [
           0.6666666666666666,
           "#ed7953"
          ],
          [
           0.7777777777777778,
           "#fb9f3a"
          ],
          [
           0.8888888888888888,
           "#fdca26"
          ],
          [
           1,
           "#f0f921"
          ]
         ]
        },
        "margin": {
         "t": 60
        },
        "template": {
         "data": {
          "bar": [
           {
            "error_x": {
             "color": "#2a3f5f"
            },
            "error_y": {
             "color": "#2a3f5f"
            },
            "marker": {
             "line": {
              "color": "#E5ECF6",
              "width": 0.5
             },
             "pattern": {
              "fillmode": "overlay",
              "size": 10,
              "solidity": 0.2
             }
            },
            "type": "bar"
           }
          ],
          "barpolar": [
           {
            "marker": {
             "line": {
              "color": "#E5ECF6",
              "width": 0.5
             },
             "pattern": {
              "fillmode": "overlay",
              "size": 10,
              "solidity": 0.2
             }
            },
            "type": "barpolar"
           }
          ],
          "carpet": [
           {
            "aaxis": {
             "endlinecolor": "#2a3f5f",
             "gridcolor": "white",
             "linecolor": "white",
             "minorgridcolor": "white",
             "startlinecolor": "#2a3f5f"
            },
            "baxis": {
             "endlinecolor": "#2a3f5f",
             "gridcolor": "white",
             "linecolor": "white",
             "minorgridcolor": "white",
             "startlinecolor": "#2a3f5f"
            },
            "type": "carpet"
           }
          ],
          "choropleth": [
           {
            "colorbar": {
             "outlinewidth": 0,
             "ticks": ""
            },
            "type": "choropleth"
           }
          ],
          "contour": [
           {
            "colorbar": {
             "outlinewidth": 0,
             "ticks": ""
            },
            "colorscale": [
             [
              0,
              "#0d0887"
             ],
             [
              0.1111111111111111,
              "#46039f"
             ],
             [
              0.2222222222222222,
              "#7201a8"
             ],
             [
              0.3333333333333333,
              "#9c179e"
             ],
             [
              0.4444444444444444,
              "#bd3786"
             ],
             [
              0.5555555555555556,
              "#d8576b"
             ],
             [
              0.6666666666666666,
              "#ed7953"
             ],
             [
              0.7777777777777778,
              "#fb9f3a"
             ],
             [
              0.8888888888888888,
              "#fdca26"
             ],
             [
              1,
              "#f0f921"
             ]
            ],
            "type": "contour"
           }
          ],
          "contourcarpet": [
           {
            "colorbar": {
             "outlinewidth": 0,
             "ticks": ""
            },
            "type": "contourcarpet"
           }
          ],
          "heatmap": [
           {
            "colorbar": {
             "outlinewidth": 0,
             "ticks": ""
            },
            "colorscale": [
             [
              0,
              "#0d0887"
             ],
             [
              0.1111111111111111,
              "#46039f"
             ],
             [
              0.2222222222222222,
              "#7201a8"
             ],
             [
              0.3333333333333333,
              "#9c179e"
             ],
             [
              0.4444444444444444,
              "#bd3786"
             ],
             [
              0.5555555555555556,
              "#d8576b"
             ],
             [
              0.6666666666666666,
              "#ed7953"
             ],
             [
              0.7777777777777778,
              "#fb9f3a"
             ],
             [
              0.8888888888888888,
              "#fdca26"
             ],
             [
              1,
              "#f0f921"
             ]
            ],
            "type": "heatmap"
           }
          ],
          "heatmapgl": [
           {
            "colorbar": {
             "outlinewidth": 0,
             "ticks": ""
            },
            "colorscale": [
             [
              0,
              "#0d0887"
             ],
             [
              0.1111111111111111,
              "#46039f"
             ],
             [
              0.2222222222222222,
              "#7201a8"
             ],
             [
              0.3333333333333333,
              "#9c179e"
             ],
             [
              0.4444444444444444,
              "#bd3786"
             ],
             [
              0.5555555555555556,
              "#d8576b"
             ],
             [
              0.6666666666666666,
              "#ed7953"
             ],
             [
              0.7777777777777778,
              "#fb9f3a"
             ],
             [
              0.8888888888888888,
              "#fdca26"
             ],
             [
              1,
              "#f0f921"
             ]
            ],
            "type": "heatmapgl"
           }
          ],
          "histogram": [
           {
            "marker": {
             "pattern": {
              "fillmode": "overlay",
              "size": 10,
              "solidity": 0.2
             }
            },
            "type": "histogram"
           }
          ],
          "histogram2d": [
           {
            "colorbar": {
             "outlinewidth": 0,
             "ticks": ""
            },
            "colorscale": [
             [
              0,
              "#0d0887"
             ],
             [
              0.1111111111111111,
              "#46039f"
             ],
             [
              0.2222222222222222,
              "#7201a8"
             ],
             [
              0.3333333333333333,
              "#9c179e"
             ],
             [
              0.4444444444444444,
              "#bd3786"
             ],
             [
              0.5555555555555556,
              "#d8576b"
             ],
             [
              0.6666666666666666,
              "#ed7953"
             ],
             [
              0.7777777777777778,
              "#fb9f3a"
             ],
             [
              0.8888888888888888,
              "#fdca26"
             ],
             [
              1,
              "#f0f921"
             ]
            ],
            "type": "histogram2d"
           }
          ],
          "histogram2dcontour": [
           {
            "colorbar": {
             "outlinewidth": 0,
             "ticks": ""
            },
            "colorscale": [
             [
              0,
              "#0d0887"
             ],
             [
              0.1111111111111111,
              "#46039f"
             ],
             [
              0.2222222222222222,
              "#7201a8"
             ],
             [
              0.3333333333333333,
              "#9c179e"
             ],
             [
              0.4444444444444444,
              "#bd3786"
             ],
             [
              0.5555555555555556,
              "#d8576b"
             ],
             [
              0.6666666666666666,
              "#ed7953"
             ],
             [
              0.7777777777777778,
              "#fb9f3a"
             ],
             [
              0.8888888888888888,
              "#fdca26"
             ],
             [
              1,
              "#f0f921"
             ]
            ],
            "type": "histogram2dcontour"
           }
          ],
          "mesh3d": [
           {
            "colorbar": {
             "outlinewidth": 0,
             "ticks": ""
            },
            "type": "mesh3d"
           }
          ],
          "parcoords": [
           {
            "line": {
             "colorbar": {
              "outlinewidth": 0,
              "ticks": ""
             }
            },
            "type": "parcoords"
           }
          ],
          "pie": [
           {
            "automargin": true,
            "type": "pie"
           }
          ],
          "scatter": [
           {
            "fillpattern": {
             "fillmode": "overlay",
             "size": 10,
             "solidity": 0.2
            },
            "type": "scatter"
           }
          ],
          "scatter3d": [
           {
            "line": {
             "colorbar": {
              "outlinewidth": 0,
              "ticks": ""
             }
            },
            "marker": {
             "colorbar": {
              "outlinewidth": 0,
              "ticks": ""
             }
            },
            "type": "scatter3d"
           }
          ],
          "scattercarpet": [
           {
            "marker": {
             "colorbar": {
              "outlinewidth": 0,
              "ticks": ""
             }
            },
            "type": "scattercarpet"
           }
          ],
          "scattergeo": [
           {
            "marker": {
             "colorbar": {
              "outlinewidth": 0,
              "ticks": ""
             }
            },
            "type": "scattergeo"
           }
          ],
          "scattergl": [
           {
            "marker": {
             "colorbar": {
              "outlinewidth": 0,
              "ticks": ""
             }
            },
            "type": "scattergl"
           }
          ],
          "scattermapbox": [
           {
            "marker": {
             "colorbar": {
              "outlinewidth": 0,
              "ticks": ""
             }
            },
            "type": "scattermapbox"
           }
          ],
          "scatterpolar": [
           {
            "marker": {
             "colorbar": {
              "outlinewidth": 0,
              "ticks": ""
             }
            },
            "type": "scatterpolar"
           }
          ],
          "scatterpolargl": [
           {
            "marker": {
             "colorbar": {
              "outlinewidth": 0,
              "ticks": ""
             }
            },
            "type": "scatterpolargl"
           }
          ],
          "scatterternary": [
           {
            "marker": {
             "colorbar": {
              "outlinewidth": 0,
              "ticks": ""
             }
            },
            "type": "scatterternary"
           }
          ],
          "surface": [
           {
            "colorbar": {
             "outlinewidth": 0,
             "ticks": ""
            },
            "colorscale": [
             [
              0,
              "#0d0887"
             ],
             [
              0.1111111111111111,
              "#46039f"
             ],
             [
              0.2222222222222222,
              "#7201a8"
             ],
             [
              0.3333333333333333,
              "#9c179e"
             ],
             [
              0.4444444444444444,
              "#bd3786"
             ],
             [
              0.5555555555555556,
              "#d8576b"
             ],
             [
              0.6666666666666666,
              "#ed7953"
             ],
             [
              0.7777777777777778,
              "#fb9f3a"
             ],
             [
              0.8888888888888888,
              "#fdca26"
             ],
             [
              1,
              "#f0f921"
             ]
            ],
            "type": "surface"
           }
          ],
          "table": [
           {
            "cells": {
             "fill": {
              "color": "#EBF0F8"
             },
             "line": {
              "color": "white"
             }
            },
            "header": {
             "fill": {
              "color": "#C8D4E3"
             },
             "line": {
              "color": "white"
             }
            },
            "type": "table"
           }
          ]
         },
         "layout": {
          "annotationdefaults": {
           "arrowcolor": "#2a3f5f",
           "arrowhead": 0,
           "arrowwidth": 1
          },
          "autotypenumbers": "strict",
          "coloraxis": {
           "colorbar": {
            "outlinewidth": 0,
            "ticks": ""
           }
          },
          "colorscale": {
           "diverging": [
            [
             0,
             "#8e0152"
            ],
            [
             0.1,
             "#c51b7d"
            ],
            [
             0.2,
             "#de77ae"
            ],
            [
             0.3,
             "#f1b6da"
            ],
            [
             0.4,
             "#fde0ef"
            ],
            [
             0.5,
             "#f7f7f7"
            ],
            [
             0.6,
             "#e6f5d0"
            ],
            [
             0.7,
             "#b8e186"
            ],
            [
             0.8,
             "#7fbc41"
            ],
            [
             0.9,
             "#4d9221"
            ],
            [
             1,
             "#276419"
            ]
           ],
           "sequential": [
            [
             0,
             "#0d0887"
            ],
            [
             0.1111111111111111,
             "#46039f"
            ],
            [
             0.2222222222222222,
             "#7201a8"
            ],
            [
             0.3333333333333333,
             "#9c179e"
            ],
            [
             0.4444444444444444,
             "#bd3786"
            ],
            [
             0.5555555555555556,
             "#d8576b"
            ],
            [
             0.6666666666666666,
             "#ed7953"
            ],
            [
             0.7777777777777778,
             "#fb9f3a"
            ],
            [
             0.8888888888888888,
             "#fdca26"
            ],
            [
             1,
             "#f0f921"
            ]
           ],
           "sequentialminus": [
            [
             0,
             "#0d0887"
            ],
            [
             0.1111111111111111,
             "#46039f"
            ],
            [
             0.2222222222222222,
             "#7201a8"
            ],
            [
             0.3333333333333333,
             "#9c179e"
            ],
            [
             0.4444444444444444,
             "#bd3786"
            ],
            [
             0.5555555555555556,
             "#d8576b"
            ],
            [
             0.6666666666666666,
             "#ed7953"
            ],
            [
             0.7777777777777778,
             "#fb9f3a"
            ],
            [
             0.8888888888888888,
             "#fdca26"
            ],
            [
             1,
             "#f0f921"
            ]
           ]
          },
          "colorway": [
           "#636efa",
           "#EF553B",
           "#00cc96",
           "#ab63fa",
           "#FFA15A",
           "#19d3f3",
           "#FF6692",
           "#B6E880",
           "#FF97FF",
           "#FECB52"
          ],
          "font": {
           "color": "#2a3f5f"
          },
          "geo": {
           "bgcolor": "white",
           "lakecolor": "white",
           "landcolor": "#E5ECF6",
           "showlakes": true,
           "showland": true,
           "subunitcolor": "white"
          },
          "hoverlabel": {
           "align": "left"
          },
          "hovermode": "closest",
          "mapbox": {
           "style": "light"
          },
          "paper_bgcolor": "white",
          "plot_bgcolor": "#E5ECF6",
          "polar": {
           "angularaxis": {
            "gridcolor": "white",
            "linecolor": "white",
            "ticks": ""
           },
           "bgcolor": "#E5ECF6",
           "radialaxis": {
            "gridcolor": "white",
            "linecolor": "white",
            "ticks": ""
           }
          },
          "scene": {
           "xaxis": {
            "backgroundcolor": "#E5ECF6",
            "gridcolor": "white",
            "gridwidth": 2,
            "linecolor": "white",
            "showbackground": true,
            "ticks": "",
            "zerolinecolor": "white"
           },
           "yaxis": {
            "backgroundcolor": "#E5ECF6",
            "gridcolor": "white",
            "gridwidth": 2,
            "linecolor": "white",
            "showbackground": true,
            "ticks": "",
            "zerolinecolor": "white"
           },
           "zaxis": {
            "backgroundcolor": "#E5ECF6",
            "gridcolor": "white",
            "gridwidth": 2,
            "linecolor": "white",
            "showbackground": true,
            "ticks": "",
            "zerolinecolor": "white"
           }
          },
          "shapedefaults": {
           "line": {
            "color": "#2a3f5f"
           }
          },
          "ternary": {
           "aaxis": {
            "gridcolor": "white",
            "linecolor": "white",
            "ticks": ""
           },
           "baxis": {
            "gridcolor": "white",
            "linecolor": "white",
            "ticks": ""
           },
           "bgcolor": "#E5ECF6",
           "caxis": {
            "gridcolor": "white",
            "linecolor": "white",
            "ticks": ""
           }
          },
          "title": {
           "x": 0.05
          },
          "xaxis": {
           "automargin": true,
           "gridcolor": "white",
           "linecolor": "white",
           "ticks": "",
           "title": {
            "standoff": 15
           },
           "zerolinecolor": "white",
           "zerolinewidth": 2
          },
          "yaxis": {
           "automargin": true,
           "gridcolor": "white",
           "linecolor": "white",
           "ticks": "",
           "title": {
            "standoff": 15
           },
           "zerolinecolor": "white",
           "zerolinewidth": 2
          }
         }
        },
        "xaxis": {
         "anchor": "y",
         "autorange": true,
         "constrain": "domain",
         "domain": [
          0.3389458272327965,
          0.6610541727672035
         ],
         "range": [
          -0.5,
          39.5
         ],
         "scaleanchor": "y"
        },
        "yaxis": {
         "anchor": "x",
         "autorange": true,
         "constrain": "domain",
         "domain": [
          1.1102230246251565e-16,
          0.9999999999999999
         ],
         "range": [
          39.5,
          -0.5
         ]
        }
       }
      },
      "image/png": "[encoded data removed]",
      "text/html": [
       "<div>                            <div id=\"4400a9c0-4eb0-45a4-b727-4ee1c88424a3\" class=\"plotly-graph-div\" style=\"height:525px; width:100%;\"></div>            <script type=\"text/javascript\">                require([\"plotly\"], function(Plotly) {                    window.PLOTLYENV=window.PLOTLYENV || {};                                    if (document.getElementById(\"4400a9c0-4eb0-45a4-b727-4ee1c88424a3\")) {                    Plotly.newPlot(                        \"4400a9c0-4eb0-45a4-b727-4ee1c88424a3\",                        [{\"coloraxis\":\"coloraxis\",\"name\":\"0\",\"z\":[[353.15,352.64176774950556,352.1070998888051,351.20021339456116,350.5030486920469,349.7281748441847,348.8754243522476,347.4496427830436,346.39929125107454,345.2683788988598,344.0508705846997,342.0380544599507,340.5475076837092,338.9361931168422,337.22141799199994,334.48806488121494,332.5664990487872,330.5685853800421,328.50087990663974,325.30415279032866,323.148286935472,320.99226741950923,318.8514560971653,315.7273231145665,313.72971818404557,311.80829257183643,309.96614587076317,307.36055864204025,305.7494722187244,304.25917628148153,302.24674013086826,301.02949163819017,299.89879784955417,298.84877663284465,297.4233593249485,296.570664842208,295.79519498171055,295.09853140037933,294.1922071469125,293.6577311088465],[353.15,352.6315442679677,351.8947035663603,351.34176367645114,350.4564451624955,349.77909738136685,348.68659432926046,347.7905530038186,346.53691511514216,345.04362652649235,344.02770397988456,342.1036377496681,340.74041464938824,338.5537587542463,336.83964796015266,335.06287321789625,332.6139962897422,330.0626543247221,327.73166698464047,325.4438465017432,323.0268841911023,320.95511626730496,318.60940654639495,316.224626826554,313.61470450749994,311.23341565938836,309.45683534214834,307.742924800774,305.5565755863504,304.19480174459625,302.2699213336334,301.25612091249695,299.7612072217224,298.5036456275245,297.6429424626792,296.5732211868501,295.8009359119465,295.01986053398525,294.2961529237875,293.72242583614985],[353.1499999999999,352.57616653656567,352.16675927231825,351.5938103803702,350.75971472362596,349.7044101886383,348.7126246059148,347.72904852353435,346.6121097233745,345.40778216984086,343.96549218609647,342.3954970149967,340.93224454307995,338.8283662037361,336.99678259719417,334.7776123872756,332.73561160227655,330.28819992101234,328.064304638865,325.2475653152926,323.3297042194844,320.442844571484,318.24206482479605,315.63948216773366,313.5067639581614,311.49679488768726,309.29962672946414,307.4682720234445,305.3651855392073,303.9016848763161,302.31915270429954,300.89010383207534,299.6860331206543,298.56938664989275,297.57236036011886,296.61965266507326,295.54924560717717,294.879393433347,294.161771501173,293.67366205959866],[353.1500000000001,352.72340893543225,352.30838813721743,351.7314066389485,351.12386382270404,350.1559368600087,348.89463007742734,347.6416952005316,346.69464271127055,345.75179588017886,344.18966749889995,342.8974584574059,341.70921692501224,338.7281747194936,336.9384497450391,335.08741516182994,333.1020106630247,331.06560804895025,328.9332338686232,326.6647766066543,323.1486517898727,319.6281502698328,317.363377508591,315.2281144363255,313.1944671868406,311.2091626738853,309.3578535755974,307.5683551987515,304.5878732716526,303.39978555758046,302.1078312829427,300.54607289555844,299.60344999469567,298.6566248464479,297.4038994678406,296.1427840668422,295.17550556505654,294.56738149873,294.0004988106863,293.5650759809355],[353.15,352.8128074802257,352.5020653490139,351.99320431978424,351.0354198773536,349.95161606746524,348.5763741744116,347.6567467534481,346.7191990210435,345.17557434061445,343.83366016454096,343.42152386303883,341.6024980777426,339.27889709304293,337.49828943325656,335.68615757908947,333.777323690388,331.746726919376,327.3753943679489,324.4281217535178,323.1483993990064,321.86826583192635,318.918617982534,314.5478428033864,312.5190386109946,310.6103197642031,308.7979986074814,307.0175035987428,304.6946776312153,302.87582769287246,302.4637321925458,301.12204447983817,299.5788362936547,298.6415152364961,297.72210698304946,296.34713503517605,295.2635058096933,294.3061054511541,293.79721611118566,293.48650937023604],[353.15000000000003,352.82026416570153,352.5704105829184,351.91439919186945,350.8553705865412,350.03544776587705,348.60776794444985,347.68689621016335,346.1607076050478,344.84187829325305,344.370739460223,343.9345741977602,342.15538784469675,339.61301281627505,337.8986763623244,336.114343238479,334.2239859949398,330.0948041514506,327.8177251880425,324.9266147182162,323.1480327510852,321.369552357396,318.4764126639782,316.20139844478945,312.0723010571592,310.1820763421307,308.39760455571593,306.68331302719827,304.14190089762576,302.3629165456879,301.9268134905438,301.4556922386236,300.13704677120876,298.6113211045452,297.69067056468646,296.26331283305,295.44356955956516,294.384734864373,293.72887909866535,293.4790713168937],[353.15,352.8678754633082,352.60964861057266,351.91298454534774,350.7587267599279,349.87709285604774,348.3094210574411,347.1454496127923,345.8408393907132,345.0557067955772,344.5765325037187,344.1438486231662,342.7718291490841,339.9805299679281,338.2991312954928,334.71236298765115,332.6885282597509,330.54065428603377,328.2609134953317,325.42427723939556,323.1477842723772,320.8716803071062,318.0333513937968,315.7554076552322,313.6062997110969,311.5838473222194,307.9971450055458,306.3157160672854,303.52559154409863,302.15374846674376,301.7210987454097,301.2419860201447,300.45693610693405,299.1524532543794,297.9888062899409,296.4215955528119,295.54014935874244,294.38617597752886,293.6896509443235,293.4314743666309],[353.15,352.8621941176531,352.6028763126504,351.6946200042197,350.83018109569423,349.94683239249724,348.45848189332884,346.6974637963316,346.0628575891669,345.1929930329759,344.7144350854675,343.9545798471941,340.56315912158163,338.9371978548957,337.2251998937003,335.383028849934,333.3639228121808,331.1681993883131,328.88556033761654,326.1139523597889,323.1540723292703,320.1817273001503,317.408882815796,315.12767793146196,312.9310870959036,310.91308347548875,309.071082095953,307.3590759189818,305.7329635101463,302.3430784916542,301.5832570453221,301.1047639295775,300.23501400835767,299.6005052537491,297.839633073229,296.3518639212683,295.4687043575895,294.6044326287997,293.6964310847354,293.437156136306],[353.1499999999999,352.8452708501745,352.5567175387207,351.7713667195253,350.9163222165792,349.4439245198696,347.55218336440123,346.8317122540775,346.1979895897143,345.2626822404082,344.45618520522135,343.9244286108378,340.92627003725033,339.3378919355931,337.65390943549653,335.8304364557746,333.772489561016,331.61449350127185,329.3304706999925,326.6132784373126,323.14613343762113,319.68221531885814,316.9641003890406,314.6812616477605,312.5226308810721,310.46561526377633,308.6423237624558,306.95838343501663,305.3697760619142,302.3733191930787,301.84156329534187,301.0351223049954,300.0999607059258,299.4663456827182,298.7459887703318,296.85435598222466,295.38259800086763,294.52771839676694,293.7439244703197,293.46404385779783],[353.15,352.7899331826098,352.4884271462455,351.88622442575723,350.43037462580537,348.5437607128072,347.3412899368503,346.63173943180857,345.99391914781427,345.071585405887,344.2693545084594,343.8547742617925,341.28740888811893,339.73870501327133,338.2574807453301,336.4604158857786,334.44857372888333,332.0609644620877,329.77596143957413,324.3610363257818,323.14633509473134,321.9344288237328,316.5187398117883,314.2346752710312,311.84673180152646,309.8355565292904,308.03868795501484,306.5575747407086,305.00856103199953,302.4430768211185,302.02845991258334,301.22627255689315,300.3040505956731,299.6663464985371,298.95692934969145,297.75465213292995,295.8680731885963,294.41292681633183,293.81087835316475,293.5100207437913],[353.15000000000003,352.7289579652984,352.3216304071153,351.4182927979234,349.53996582667827,348.0272288263511,347.24749537099655,346.54207776379974,345.6869589164152,344.8678695015369,343.92516605012963,343.5706653811601,341.79266308425156,340.3025924905985,338.68620201286313,336.9079949443054,334.89906465437116,330.48790014514844,327.91436931152685,325.0299965405054,323.1465334451185,321.2650771740156,318.3806747000983,315.8070154688403,311.3963670472158,309.3879257429279,307.60992439153364,305.9936991359367,304.50319855464244,302.7274308860052,302.37266261501793,301.429996915637,300.61101900221746,299.7560212502032,299.0507358572053,298.271149499518,296.7586873966168,294.8803212457442,293.9771461417646,293.5703882361843],[353.15,352.6097887594444,352.0028482753008,350.7195844596591,349.60421267761967,348.1838795696776,347.04899958585844,346.29877704506066,345.53256542412726,344.8341938631146,343.9404770042421,343.16041295447894,342.0045328569169,340.31665620850663,338.6059853483981,336.4741519822624,334.18505473579086,331.37657802991015,328.7698101602582,325.7169464911555,323.2482205045206,320.5777295472075,317.5250863523617,314.9185318859371,312.1103952081729,309.82159024548343,307.68999409336766,305.9795695769291,304.2024349952306,303.13107536268035,302.36104222435426,301.46362889120564,300.7653958037256,299.99932137384474,299.2492224424161,298.11455004606506,296.6944832171565,295.5793290437482,294.2963330647529,293.6884956159556],[353.15000000000003,352.60296520859094,351.9914232747367,350.969679720017,349.74465745373186,348.8670167826508,347.8913395601084,347.0620333510551,346.20614283869014,345.3509937878789,344.1472404182731,343.14780044977437,342.22832187175504,340.19254608562653,338.81703229134365,336.3753804921499,333.5820654616092,331.6008975443408,328.02597040647305,325.97856157781644,323.1462992255106,320.31576152450754,318.2686289528871,314.69419875659975,312.7132800497423,309.92029515472905,307.47908239170454,306.1037147732243,304.0684198722911,303.0260894533379,302.1506793283659,300.9471328880296,300.0921311523121,299.2363863614923,298.4070807453604,297.43159428808474,296.5541231305312,295.32930510307557,294.3079472420636,293.69634053295675],[353.15,352.62098728412496,352.0230885245169,351.3514929774039,350.0630751955805,349.2833813007033,348.42570890973354,347.0694032086496,346.2109901696493,345.35272076865215,344.143792949169,343.09051436248797,342.00060401853233,340.6814693901149,337.80518462054215,335.0210809957391,333.0608192227123,331.1024528501125,327.3563045308369,324.22671971240493,323.14630639107145,322.06673118997935,318.93798827322775,315.192488200493,313.2343758344051,311.27440534119677,308.49065071706525,306.0809203940197,304.2960064557883,303.206388192181,302.1533555499682,300.94475473449216,300.0867161192737,299.22853205642554,297.8729366701373,297.0154014989519,296.2358289004433,294.94760489845135,294.2761085841415,293.6783172658367],[353.15,352.6289379039159,352.05809379273705,351.36389171718866,350.15320132852764,349.2943903285072,348.4356682004165,346.9841623080266,346.11440826096396,344.8894819040588,344.02003872763106,342.8581953925816,342.07965175515574,339.7131009561589,336.70124286873846,333.48376326165544,331.3279703151294,329.1931785450829,325.30430503779695,323.78582239563076,323.14627656097764,322.5065391603082,320.98909411412694,317.101149023955,314.96673308082484,312.8113426319021,309.59443871103514,306.583012511948,304.21688837819516,303.43864573010035,302.27706058471813,301.4078149840544,300.1831696271095,299.31361506811254,297.86262560047845,297.0041245321014,296.14553115906966,294.93514142058063,294.2410889074431,293.6703565780256],[353.15,352.6112077540343,352.1024618963676,351.33600514267096,350.10902502441627,349.2387253090428,348.12154085654487,346.7753542642216,345.8781448040535,344.6145192637366,343.71765841742626,342.4637479018766,341.1457371859797,338.3841890992494,334.9104904182427,332.7300636599825,330.5720883077827,326.3759634024084,324.5628593687796,323.8441242324523,0.0,322.44821861530255,321.7292343240689,319.91743732196016,315.7223225689276,313.564763126754,311.38478033267796,307.9117271400053,305.1506335615195,303.8328962463475,302.5792931945357,301.68265583161985,300.41934988569693,299.52236875605763,298.17652437562873,297.0595613388358,296.1894535618892,294.96273723809725,294.1962353247244,293.6880560621961],[353.15,352.61553944892245,351.98683342407503,351.34447046165957,349.9989637050371,349.1011301163339,347.84668007613914,346.4339334218679,345.57814321357887,344.1660385410935,343.22463956129684,341.75679042162756,339.8280227131908,337.8462682525881,334.13606176671226,331.9529346133197,327.61829418836555,0.0,0.0,0.0,0.0,0.0,0.0,0.0,318.6751768662572,314.34161073622056,312.15894135301926,308.44951031189294,306.46812386583633,304.5397010426769,303.0721830007342,302.13100799622333,300.71924566014036,299.86366498313066,298.4512643379641,297.1971824937425,296.29957392659014,294.9544006156761,294.31219161206263,293.6866151516755],[353.15,352.4897185738183,351.9062576973661,351.22872936706506,349.81684566448666,348.47345056386234,347.47651121438344,346.07235945966147,345.07600542851543,344.07993375072334,341.6424661666405,340.7876455658766,339.25394457711246,337.29601828201527,333.33652171249463,328.85344358880405,0.0,0.0,0.0,0.0,0.0,0.0,0.0,0.0,0.0,317.4401766103299,312.95820953268543,308.99963932862875,307.0420850639592,305.50866944381164,304.65399669942406,302.21705848386404,301.2212071990504,300.2250753962037,298.821237670975,297.8245204822682,296.4815772786273,295.0700317132711,294.3926649132737,293.80940924839234],[353.15000000000003,352.53298731252266,351.72762198162366,351.0558216677131,349.08675046278023,348.02095483973875,346.955951147727,345.4566677801022,344.3934227100226,343.33086106126837,340.3856382595009,339.3431370861675,337.3826286373207,335.1870163822315,329.9054173547277,327.1406511100888,0.0,0.0,0.0,0.0,0.0,0.0,0.0,0.0,0.0,319.15078998569186,316.38839070219444,311.1080383255723,308.91296283200666,306.95297726872275,305.9111549624897,302.9658950978044,301.90351998195507,300.8404603642813,299.3414321805754,298.27660344806105,297.21097593550917,295.242719486066,294.57102343983104,293.7661221994651],[353.15000000000003,352.33460662556786,351.5096209363229,350.7818241068828,348.1390880076409,347.02252377938134,345.9092328305881,344.36605213489753,343.2553358398978,338.97275292649886,338.3080134419967,337.6807171987428,336.5797378267006,330.951349907457,327.9094871749068,326.7010187522497,0.0,0.0,0.0,0.0,0.0,0.0,0.0,0.0,0.0,319.5908407455003,318.3818252311902,315.34270143222597,309.71561477010323,308.61487016377725,307.9876906343949,307.3230870507122,303.04323542294105,301.9332164681456,300.3910126596836,299.2784337347007,298.1625984502497,295.51615236672677,294.7885603094086,293.9644648938736],[353.15,352.2504566315052,351.2845301419079,349.31398691876717,346.8638847508173,343.96889489155745,342.4644342996113,341.28800983655896,339.98158498525765,338.5375935091515,337.51101765065147,336.38382456259154,333.29925504699355,330.0419754998961,327.68273003006425,0.0,0.0,0.0,0.0,0.0,0.0,0.0,0.0,0.0,0.0,0.0,318.4868999259497,316.2068199123824,312.9953473825774,309.91224191824654,308.7845421621919,307.75819706955497,306.31446739464684,305.00829994056545,303.8321113777651,302.3279600139715,299.4335622779157,296.98383131034575,295.0172674679668,294.0488323435877],[353.1500000000001,352.3613005812879,351.534406639946,350.49051072290945,348.8856050751684,347.75151203995176,346.62142976403254,341.67373676843897,340.9140396571551,339.77090082266807,339.07864659586613,337.71637426408745,332.9329792972352,332.14351919863697,328.71855841970205,326.42322794359734,0.0,0.0,0.0,0.0,0.0,0.0,0.0,0.0,0.0,319.87190113740087,317.5772698407601,314.15148233818275,313.361752161197,308.5793067377251,307.21719042890174,306.52507329442915,305.3821700495387,304.62263432658915,299.6764915871631,298.5467678914616,297.41303539126,295.8086402264162,294.7649534424768,293.9380535732438],[353.1499999999999,352.43848247839907,351.78982537819707,350.8521537799749,349.2883207643781,348.3419289418131,347.30092553966676,345.74013871624317,343.71178887080515,342.5940061872458,341.02162360515865,339.65874652150944,336.9380293049421,331.75728503733893,330.9663430333243,327.8445341743263,0.0,0.0,0.0,0.0,0.0,0.0,0.0,0.0,0.0,318.4516369594149,315.3290819334665,314.5378529724468,309.35697906924213,306.637031606334,305.2745495482018,303.70265009278705,302.58521541299365,300.5572459347597,298.9969508405928,297.95627565680724,297.0101817747094,295.4468387036676,294.5093765315596,293.86083747618176],[353.15,352.49747838505544,351.9118596421784,351.0645989433524,349.5987170645299,348.62238998402023,347.7352277886718,346.27126983002455,344.60545549682234,343.04639868892144,342.00831400382515,340.81425925501134,339.1463729667872,335.54241289651594,330.18194100674725,328.42239202453413,0.0,0.0,0.0,0.0,0.0,0.0,0.0,0.0,0.0,317.8737938377214,316.113780598101,310.7518386373155,307.14900830842146,305.48165657224433,304.2879099632089,303.2501448748281,301.6915730808806,300.02614208811195,298.56264914556175,297.67576890214946,296.69975171937193,295.2343323375223,294.3872928156535,293.801810394323],[353.1499999999999,352.5542334370092,352.0026100899522,351.38617487015154,349.82453887062724,348.9014009111285,348.0625827456249,346.6783270438922,345.7557093711881,343.7435558115965,342.7690061174981,341.84921139119166,340.80583350851725,337.2637811904687,333.6889106170363,328.99375096779835,327.3891777705686,0.0,0.0,0.0,0.0,0.0,0.0,0.0,318.9074523663356,317.3024443998614,312.6043915263124,309.03080395630576,305.48980301559317,304.4445211027913,303.5273058376924,302.55306017130704,300.54145923589346,299.61913562733355,298.2353225382498,297.39677254126786,296.4739291478722,294.91274785173994,294.2965111113905,293.7450334918317],[353.1499999999999,352.56966918134447,352.04617545921883,351.43669948802324,349.9825476375277,349.0997488483226,348.21709523779384,346.97393053474127,346.0917167919054,344.28812219269923,343.3664425097767,342.40785325139603,341.7324164941757,338.92422662077496,335.85379710052104,332.3034546506336,327.79954670339595,326.3503952621576,324.91394827611464,323.67409424672377,0.0,322.6221430065983,321.383608781332,319.94671796256637,318.49716000201744,313.9891727269244,310.4402508077156,307.370876233919,304.56356166900827,303.88826979301274,302.9299716742179,302.00858156402273,300.2054760185757,299.3235510862454,298.0807939804311,297.1984293276922,296.3159186123651,294.86219600498754,294.25293309999154,293.72958839762487],[353.15,352.5734914964074,352.0595291116669,351.44857624021165,350.1702877318865,349.2062874468661,348.3452497106524,347.13250751360823,346.2718016890441,345.4112669883409,343.80724601045097,342.99170359284926,341.76388064470626,339.171083264097,337.5133270028874,334.4456350174967,330.9213461814629,326.59902254629844,325.79735926468777,324.0304178051677,323.14842382410507,322.26762767124245,320.5002908566893,319.69823636716,315.37063216682714,311.847912191873,308.7814275068271,307.12419189273095,304.53206133119073,303.30445483137214,302.4892033913685,300.8855357562421,300.0253015569876,299.16489644204876,297.95257739136207,297.0918389546117,296.12810819643613,294.8503214134511,294.16342163756997,293.72591348430785],[353.1499999999999,352.5628649752142,352.0213586532822,351.4135620022757,350.1192138609198,349.23957258620067,348.3868795428861,347.10814055726803,346.33371208150254,345.0557006618004,344.04263629048233,343.184845267985,341.87664096184,339.4348163171996,337.7823955374548,336.10381704861413,333.03868364325933,329.08279410184,324.9878807814946,324.587132810773,323.1492752218363,321.71114237232143,321.31018161829036,317.20834473831763,313.25439460691166,310.19063885369985,308.5125809602579,306.8606705031766,304.41938516073367,303.1110545304092,302.25369031006056,301.24064225469556,299.96315118967254,299.1890360633981,297.91081029935543,297.0584562837883,296.1794580446055,294.8854076737593,294.277751155653,293.7364220215577],[353.15,352.70095276483875,351.9711731842979,351.1344599063907,349.63717807340913,348.5809063939139,348.30078632837944,347.00403708708996,346.14068380869855,344.95478882503124,344.0994193264447,343.21922125469047,342.0433807724093,340.1619992217436,338.6413327726904,337.1354087942995,334.2250601161743,331.1649836807822,327.7064082154993,323.7713753967471,323.15031428690054,322.5273490314203,318.5841141877976,315.1275358685801,312.06906972545954,309.1596462863396,307.6542388602391,306.13399420377414,303.8756875324984,303.0761912284808,302.1981094618422,301.3426825729118,300.1570591829562,299.2939078550259,297.9974624477013,297.7175121858316,296.6614330435375,295.16442254731743,294.3279309723902,293.7678038296328],[353.15,352.5583999128274,351.94304215412285,350.6319531268192,349.28491075219256,348.0874714102341,347.3385019606222,346.48047500516907,345.5045338495612,344.36854050237605,343.67664815809917,343.2548848315345,341.9494328559532,340.4958165675571,338.43330549407364,336.49255442462777,334.07409984174785,331.5776769818558,329.17290230179816,325.83248397304624,323.14858187795716,320.45706179172106,317.11884829980806,314.7152566277218,312.22248217877427,309.80243880681365,307.86245117886983,305.80092343264795,304.35032950074003,303.1917178116967,302.62064618456463,301.9069594933722,300.7936137457044,299.81753599768274,298.9596801332045,298.2108724381245,297.01372482028495,295.66705190703647,294.36266440244265,293.7405467055421],[353.15,352.68296149913175,352.30986977871777,352.0196150241712,349.6644312024536,348.23853394497417,347.229187052359,346.56925956687616,345.96545396257153,344.91741356767824,343.9986267253998,343.32501738585313,342.6448540206843,339.3718655931973,337.6611317244045,335.72604303064605,333.5920090939357,331.35231369325555,328.8728133765251,325.9586762660413,323.11785577419573,320.3309109595783,317.41976468313396,314.94109293857844,312.70212062105793,310.5689053065017,308.63446758307595,306.92443214154,303.64560367408905,302.97000997202565,302.2993702869779,301.3798571111449,300.3324091929388,299.7287315871685,299.06894370913517,298.0598350059972,296.63430835071154,294.2812365124879,293.98823695896607,293.61611277666873],[353.1499999999999,352.78883457196514,352.479088092707,351.42213915357854,350.7830833503864,348.790813957719,347.5206546342491,346.56705884158,345.598204395805,345.0163814711574,344.5080186961035,343.76037547641874,342.2657401474717,340.53225427506214,338.69733484980014,335.27467796749534,333.14683882725194,330.9138450960656,328.2743182193258,325.4281554602392,323.14466943467096,320.86107994476833,318.01916929410055,315.3797704509112,313.1474035962102,311.0203012717634,307.5988356094457,305.7647598642713,304.02572357920474,302.54442278824934,301.79093034226173,301.2815200983433,300.69956191840566,299.7308972177309,298.77752444413295,297.50769618506683,295.514989762561,294.87599729352,293.82039590540927,293.51020700745494],[353.15000000000003,352.83912093999714,352.50215423023633,351.63574811408665,350.73491276996026,349.8134307241318,347.91512244787504,346.8020955215924,345.79446428170775,345.04309647351766,344.6759192810282,344.06703384765444,341.73161701223677,339.937219119936,338.27445036161413,336.50766358720733,334.557394265813,330.2581654792109,327.84931504533665,324.5440723425292,323.1443782801872,321.7445745543116,318.44482877791864,316.03576940075584,311.73763906271495,309.78788107154026,308.02164257090635,306.3595273212008,304.5606563710381,302.23044988858607,301.6216183447316,301.25452987363366,300.5032881365857,299.4958930605112,298.38315281989935,296.4845443497425,295.5634931063912,294.66324893669145,293.7973968772544,293.42213177621215],[353.15000000000003,352.85675349657976,352.6058674248617,351.89677020200975,350.69909818682964,349.78139684874895,348.8456169289827,346.8908066227444,345.8435992753776,345.02182506923197,344.5447038397119,344.10762879353115,341.34146597104535,339.5772530891532,337.85169730432705,336.0635781806856,334.1074439807016,331.99537311756234,329.7806542656528,323.95283288881575,323.1440676459356,322.3354216938129,316.51351847464787,314.29917195943784,312.1876268637982,310.231948680815,308.4443195524086,306.719341796157,304.9513746138258,302.1897863291239,301.75276801919944,301.2757290440137,300.45414324282217,299.40719836953565,297.45226181658916,296.5167462009108,295.5994695560595,294.40228776390165,293.6937472986475,293.4416338851554],[353.1500000000001,352.8576194373885,352.6031072044482,352.0914775372036,350.9941549101492,349.76289841536266,348.2016531676681,347.5573761931955,345.86292461407595,345.1247575150461,344.35909866551646,343.90322088878224,340.7534601805793,338.9818095867911,337.25705137914156,335.4390940061085,333.43292021515276,331.3297750319507,329.1260119147442,326.752829406124,323.11446881420557,319.5430784678904,317.16849437681924,314.96495784353465,312.862215164216,310.8564140343326,309.03886248074303,307.3145524721042,305.5402124218348,302.39408440193085,301.9382927307647,301.17281239298063,300.4348255889303,298.7403895440426,298.09616576505704,296.5352522579933,295.30450011177766,294.20759284209305,293.6963553422792,293.43222430969774],[353.15,352.8484291029765,352.58390501631413,351.9198229224852,351.2200312261542,349.94200811843643,348.51530870393054,347.56222180564293,346.59234011373724,344.979159733117,344.4063671640309,343.7954762088553,343.19041457260255,338.5847641008662,336.8346014167681,334.9955241217194,333.02528039020876,330.92752756205914,328.68988696185045,326.3328959457159,323.1483876133884,319.9637219508689,317.6048448934558,315.36732377856936,313.269898801138,311.2999750202415,309.4612435499804,307.7114541261812,303.1066181166826,302.50178395563984,301.8910433486452,301.3183878917133,299.7053645897754,298.7353560471131,297.78231026138394,296.35618553422114,295.0789064487328,294.37977843754834,293.72025922935154,293.4389005668417],[353.15,352.81633314114674,352.53351680477255,351.7818837986547,351.2323235491507,350.0575009066139,348.8905979275018,347.5801055411321,346.61306113949604,345.62788048175537,344.09254241199193,343.60790809149603,342.429654034103,339.9233343898937,338.15074298295303,334.5521402921261,332.5760133407704,330.48411271447054,328.294651449925,325.91419269261394,323.1425609894401,320.3831550750353,318.00028646809085,315.81087270702676,313.71921779602906,311.7433537547846,308.14532766975344,306.37148123181413,303.86710134324767,302.68935436175025,302.2048177213017,300.6697924995959,299.6843069666214,298.71713580163714,297.4071416031664,296.2412542355072,295.0676136043517,294.51839317418853,293.8635052731193,293.4849505173687],[353.15000000000003,352.7148537390317,352.40603880048604,351.7087027710401,350.68334457240366,349.93476216403104,349.18544802570295,347.98911306273175,346.64530215100064,344.99442774583196,344.29088955346697,343.0895012231613,341.35226951965285,339.32557353953615,337.5499975894292,335.73439174817685,333.8405927847506,329.823112935199,327.64526016444995,325.330969285789,323.14193525661346,320.96746883809305,318.6500191847018,316.47208038233316,312.45490156151624,310.5612911464579,308.7458826089947,306.97005150302255,304.94410395283154,303.2077529110564,302.0038098368837,301.30324268791713,299.6515793225045,298.3078226806158,297.113166174407,296.36426608505894,295.6162575694359,294.59033056026607,293.89319692812836,293.59111073000025],[353.15000000000003,352.57348412703715,352.1695463792488,351.44525339201147,350.62055896680914,349.7657579152822,348.88315443281886,347.8439678719708,346.65565423344526,345.1388177056973,343.85360783092887,342.4512818643313,340.66720234876294,338.7933440309091,336.87587222073654,334.92780596111146,333.0175242547917,330.46813860036104,328.3643362021874,325.5614994868324,322.90332905296486,320.6572684106983,317.930948884216,315.8271743455517,313.27611023089275,311.36695140447694,309.4198989064973,307.50260182943697,305.6290680432479,303.84783863681895,302.44991187866793,301.13588328041055,299.662884861673,298.4594634686712,297.46509164102696,296.4820070152393,295.7015710469673,294.87416012261247,294.15001848688615,293.5542261516084],[353.15,352.5589180276743,351.9544686020211,351.22265988002965,350.6694656786682,349.69583820177564,348.6477998755784,347.4815775619736,346.6112015538177,345.22110410585776,343.9840617293671,342.10104252642896,340.79108258924714,338.5486572759755,336.6288550138731,334.68286711859696,332.30595666296335,330.2348231039863,328.38138531449096,326.0404126602768,323.1471777374764,320.2797444945284,317.914774455405,316.0604768717617,313.9894258016184,311.3570297357235,309.6623002992424,307.7473438863032,305.50521247257535,304.19514976583116,302.32341022579647,301.1249277492643,299.67125105169436,298.81304122892413,297.49922060577796,296.75580933557296,295.67123931181897,294.8569248040999,294.3648648754454,293.7094320445851]],\"type\":\"heatmap\",\"xaxis\":\"x\",\"yaxis\":\"y\",\"hovertemplate\":\"x: %{x}<br>y: %{y}<br>color: %{z}<extra></extra>\"}],                        {\"template\":{\"data\":{\"histogram2dcontour\":[{\"type\":\"histogram2dcontour\",\"colorbar\":{\"outlinewidth\":0,\"ticks\":\"\"},\"colorscale\":[[0.0,\"#0d0887\"],[0.1111111111111111,\"#46039f\"],[0.2222222222222222,\"#7201a8\"],[0.3333333333333333,\"#9c179e\"],[0.4444444444444444,\"#bd3786\"],[0.5555555555555556,\"#d8576b\"],[0.6666666666666666,\"#ed7953\"],[0.7777777777777778,\"#fb9f3a\"],[0.8888888888888888,\"#fdca26\"],[1.0,\"#f0f921\"]]}],\"choropleth\":[{\"type\":\"choropleth\",\"colorbar\":{\"outlinewidth\":0,\"ticks\":\"\"}}],\"histogram2d\":[{\"type\":\"histogram2d\",\"colorbar\":{\"outlinewidth\":0,\"ticks\":\"\"},\"colorscale\":[[0.0,\"#0d0887\"],[0.1111111111111111,\"#46039f\"],[0.2222222222222222,\"#7201a8\"],[0.3333333333333333,\"#9c179e\"],[0.4444444444444444,\"#bd3786\"],[0.5555555555555556,\"#d8576b\"],[0.6666666666666666,\"#ed7953\"],[0.7777777777777778,\"#fb9f3a\"],[0.8888888888888888,\"#fdca26\"],[1.0,\"#f0f921\"]]}],\"heatmap\":[{\"type\":\"heatmap\",\"colorbar\":{\"outlinewidth\":0,\"ticks\":\"\"},\"colorscale\":[[0.0,\"#0d0887\"],[0.1111111111111111,\"#46039f\"],[0.2222222222222222,\"#7201a8\"],[0.3333333333333333,\"#9c179e\"],[0.4444444444444444,\"#bd3786\"],[0.5555555555555556,\"#d8576b\"],[0.6666666666666666,\"#ed7953\"],[0.7777777777777778,\"#fb9f3a\"],[0.8888888888888888,\"#fdca26\"],[1.0,\"#f0f921\"]]}],\"heatmapgl\":[{\"type\":\"heatmapgl\",\"colorbar\":{\"outlinewidth\":0,\"ticks\":\"\"},\"colorscale\":[[0.0,\"#0d0887\"],[0.1111111111111111,\"#46039f\"],[0.2222222222222222,\"#7201a8\"],[0.3333333333333333,\"#9c179e\"],[0.4444444444444444,\"#bd3786\"],[0.5555555555555556,\"#d8576b\"],[0.6666666666666666,\"#ed7953\"],[0.7777777777777778,\"#fb9f3a\"],[0.8888888888888888,\"#fdca26\"],[1.0,\"#f0f921\"]]}],\"contourcarpet\":[{\"type\":\"contourcarpet\",\"colorbar\":{\"outlinewidth\":0,\"ticks\":\"\"}}],\"contour\":[{\"type\":\"contour\",\"colorbar\":{\"outlinewidth\":0,\"ticks\":\"\"},\"colorscale\":[[0.0,\"#0d0887\"],[0.1111111111111111,\"#46039f\"],[0.2222222222222222,\"#7201a8\"],[0.3333333333333333,\"#9c179e\"],[0.4444444444444444,\"#bd3786\"],[0.5555555555555556,\"#d8576b\"],[0.6666666666666666,\"#ed7953\"],[0.7777777777777778,\"#fb9f3a\"],[0.8888888888888888,\"#fdca26\"],[1.0,\"#f0f921\"]]}],\"surface\":[{\"type\":\"surface\",\"colorbar\":{\"outlinewidth\":0,\"ticks\":\"\"},\"colorscale\":[[0.0,\"#0d0887\"],[0.1111111111111111,\"#46039f\"],[0.2222222222222222,\"#7201a8\"],[0.3333333333333333,\"#9c179e\"],[0.4444444444444444,\"#bd3786\"],[0.5555555555555556,\"#d8576b\"],[0.6666666666666666,\"#ed7953\"],[0.7777777777777778,\"#fb9f3a\"],[0.8888888888888888,\"#fdca26\"],[1.0,\"#f0f921\"]]}],\"mesh3d\":[{\"type\":\"mesh3d\",\"colorbar\":{\"outlinewidth\":0,\"ticks\":\"\"}}],\"scatter\":[{\"fillpattern\":{\"fillmode\":\"overlay\",\"size\":10,\"solidity\":0.2},\"type\":\"scatter\"}],\"parcoords\":[{\"type\":\"parcoords\",\"line\":{\"colorbar\":{\"outlinewidth\":0,\"ticks\":\"\"}}}],\"scatterpolargl\":[{\"type\":\"scatterpolargl\",\"marker\":{\"colorbar\":{\"outlinewidth\":0,\"ticks\":\"\"}}}],\"bar\":[{\"error_x\":{\"color\":\"#2a3f5f\"},\"error_y\":{\"color\":\"#2a3f5f\"},\"marker\":{\"line\":{\"color\":\"#E5ECF6\",\"width\":0.5},\"pattern\":{\"fillmode\":\"overlay\",\"size\":10,\"solidity\":0.2}},\"type\":\"bar\"}],\"scattergeo\":[{\"type\":\"scattergeo\",\"marker\":{\"colorbar\":{\"outlinewidth\":0,\"ticks\":\"\"}}}],\"scatterpolar\":[{\"type\":\"scatterpolar\",\"marker\":{\"colorbar\":{\"outlinewidth\":0,\"ticks\":\"\"}}}],\"histogram\":[{\"marker\":{\"pattern\":{\"fillmode\":\"overlay\",\"size\":10,\"solidity\":0.2}},\"type\":\"histogram\"}],\"scattergl\":[{\"type\":\"scattergl\",\"marker\":{\"colorbar\":{\"outlinewidth\":0,\"ticks\":\"\"}}}],\"scatter3d\":[{\"type\":\"scatter3d\",\"line\":{\"colorbar\":{\"outlinewidth\":0,\"ticks\":\"\"}},\"marker\":{\"colorbar\":{\"outlinewidth\":0,\"ticks\":\"\"}}}],\"scattermapbox\":[{\"type\":\"scattermapbox\",\"marker\":{\"colorbar\":{\"outlinewidth\":0,\"ticks\":\"\"}}}],\"scatterternary\":[{\"type\":\"scatterternary\",\"marker\":{\"colorbar\":{\"outlinewidth\":0,\"ticks\":\"\"}}}],\"scattercarpet\":[{\"type\":\"scattercarpet\",\"marker\":{\"colorbar\":{\"outlinewidth\":0,\"ticks\":\"\"}}}],\"carpet\":[{\"aaxis\":{\"endlinecolor\":\"#2a3f5f\",\"gridcolor\":\"white\",\"linecolor\":\"white\",\"minorgridcolor\":\"white\",\"startlinecolor\":\"#2a3f5f\"},\"baxis\":{\"endlinecolor\":\"#2a3f5f\",\"gridcolor\":\"white\",\"linecolor\":\"white\",\"minorgridcolor\":\"white\",\"startlinecolor\":\"#2a3f5f\"},\"type\":\"carpet\"}],\"table\":[{\"cells\":{\"fill\":{\"color\":\"#EBF0F8\"},\"line\":{\"color\":\"white\"}},\"header\":{\"fill\":{\"color\":\"#C8D4E3\"},\"line\":{\"color\":\"white\"}},\"type\":\"table\"}],\"barpolar\":[{\"marker\":{\"line\":{\"color\":\"#E5ECF6\",\"width\":0.5},\"pattern\":{\"fillmode\":\"overlay\",\"size\":10,\"solidity\":0.2}},\"type\":\"barpolar\"}],\"pie\":[{\"automargin\":true,\"type\":\"pie\"}]},\"layout\":{\"autotypenumbers\":\"strict\",\"colorway\":[\"#636efa\",\"#EF553B\",\"#00cc96\",\"#ab63fa\",\"#FFA15A\",\"#19d3f3\",\"#FF6692\",\"#B6E880\",\"#FF97FF\",\"#FECB52\"],\"font\":{\"color\":\"#2a3f5f\"},\"hovermode\":\"closest\",\"hoverlabel\":{\"align\":\"left\"},\"paper_bgcolor\":\"white\",\"plot_bgcolor\":\"#E5ECF6\",\"polar\":{\"bgcolor\":\"#E5ECF6\",\"angularaxis\":{\"gridcolor\":\"white\",\"linecolor\":\"white\",\"ticks\":\"\"},\"radialaxis\":{\"gridcolor\":\"white\",\"linecolor\":\"white\",\"ticks\":\"\"}},\"ternary\":{\"bgcolor\":\"#E5ECF6\",\"aaxis\":{\"gridcolor\":\"white\",\"linecolor\":\"white\",\"ticks\":\"\"},\"baxis\":{\"gridcolor\":\"white\",\"linecolor\":\"white\",\"ticks\":\"\"},\"caxis\":{\"gridcolor\":\"white\",\"linecolor\":\"white\",\"ticks\":\"\"}},\"coloraxis\":{\"colorbar\":{\"outlinewidth\":0,\"ticks\":\"\"}},\"colorscale\":{\"sequential\":[[0.0,\"#0d0887\"],[0.1111111111111111,\"#46039f\"],[0.2222222222222222,\"#7201a8\"],[0.3333333333333333,\"#9c179e\"],[0.4444444444444444,\"#bd3786\"],[0.5555555555555556,\"#d8576b\"],[0.6666666666666666,\"#ed7953\"],[0.7777777777777778,\"#fb9f3a\"],[0.8888888888888888,\"#fdca26\"],[1.0,\"#f0f921\"]],\"sequentialminus\":[[0.0,\"#0d0887\"],[0.1111111111111111,\"#46039f\"],[0.2222222222222222,\"#7201a8\"],[0.3333333333333333,\"#9c179e\"],[0.4444444444444444,\"#bd3786\"],[0.5555555555555556,\"#d8576b\"],[0.6666666666666666,\"#ed7953\"],[0.7777777777777778,\"#fb9f3a\"],[0.8888888888888888,\"#fdca26\"],[1.0,\"#f0f921\"]],\"diverging\":[[0,\"#8e0152\"],[0.1,\"#c51b7d\"],[0.2,\"#de77ae\"],[0.3,\"#f1b6da\"],[0.4,\"#fde0ef\"],[0.5,\"#f7f7f7\"],[0.6,\"#e6f5d0\"],[0.7,\"#b8e186\"],[0.8,\"#7fbc41\"],[0.9,\"#4d9221\"],[1,\"#276419\"]]},\"xaxis\":{\"gridcolor\":\"white\",\"linecolor\":\"white\",\"ticks\":\"\",\"title\":{\"standoff\":15},\"zerolinecolor\":\"white\",\"automargin\":true,\"zerolinewidth\":2},\"yaxis\":{\"gridcolor\":\"white\",\"linecolor\":\"white\",\"ticks\":\"\",\"title\":{\"standoff\":15},\"zerolinecolor\":\"white\",\"automargin\":true,\"zerolinewidth\":2},\"scene\":{\"xaxis\":{\"backgroundcolor\":\"#E5ECF6\",\"gridcolor\":\"white\",\"linecolor\":\"white\",\"showbackground\":true,\"ticks\":\"\",\"zerolinecolor\":\"white\",\"gridwidth\":2},\"yaxis\":{\"backgroundcolor\":\"#E5ECF6\",\"gridcolor\":\"white\",\"linecolor\":\"white\",\"showbackground\":true,\"ticks\":\"\",\"zerolinecolor\":\"white\",\"gridwidth\":2},\"zaxis\":{\"backgroundcolor\":\"#E5ECF6\",\"gridcolor\":\"white\",\"linecolor\":\"white\",\"showbackground\":true,\"ticks\":\"\",\"zerolinecolor\":\"white\",\"gridwidth\":2}},\"shapedefaults\":{\"line\":{\"color\":\"#2a3f5f\"}},\"annotationdefaults\":{\"arrowcolor\":\"#2a3f5f\",\"arrowhead\":0,\"arrowwidth\":1},\"geo\":{\"bgcolor\":\"white\",\"landcolor\":\"#E5ECF6\",\"subunitcolor\":\"white\",\"showland\":true,\"showlakes\":true,\"lakecolor\":\"white\"},\"title\":{\"x\":0.05},\"mapbox\":{\"style\":\"light\"}}},\"xaxis\":{\"anchor\":\"y\",\"domain\":[0.0,1.0],\"scaleanchor\":\"y\",\"constrain\":\"domain\"},\"yaxis\":{\"anchor\":\"x\",\"domain\":[0.0,1.0],\"autorange\":\"reversed\",\"constrain\":\"domain\"},\"coloraxis\":{\"colorscale\":[[0.0,\"#0d0887\"],[0.1111111111111111,\"#46039f\"],[0.2222222222222222,\"#7201a8\"],[0.3333333333333333,\"#9c179e\"],[0.4444444444444444,\"#bd3786\"],[0.5555555555555556,\"#d8576b\"],[0.6666666666666666,\"#ed7953\"],[0.7777777777777778,\"#fb9f3a\"],[0.8888888888888888,\"#fdca26\"],[1.0,\"#f0f921\"]]},\"margin\":{\"t\":60}},                        {\"responsive\": true}                    ).then(function(){\n",
       "                            \n",
       "var gd = document.getElementById('4400a9c0-4eb0-45a4-b727-4ee1c88424a3');\n",
       "var x = new MutationObserver(function (mutations, observer) {{\n",
       "        var display = window.getComputedStyle(gd).display;\n",
       "        if (!display || display === 'none') {{\n",
       "            console.log([gd, 'removed!']);\n",
       "            Plotly.purge(gd);\n",
       "            observer.disconnect();\n",
       "        }}\n",
       "}});\n",
       "\n",
       "// Listen for the removal of the full notebook cells\n",
       "var notebookContainer = gd.closest('#notebook-container');\n",
       "if (notebookContainer) {{\n",
       "    x.observe(notebookContainer, {childList: true});\n",
       "}}\n",
       "\n",
       "// Listen for the clearing of the current output cell\n",
       "var outputEl = gd.closest('.output');\n",
       "if (outputEl) {{\n",
       "    x.observe(outputEl, {childList: true});\n",
       "}}\n",
       "\n",
       "                        })                };                });            </script>        </div>"
      ]
     },
     "metadata": {},
     "output_type": "display_data"
    }
   ],
   "source": [
    "px.imshow(t)"
   ]
  },
  {
   "cell_type": "code",
   "execution_count": null,
   "metadata": {},
   "outputs": [],
   "source": []
  }
 ],
 "metadata": {
  "kernelspec": {
   "display_name": "PyRL3.10",
   "language": "python",
   "name": "pyrl3.10"
  },
  "language_info": {
   "codemirror_mode": {
    "name": "ipython",
    "version": 3
   },
   "file_extension": ".py",
   "mimetype": "text/x-python",
   "name": "python",
   "nbconvert_exporter": "python",
   "pygments_lexer": "ipython3",
   "version": "3.10.4"
  },
  "neptune": {
   "notebookId": "45d03d69-6ac7-41ca-8af8-80caaa73aad5",
   "projectVersion": 2
  },
  "toc-autonumbering": false,
  "toc-showtags": false,
  "widgets": {
   "application/vnd.jupyter.widget-state+json": {
    "state": {},
    "version_major": 2,
    "version_minor": 0
   }
  }
 },
 "nbformat": 4,
 "nbformat_minor": 4
}
